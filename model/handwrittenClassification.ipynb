{
  "nbformat": 4,
  "nbformat_minor": 0,
  "metadata": {
    "colab": {
      "provenance": [],
      "authorship_tag": "ABX9TyPkPDH0DhzRHwRHHTXtzaFN",
      "include_colab_link": true
    },
    "kernelspec": {
      "name": "python3",
      "display_name": "Python 3"
    },
    "language_info": {
      "name": "python"
    },
    "accelerator": "GPU",
    "gpuClass": "standard"
  },
  "cells": [
    {
      "cell_type": "markdown",
      "metadata": {
        "id": "view-in-github",
        "colab_type": "text"
      },
      "source": [
        "<a href=\"https://colab.research.google.com/github/aymanred121/handwritten-signature-recognition/blob/main/model/handwrittenClassification.ipynb\" target=\"_parent\"><img src=\"https://colab.research.google.com/assets/colab-badge.svg\" alt=\"Open In Colab\"/></a>"
      ]
    },
    {
      "cell_type": "code",
      "execution_count": 44,
      "metadata": {
        "id": "SGcKnmhDJUha"
      },
      "outputs": [],
      "source": [
        "import numpy as np\n",
        "import pandas as pd\n",
        "import matplotlib.pyplot as plt\n",
        "from sklearn.model_selection import train_test_split\n",
        "from sklearn.preprocessing import StandardScaler\n",
        "from sklearn.linear_model import LogisticRegression\n",
        "from sklearn.metrics import confusion_matrix\n",
        "from matplotlib.colors import ListedColormap\n",
        "import tensorflow as tf\n",
        "from tensorflow.keras.models import Sequential\n",
        "from tensorflow.keras.layers import Dense\n",
        "from tensorflow.keras.layers import Dropout\n",
        "from tensorflow.keras.layers import Flatten\n",
        "from tensorflow.keras.layers import Conv2D\n",
        "from tensorflow.keras import datasets, layers, models\n",
        "import cv2"
      ]
    },
    {
      "cell_type": "code",
      "source": [
        "!rm -rf /content/*"
      ],
      "metadata": {
        "id": "ED3pBNvkefIo"
      },
      "execution_count": 45,
      "outputs": []
    },
    {
      "cell_type": "code",
      "source": [
        "!gdown 1WqIhqp9JJ65SZPs9v868P_-SBCVTR2By"
      ],
      "metadata": {
        "colab": {
          "base_uri": "https://localhost:8080/"
        },
        "id": "myAoYuyOJbJa",
        "outputId": "627872c0-7ebe-415d-8978-706039e479e7"
      },
      "execution_count": 46,
      "outputs": [
        {
          "output_type": "stream",
          "name": "stdout",
          "text": [
            "Downloading...\n",
            "From: https://drive.google.com/uc?id=1WqIhqp9JJ65SZPs9v868P_-SBCVTR2By\n",
            "To: /content/CV_2023_SC_Dataset.zip\n",
            "\r  0% 0.00/1.20M [00:00<?, ?B/s]\r100% 1.20M/1.20M [00:00<00:00, 158MB/s]\n"
          ]
        }
      ]
    },
    {
      "cell_type": "code",
      "source": [
        "!unzip /content/CV_2023_SC_Dataset.zip -d /content/data"
      ],
      "metadata": {
        "colab": {
          "base_uri": "https://localhost:8080/"
        },
        "id": "b2KSD4IJJ7AH",
        "outputId": "babbb4c0-912c-46c9-81ee-ac1a97f00da4"
      },
      "execution_count": 47,
      "outputs": [
        {
          "output_type": "stream",
          "name": "stdout",
          "text": [
            "Archive:  /content/CV_2023_SC_Dataset.zip\n",
            "   creating: /content/data/personA/Test/\n",
            "  inflating: /content/data/personA/Test/personA_10.png  \n",
            "  inflating: /content/data/personA/Test/personA_13.png  \n",
            "  inflating: /content/data/personA/Test/personA_2.png  \n",
            "  inflating: /content/data/personA/Test/personA_20.png  \n",
            "  inflating: /content/data/personA/Test/personA_27.png  \n",
            "  inflating: /content/data/personA/Test/personA_29.png  \n",
            "  inflating: /content/data/personA/Test/personA_30.png  \n",
            "  inflating: /content/data/personA/Test/personA_42.png  \n",
            "  inflating: /content/data/personA/Test/personA_SigVerificationTestLabels.csv  \n",
            "   creating: /content/data/personA/Train/\n",
            "  inflating: /content/data/personA/Train/personA_1.png  \n",
            "  inflating: /content/data/personA/Train/personA_11.png  \n",
            "  inflating: /content/data/personA/Train/personA_12.png  \n",
            "  inflating: /content/data/personA/Train/personA_14.png  \n",
            "  inflating: /content/data/personA/Train/personA_15.png  \n",
            "  inflating: /content/data/personA/Train/personA_16.png  \n",
            "  inflating: /content/data/personA/Train/personA_17.png  \n",
            "  inflating: /content/data/personA/Train/personA_18.png  \n",
            "  inflating: /content/data/personA/Train/personA_19.png  \n",
            "  inflating: /content/data/personA/Train/personA_21.png  \n",
            "  inflating: /content/data/personA/Train/personA_22.png  \n",
            "  inflating: /content/data/personA/Train/personA_23.png  \n",
            "  inflating: /content/data/personA/Train/personA_24.png  \n",
            "  inflating: /content/data/personA/Train/personA_25.png  \n",
            "  inflating: /content/data/personA/Train/personA_26.png  \n",
            "  inflating: /content/data/personA/Train/personA_28.png  \n",
            "  inflating: /content/data/personA/Train/personA_3.png  \n",
            "  inflating: /content/data/personA/Train/personA_31.png  \n",
            "  inflating: /content/data/personA/Train/personA_32.png  \n",
            "  inflating: /content/data/personA/Train/personA_33.png  \n",
            "  inflating: /content/data/personA/Train/personA_34.png  \n",
            "  inflating: /content/data/personA/Train/personA_35.png  \n",
            "  inflating: /content/data/personA/Train/personA_36.png  \n",
            "  inflating: /content/data/personA/Train/personA_37.png  \n",
            "  inflating: /content/data/personA/Train/personA_38.png  \n",
            "  inflating: /content/data/personA/Train/personA_39.png  \n",
            "  inflating: /content/data/personA/Train/personA_4.png  \n",
            "  inflating: /content/data/personA/Train/personA_40.png  \n",
            "  inflating: /content/data/personA/Train/personA_41.png  \n",
            "  inflating: /content/data/personA/Train/personA_43.png  \n",
            "  inflating: /content/data/personA/Train/personA_44.png  \n",
            "  inflating: /content/data/personA/Train/personA_45.png  \n",
            "  inflating: /content/data/personA/Train/personA_46.png  \n",
            "  inflating: /content/data/personA/Train/personA_47.png  \n",
            "  inflating: /content/data/personA/Train/personA_48.png  \n",
            "  inflating: /content/data/personA/Train/personA_5.png  \n",
            "  inflating: /content/data/personA/Train/personA_6.png  \n",
            "  inflating: /content/data/personA/Train/personA_7.png  \n",
            "  inflating: /content/data/personA/Train/personA_8.png  \n",
            "  inflating: /content/data/personA/Train/personA_9.png  \n",
            "  inflating: /content/data/personA/Train/personA_SigVerificationTrainLabels.csv  \n",
            "   creating: /content/data/personB/Test/\n",
            "  inflating: /content/data/personB/Test/personB_10.png  \n",
            "  inflating: /content/data/personB/Test/personB_13.png  \n",
            "  inflating: /content/data/personB/Test/personB_2.png  \n",
            "  inflating: /content/data/personB/Test/personB_20.png  \n",
            "  inflating: /content/data/personB/Test/personB_27.png  \n",
            "  inflating: /content/data/personB/Test/personB_29.png  \n",
            "  inflating: /content/data/personB/Test/personB_33.png  \n",
            "  inflating: /content/data/personB/Test/personB_42.png  \n",
            "  inflating: /content/data/personB/Test/personB_SigVerificationTestLabels.csv  \n",
            "   creating: /content/data/personB/Train/\n",
            "  inflating: /content/data/personB/Train/personB_1.png  \n",
            "  inflating: /content/data/personB/Train/personB_11.png  \n",
            "  inflating: /content/data/personB/Train/personB_12.png  \n",
            "  inflating: /content/data/personB/Train/personB_14.png  \n",
            "  inflating: /content/data/personB/Train/personB_15.png  \n",
            "  inflating: /content/data/personB/Train/personB_16.png  \n",
            "  inflating: /content/data/personB/Train/personB_17.png  \n",
            "  inflating: /content/data/personB/Train/personB_18.png  \n",
            "  inflating: /content/data/personB/Train/personB_19.png  \n",
            "  inflating: /content/data/personB/Train/personB_21.png  \n",
            "  inflating: /content/data/personB/Train/personB_22.png  \n",
            "  inflating: /content/data/personB/Train/personB_23.png  \n",
            "  inflating: /content/data/personB/Train/personB_24.png  \n",
            "  inflating: /content/data/personB/Train/personB_25.png  \n",
            "  inflating: /content/data/personB/Train/personB_26.png  \n",
            "  inflating: /content/data/personB/Train/personB_28.png  \n",
            "  inflating: /content/data/personB/Train/personB_3.png  \n",
            "  inflating: /content/data/personB/Train/personB_30.png  \n",
            "  inflating: /content/data/personB/Train/personB_31.png  \n",
            "  inflating: /content/data/personB/Train/personB_32.png  \n",
            "  inflating: /content/data/personB/Train/personB_34.png  \n",
            "  inflating: /content/data/personB/Train/personB_35.png  \n",
            "  inflating: /content/data/personB/Train/personB_36.png  \n",
            "  inflating: /content/data/personB/Train/personB_37.png  \n",
            "  inflating: /content/data/personB/Train/personB_38.png  \n",
            "  inflating: /content/data/personB/Train/personB_39.png  \n",
            "  inflating: /content/data/personB/Train/personB_4.png  \n",
            "  inflating: /content/data/personB/Train/personB_40.png  \n",
            "  inflating: /content/data/personB/Train/personB_41.png  \n",
            "  inflating: /content/data/personB/Train/personB_43.png  \n",
            "  inflating: /content/data/personB/Train/personB_44.png  \n",
            "  inflating: /content/data/personB/Train/personB_45.png  \n",
            "  inflating: /content/data/personB/Train/personB_46.png  \n",
            "  inflating: /content/data/personB/Train/personB_47.png  \n",
            "  inflating: /content/data/personB/Train/personB_48.png  \n",
            "  inflating: /content/data/personB/Train/personB_5.png  \n",
            "  inflating: /content/data/personB/Train/personB_6.png  \n",
            "  inflating: /content/data/personB/Train/personB_7.png  \n",
            "  inflating: /content/data/personB/Train/personB_8.png  \n",
            "  inflating: /content/data/personB/Train/personB_9.png  \n",
            "  inflating: /content/data/personB/Train/personB_SigVerificationTrainLabels.csv  \n",
            "   creating: /content/data/personC/Test/\n",
            "  inflating: /content/data/personC/Test/personC_13.png  \n",
            "  inflating: /content/data/personC/Test/personC_17.png  \n",
            "  inflating: /content/data/personC/Test/personC_19.png  \n",
            "  inflating: /content/data/personC/Test/personC_32.png  \n",
            "  inflating: /content/data/personC/Test/personC_34.png  \n",
            "  inflating: /content/data/personC/Test/personC_39.png  \n",
            "  inflating: /content/data/personC/Test/personC_6.png  \n",
            "  inflating: /content/data/personC/Test/personC_8.png  \n",
            "  inflating: /content/data/personC/Test/personC_SigVerificationTestLabels.csv  \n",
            "   creating: /content/data/personC/Train/\n",
            "  inflating: /content/data/personC/Train/personC_1.png  \n",
            "  inflating: /content/data/personC/Train/personC_10.png  \n",
            "  inflating: /content/data/personC/Train/personC_11.png  \n",
            "  inflating: /content/data/personC/Train/personC_12.png  \n",
            "  inflating: /content/data/personC/Train/personC_14.png  \n",
            "  inflating: /content/data/personC/Train/personC_15.png  \n",
            "  inflating: /content/data/personC/Train/personC_16.png  \n",
            "  inflating: /content/data/personC/Train/personC_18.png  \n",
            "  inflating: /content/data/personC/Train/personC_2.png  \n",
            "  inflating: /content/data/personC/Train/personC_20.png  \n",
            "  inflating: /content/data/personC/Train/personC_21.png  \n",
            "  inflating: /content/data/personC/Train/personC_22.png  \n",
            "  inflating: /content/data/personC/Train/personC_23.png  \n",
            "  inflating: /content/data/personC/Train/personC_24.png  \n",
            "  inflating: /content/data/personC/Train/personC_25.png  \n",
            "  inflating: /content/data/personC/Train/personC_26.png  \n",
            "  inflating: /content/data/personC/Train/personC_27.png  \n",
            "  inflating: /content/data/personC/Train/personC_28.png  \n",
            "  inflating: /content/data/personC/Train/personC_29.png  \n",
            "  inflating: /content/data/personC/Train/personC_3.png  \n",
            "  inflating: /content/data/personC/Train/personC_30.png  \n",
            "  inflating: /content/data/personC/Train/personC_31.png  \n",
            "  inflating: /content/data/personC/Train/personC_33.png  \n",
            "  inflating: /content/data/personC/Train/personC_35.png  \n",
            "  inflating: /content/data/personC/Train/personC_36.png  \n",
            "  inflating: /content/data/personC/Train/personC_37.png  \n",
            "  inflating: /content/data/personC/Train/personC_38.png  \n",
            "  inflating: /content/data/personC/Train/personC_4.png  \n",
            "  inflating: /content/data/personC/Train/personC_40.png  \n",
            "  inflating: /content/data/personC/Train/personC_41.png  \n",
            "  inflating: /content/data/personC/Train/personC_42.png  \n",
            "  inflating: /content/data/personC/Train/personC_43.png  \n",
            "  inflating: /content/data/personC/Train/personC_44.png  \n",
            "  inflating: /content/data/personC/Train/personC_45.png  \n",
            "  inflating: /content/data/personC/Train/personC_46.png  \n",
            "  inflating: /content/data/personC/Train/personC_47.png  \n",
            "  inflating: /content/data/personC/Train/personC_48.png  \n",
            "  inflating: /content/data/personC/Train/personC_5.png  \n",
            "  inflating: /content/data/personC/Train/personC_7.png  \n",
            "  inflating: /content/data/personC/Train/personC_9.png  \n",
            "  inflating: /content/data/personC/Train/personC_SigVerificationTrainLabels.csv  \n",
            "   creating: /content/data/personD/Test/\n",
            "  inflating: /content/data/personD/Test/personD_14.png  \n",
            "  inflating: /content/data/personD/Test/personD_15.png  \n",
            "  inflating: /content/data/personD/Test/personD_17.png  \n",
            "  inflating: /content/data/personD/Test/personD_21.png  \n",
            "  inflating: /content/data/personD/Test/personD_22.png  \n",
            "  inflating: /content/data/personD/Test/personD_26.png  \n",
            "  inflating: /content/data/personD/Test/personD_31.png  \n",
            "  inflating: /content/data/personD/Test/personD_41.png  \n",
            "  inflating: /content/data/personD/Test/personD_SigVerificationTestLabels.csv  \n",
            "   creating: /content/data/personD/Train/\n",
            "  inflating: /content/data/personD/Train/personD_1.png  \n",
            "  inflating: /content/data/personD/Train/personD_10.png  \n",
            "  inflating: /content/data/personD/Train/personD_11.png  \n",
            "  inflating: /content/data/personD/Train/personD_12.png  \n",
            "  inflating: /content/data/personD/Train/personD_13.png  \n",
            "  inflating: /content/data/personD/Train/personD_16.png  \n",
            "  inflating: /content/data/personD/Train/personD_18.png  \n",
            "  inflating: /content/data/personD/Train/personD_19.png  \n",
            "  inflating: /content/data/personD/Train/personD_2.png  \n",
            "  inflating: /content/data/personD/Train/personD_20.png  \n",
            "  inflating: /content/data/personD/Train/personD_23.png  \n",
            "  inflating: /content/data/personD/Train/personD_24.png  \n",
            "  inflating: /content/data/personD/Train/personD_25.png  \n",
            "  inflating: /content/data/personD/Train/personD_27.png  \n",
            "  inflating: /content/data/personD/Train/personD_28.png  \n",
            "  inflating: /content/data/personD/Train/personD_29.png  \n",
            "  inflating: /content/data/personD/Train/personD_3.png  \n",
            "  inflating: /content/data/personD/Train/personD_30.png  \n",
            "  inflating: /content/data/personD/Train/personD_32.png  \n",
            "  inflating: /content/data/personD/Train/personD_33.png  \n",
            "  inflating: /content/data/personD/Train/personD_34.png  \n",
            "  inflating: /content/data/personD/Train/personD_35.png  \n",
            "  inflating: /content/data/personD/Train/personD_36.png  \n",
            "  inflating: /content/data/personD/Train/personD_37.png  \n",
            "  inflating: /content/data/personD/Train/personD_38.png  \n",
            "  inflating: /content/data/personD/Train/personD_39.png  \n",
            "  inflating: /content/data/personD/Train/personD_4.png  \n",
            "  inflating: /content/data/personD/Train/personD_40.png  \n",
            "  inflating: /content/data/personD/Train/personD_42.png  \n",
            "  inflating: /content/data/personD/Train/personD_43.png  \n",
            "  inflating: /content/data/personD/Train/personD_44.png  \n",
            "  inflating: /content/data/personD/Train/personD_45.png  \n",
            "  inflating: /content/data/personD/Train/personD_46.png  \n",
            "  inflating: /content/data/personD/Train/personD_47.png  \n",
            "  inflating: /content/data/personD/Train/personD_48.png  \n",
            "  inflating: /content/data/personD/Train/personD_5.png  \n",
            "  inflating: /content/data/personD/Train/personD_6.png  \n",
            "  inflating: /content/data/personD/Train/personD_7.png  \n",
            "  inflating: /content/data/personD/Train/personD_8.png  \n",
            "  inflating: /content/data/personD/Train/personD_9.png  \n",
            "  inflating: /content/data/personD/Train/personD_SigVerificationTrainLabels.csv  \n",
            "   creating: /content/data/personE/Test/\n",
            "  inflating: /content/data/personE/Test/personE_15.png  \n",
            "  inflating: /content/data/personE/Test/personE_17.png  \n",
            "  inflating: /content/data/personE/Test/personE_18.png  \n",
            "  inflating: /content/data/personE/Test/personE_22.png  \n",
            "  inflating: /content/data/personE/Test/personE_27.png  \n",
            "  inflating: /content/data/personE/Test/personE_32.png  \n",
            "  inflating: /content/data/personE/Test/personE_35.png  \n",
            "  inflating: /content/data/personE/Test/personE_40.png  \n",
            "  inflating: /content/data/personE/Test/personE_SigVerificationTestLabels.csv  \n",
            "   creating: /content/data/personE/Train/\n",
            "  inflating: /content/data/personE/Train/personE_1.png  \n",
            "  inflating: /content/data/personE/Train/personE_10.png  \n",
            "  inflating: /content/data/personE/Train/personE_11.png  \n",
            "  inflating: /content/data/personE/Train/personE_12.png  \n",
            "  inflating: /content/data/personE/Train/personE_13.png  \n",
            "  inflating: /content/data/personE/Train/personE_14.png  \n",
            "  inflating: /content/data/personE/Train/personE_16.png  \n",
            "  inflating: /content/data/personE/Train/personE_19.png  \n",
            "  inflating: /content/data/personE/Train/personE_2.png  \n",
            "  inflating: /content/data/personE/Train/personE_20.png  \n",
            "  inflating: /content/data/personE/Train/personE_21.png  \n",
            "  inflating: /content/data/personE/Train/personE_23.png  \n",
            "  inflating: /content/data/personE/Train/personE_24.png  \n",
            "  inflating: /content/data/personE/Train/personE_25.png  \n",
            "  inflating: /content/data/personE/Train/personE_26.png  \n",
            "  inflating: /content/data/personE/Train/personE_28.png  \n",
            "  inflating: /content/data/personE/Train/personE_29.png  \n",
            "  inflating: /content/data/personE/Train/personE_3.png  \n",
            "  inflating: /content/data/personE/Train/personE_30.png  \n",
            "  inflating: /content/data/personE/Train/personE_31.png  \n",
            "  inflating: /content/data/personE/Train/personE_33.png  \n",
            "  inflating: /content/data/personE/Train/personE_34.png  \n",
            "  inflating: /content/data/personE/Train/personE_36.png  \n",
            "  inflating: /content/data/personE/Train/personE_37.png  \n",
            "  inflating: /content/data/personE/Train/personE_38.png  \n",
            "  inflating: /content/data/personE/Train/personE_39.png  \n",
            "  inflating: /content/data/personE/Train/personE_4.png  \n",
            "  inflating: /content/data/personE/Train/personE_41.png  \n",
            "  inflating: /content/data/personE/Train/personE_42.png  \n",
            "  inflating: /content/data/personE/Train/personE_43.png  \n",
            "  inflating: /content/data/personE/Train/personE_44.png  \n",
            "  inflating: /content/data/personE/Train/personE_45.png  \n",
            "  inflating: /content/data/personE/Train/personE_46.png  \n",
            "  inflating: /content/data/personE/Train/personE_47.png  \n",
            "  inflating: /content/data/personE/Train/personE_48.png  \n",
            "  inflating: /content/data/personE/Train/personE_5.png  \n",
            "  inflating: /content/data/personE/Train/personE_6.png  \n",
            "  inflating: /content/data/personE/Train/personE_7.png  \n",
            "  inflating: /content/data/personE/Train/personE_8.png  \n",
            "  inflating: /content/data/personE/Train/personE_9.png  \n",
            "  inflating: /content/data/personE/Train/personE_SigVerificationTrainLabels.csv  \n"
          ]
        }
      ]
    },
    {
      "cell_type": "code",
      "source": [
        "import os\n",
        "persons = ['A','B','C','D','E']\n",
        "os.mkdir('/content/Train')\n",
        "os.mkdir('/content/Test')\n",
        "for p in persons:\n",
        "    os.mkdir('/content/Train/person'+p)\n",
        "    os.mkdir('/content/Test/person'+p)\n",
        "    "
      ],
      "metadata": {
        "id": "DtuGHsO3XPLP"
      },
      "execution_count": 48,
      "outputs": []
    },
    {
      "cell_type": "code",
      "source": [
        "import shutil\n",
        "import os\n",
        "import glob\n",
        "for p in os.listdir('data'):\n",
        "  print(p)\n",
        "  for f in os.listdir(f'data/{p}'):\n",
        "    for d in glob.glob(f'/content/data/{p}/{f}/*'):\n",
        "      shutil.move(d,f'/content/{f}/{p}')"
      ],
      "metadata": {
        "colab": {
          "base_uri": "https://localhost:8080/"
        },
        "id": "mLuXTZMwW5JL",
        "outputId": "5756783e-ab3f-4aad-b964-fdbe6bbe3692"
      },
      "execution_count": 49,
      "outputs": [
        {
          "output_type": "stream",
          "name": "stdout",
          "text": [
            "personB\n",
            "personA\n",
            "personC\n",
            "personE\n",
            "personD\n"
          ]
        }
      ]
    },
    {
      "cell_type": "code",
      "source": [
        "persons = ['A','B','C','D','E']\n",
        "df = pd.DataFrame()\n",
        "for person in  persons:\n",
        "  path = f'/content/Train/person{person}/person{person}_SigVerificationTrainLabels.csv'\n",
        "  tempdf = pd.read_csv(path)\n",
        "  tempdf['person'] = person\n",
        "  df = df.append(tempdf)"
      ],
      "metadata": {
        "id": "iLBataXhKjwh"
      },
      "execution_count": 50,
      "outputs": []
    },
    {
      "cell_type": "code",
      "source": [
        "df = df.sample(frac=1).reset_index(drop=True)\n"
      ],
      "metadata": {
        "id": "_sDQreT_LxCg"
      },
      "execution_count": 51,
      "outputs": []
    },
    {
      "cell_type": "code",
      "source": [
        "person = {\n",
        "    'A': 0,\n",
        "    'B': 1,\n",
        "    'C': 2,\n",
        "    'D': 3,\n",
        "    'E': 4\n",
        "}\n",
        "df['person'] = df['person'].map(person)"
      ],
      "metadata": {
        "id": "gPJNo6zLMg2m"
      },
      "execution_count": 52,
      "outputs": []
    },
    {
      "cell_type": "code",
      "source": [
        "labels = {\n",
        "    'real':0,\n",
        "    'forged':1\n",
        "}\n",
        "df['label'] = df['label'].map(labels)"
      ],
      "metadata": {
        "id": "8d5QqZe-Mz4o"
      },
      "execution_count": 53,
      "outputs": []
    },
    {
      "cell_type": "code",
      "source": [
        "df['person'].value_counts()"
      ],
      "metadata": {
        "colab": {
          "base_uri": "https://localhost:8080/"
        },
        "id": "aJ0ZNqP0Mrua",
        "outputId": "8679d975-5686-4827-e420-aea7418f92ad"
      },
      "execution_count": 54,
      "outputs": [
        {
          "output_type": "execute_result",
          "data": {
            "text/plain": [
              "2    40\n",
              "1    40\n",
              "4    40\n",
              "3    40\n",
              "0    40\n",
              "Name: person, dtype: int64"
            ]
          },
          "metadata": {},
          "execution_count": 54
        }
      ]
    },
    {
      "cell_type": "code",
      "source": [
        "dad=cv2.imread('/content/Test/personA/personA_10.png')"
      ],
      "metadata": {
        "id": "ZlqgTw3DPWah"
      },
      "execution_count": 55,
      "outputs": []
    },
    {
      "cell_type": "code",
      "source": [
        "dad.shape"
      ],
      "metadata": {
        "colab": {
          "base_uri": "https://localhost:8080/"
        },
        "id": "axz4H3rTPpRB",
        "outputId": "97ed8248-e2cf-4520-a8b8-6c93bd2f62a6"
      },
      "execution_count": 56,
      "outputs": [
        {
          "output_type": "execute_result",
          "data": {
            "text/plain": [
              "(318, 343, 3)"
            ]
          },
          "metadata": {},
          "execution_count": 56
        }
      ]
    },
    {
      "cell_type": "code",
      "source": [
        "model = models.Sequential([\n",
        "    layers.Conv2D(96, (11, 11), activation='relu', input_shape=(215, 90, 1),strides=4),\n",
        "    layers.MaxPooling2D((3,3),strides=(4,4),padding='same'),\n",
        "    layers.Conv2D(256, (5, 5), activation='relu',padding='same'),\n",
        "    layers.MaxPooling2D((3,3),padding='same'),\n",
        "    layers.Conv2D(384, (3, 3), activation='relu',strides=1,padding='same'),\n",
        "\n",
        "    layers.Conv2D(384, (3, 3), activation='relu',strides=1,padding='same'),\n",
        "\n",
        "    layers.Conv2D(256, (3, 3), activation='relu',strides=1,padding='same'),\n",
        "    layers.MaxPooling2D((3,3),strides=2,padding='same'),\n",
        "    layers.Flatten(),\n",
        "    layers.Dense(4096, activation='relu'),\n",
        "    layers.Dropout(0.5),\n",
        "    layers.Dense(4096, activation='relu'),\n",
        "    layers.Dropout(0.5),\n",
        "    layers.Dense(5, activation='softmax')\n",
        "])\n",
        "\n",
        "model.compile(optimizer='adam',\n",
        "\n",
        "              loss='sparse_categorical_crossentropy',\n",
        "              metrics=['acc'])\n"
      ],
      "metadata": {
        "id": "TmXPyEsjN_Ja"
      },
      "execution_count": 57,
      "outputs": []
    },
    {
      "cell_type": "code",
      "source": [
        "model.summary()"
      ],
      "metadata": {
        "colab": {
          "base_uri": "https://localhost:8080/"
        },
        "id": "vY5y1E3iUCff",
        "outputId": "a4ef0ab2-6b96-42dd-8da0-f7eb03e14ddb"
      },
      "execution_count": 58,
      "outputs": [
        {
          "output_type": "stream",
          "name": "stdout",
          "text": [
            "Model: \"sequential_1\"\n",
            "_________________________________________________________________\n",
            " Layer (type)                Output Shape              Param #   \n",
            "=================================================================\n",
            " conv2d_5 (Conv2D)           (None, 52, 20, 96)        11712     \n",
            "                                                                 \n",
            " max_pooling2d_3 (MaxPooling  (None, 13, 5, 96)        0         \n",
            " 2D)                                                             \n",
            "                                                                 \n",
            " conv2d_6 (Conv2D)           (None, 13, 5, 256)        614656    \n",
            "                                                                 \n",
            " max_pooling2d_4 (MaxPooling  (None, 5, 2, 256)        0         \n",
            " 2D)                                                             \n",
            "                                                                 \n",
            " conv2d_7 (Conv2D)           (None, 5, 2, 384)         885120    \n",
            "                                                                 \n",
            " conv2d_8 (Conv2D)           (None, 5, 2, 384)         1327488   \n",
            "                                                                 \n",
            " conv2d_9 (Conv2D)           (None, 5, 2, 256)         884992    \n",
            "                                                                 \n",
            " max_pooling2d_5 (MaxPooling  (None, 3, 1, 256)        0         \n",
            " 2D)                                                             \n",
            "                                                                 \n",
            " flatten_1 (Flatten)         (None, 768)               0         \n",
            "                                                                 \n",
            " dense_3 (Dense)             (None, 4096)              3149824   \n",
            "                                                                 \n",
            " dropout_2 (Dropout)         (None, 4096)              0         \n",
            "                                                                 \n",
            " dense_4 (Dense)             (None, 4096)              16781312  \n",
            "                                                                 \n",
            " dropout_3 (Dropout)         (None, 4096)              0         \n",
            "                                                                 \n",
            " dense_5 (Dense)             (None, 5)                 20485     \n",
            "                                                                 \n",
            "=================================================================\n",
            "Total params: 23,675,589\n",
            "Trainable params: 23,675,589\n",
            "Non-trainable params: 0\n",
            "_________________________________________________________________\n"
          ]
        }
      ]
    },
    {
      "cell_type": "code",
      "source": [
        "ds_train = tf.keras.preprocessing.image_dataset_from_directory(\n",
        "    \"Train/\",\n",
        "    labels=\"inferred\",\n",
        "    label_mode=\"int\",  # categorical, binary\n",
        "    # class_names=['0', '1', '2', '3', ...]\n",
        "    color_mode=\"grayscale\",\n",
        "    batch_size=32,\n",
        "    image_size=(215, 90),  # reshape if not in this size\n",
        "    shuffle=True,\n",
        "    seed=123,\n",
        "    validation_split=0.1,\n",
        "    subset=\"training\",\n",
        ")\n",
        "\n",
        "ds_validation = tf.keras.preprocessing.image_dataset_from_directory(\n",
        "    \"Train/\",\n",
        "    labels=\"inferred\",\n",
        "    label_mode=\"int\",  # categorical, binary\n",
        "    # class_names=['0', '1', '2', '3', ...]\n",
        "    color_mode=\"grayscale\",\n",
        "    batch_size=32,\n",
        "    image_size=(215, 90),  # reshape if not in this size\n",
        "    shuffle=True,\n",
        "    seed=123,\n",
        "    validation_split=0.1,\n",
        "    subset=\"validation\",\n",
        ")\n",
        "ds_test = tf.keras.preprocessing.image_dataset_from_directory(\n",
        "    \"Test/\",\n",
        "    labels=\"inferred\",\n",
        "    label_mode=\"int\",  # categorical, binary\n",
        "    # class_names=['0', '1', '2', '3', ...]\n",
        "     color_mode=\"grayscale\",\n",
        "    batch_size=32,\n",
        "    image_size=(215, 90),  # reshape if not in this size\n",
        "    shuffle=True,\n",
        "    seed=123,\n",
        "    )"
      ],
      "metadata": {
        "colab": {
          "base_uri": "https://localhost:8080/"
        },
        "id": "cLk3gtzsUoyR",
        "outputId": "6a56be90-f846-4377-9823-1607ee8ece4f"
      },
      "execution_count": 59,
      "outputs": [
        {
          "output_type": "stream",
          "name": "stdout",
          "text": [
            "Found 200 files belonging to 5 classes.\n",
            "Using 180 files for training.\n",
            "Found 200 files belonging to 5 classes.\n",
            "Using 20 files for validation.\n",
            "Found 40 files belonging to 5 classes.\n"
          ]
        }
      ]
    },
    {
      "cell_type": "code",
      "source": [
        "history = model.fit(ds_train,epochs=50,validation_data=ds_validation)"
      ],
      "metadata": {
        "id": "8PbrxycFawUc"
      },
      "execution_count": null,
      "outputs": []
    },
    {
      "cell_type": "code",
      "source": [
        "import matplotlib.image  as mpimg\n",
        "import matplotlib.pyplot as plt\n",
        "acc=history.history['acc']\n",
        "val_acc=history.history['val_acc']\n",
        "loss=history.history['loss']\n",
        "val_loss=history.history['val_loss']\n",
        "\n",
        "epochs=range(len(acc)) \n",
        "plt.plot(epochs, acc, 'r', \"Training Accuracy\")\n",
        "plt.plot(epochs, val_acc, 'b', \"Validation Accuracy\")\n",
        "plt.title('Training and validation accuracy')\n",
        "plt.figure()\n",
        "\n",
        "plt.plot(epochs, loss, 'r', \"Training Loss\")\n",
        "plt.plot(epochs, val_loss, 'b', \"Validation Loss\")\n",
        "\n"
      ],
      "metadata": {
        "colab": {
          "base_uri": "https://localhost:8080/",
          "height": 566
        },
        "id": "0RzmNXLScpuv",
        "outputId": "acbee647-0ba7-407a-f58c-c460a30e7571"
      },
      "execution_count": 61,
      "outputs": [
        {
          "output_type": "execute_result",
          "data": {
            "text/plain": [
              "[<matplotlib.lines.Line2D at 0x7f8ca6274850>,\n",
              " <matplotlib.lines.Line2D at 0x7f8ca6274a90>]"
            ]
          },
          "metadata": {},
          "execution_count": 61
        },
        {
          "output_type": "display_data",
          "data": {
            "text/plain": [
              "<Figure size 432x288 with 1 Axes>"
            ],
            "image/png": "[encoded data removed]"
          },
          "metadata": {
            "needs_background": "light"
          }
        },
        {
          "output_type": "display_data",
          "data": {
            "text/plain": [
              "<Figure size 432x288 with 1 Axes>"
            ],
            "image/png": "[encoded data removed]"
          },
          "metadata": {
            "needs_background": "light"
          }
        }
      ]
    },
    {
      "cell_type": "code",
      "source": [
        "model.evaluate(ds_test)"
      ],
      "metadata": {
        "colab": {
          "base_uri": "https://localhost:8080/"
        },
        "id": "bACj3JRodUVM",
        "outputId": "c55e3be4-598e-41d9-cd5b-bb02dbe854ba"
      },
      "execution_count": 62,
      "outputs": [
        {
          "output_type": "stream",
          "name": "stdout",
          "text": [
            "2/2 [==============================] - 0s 8ms/step - loss: 0.0271 - acc: 1.0000\n"
          ]
        },
        {
          "output_type": "execute_result",
          "data": {
            "text/plain": [
              "[0.02708061970770359, 1.0]"
            ]
          },
          "metadata": {},
          "execution_count": 62
        }
      ]
    },
    {
      "cell_type": "code",
      "source": [],
      "metadata": {
        "id": "HY6S4fvTd3Vn"
      },
      "execution_count": 62,
      "outputs": []
    }
  ]
}