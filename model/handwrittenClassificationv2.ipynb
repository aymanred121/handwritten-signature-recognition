{
  "nbformat": 4,
  "nbformat_minor": 0,
  "metadata": {
    "colab": {
      "provenance": [],
      "authorship_tag": "ABX9TyNhuYY2Nf2FMgOve3VjsLV5",
      "include_colab_link": true
    },
    "kernelspec": {
      "name": "python3",
      "display_name": "Python 3"
    },
    "language_info": {
      "name": "python"
    },
    "accelerator": "GPU",
    "gpuClass": "standard"
  },
  "cells": [
    {
      "cell_type": "markdown",
      "metadata": {
        "id": "view-in-github",
        "colab_type": "text"
      },
      "source": [
        "<a href=\"https://colab.research.google.com/github/aymanred121/handwritten-signature-recognition/blob/main/model/handwrittenClassificationv2.ipynb\" target=\"_parent\"><img src=\"https://colab.research.google.com/assets/colab-badge.svg\" alt=\"Open In Colab\"/></a>"
      ]
    },
    {
      "cell_type": "code",
      "execution_count": null,
      "metadata": {
        "id": "SGcKnmhDJUha"
      },
      "outputs": [],
      "source": [
        "import numpy as np\n",
        "import pandas as pd\n",
        "import matplotlib.pyplot as plt\n",
        "from sklearn.model_selection import train_test_split\n",
        "from sklearn.preprocessing import StandardScaler\n",
        "from sklearn.linear_model import LogisticRegression\n",
        "from sklearn.metrics import confusion_matrix\n",
        "from matplotlib.colors import ListedColormap\n",
        "import tensorflow as tf\n",
        "from tensorflow.keras.models import Sequential\n",
        "from tensorflow.keras.layers import Dense\n",
        "from tensorflow.keras.layers import Dropout\n",
        "from tensorflow.keras.layers import Flatten\n",
        "from tensorflow.keras.layers import Conv2D\n",
        "from tensorflow.keras import datasets, layers, models\n",
        "import cv2"
      ]
    },
    {
      "cell_type": "code",
      "source": [
        "!rm -rf /content/*"
      ],
      "metadata": {
        "id": "ED3pBNvkefIo",
        "outputId": "89bda44b-acce-4730-a625-8b9cff93e7c2",
        "colab": {
          "base_uri": "https://localhost:8080/"
        }
      },
      "execution_count": null,
      "outputs": [
        {
          "output_type": "stream",
          "name": "stdout",
          "text": [
            "rm: cannot remove '/content/gdrive/.shortcut-targets-by-id': Operation canceled\n",
            "rm: cannot remove '/content/gdrive/MyDrive': Operation canceled\n",
            "rm: cannot remove '/content/gdrive/.file-revisions-by-id': Operation canceled\n",
            "rm: cannot remove '/content/gdrive/.Trash-0': Directory not empty\n"
          ]
        }
      ]
    },
    {
      "cell_type": "code",
      "source": [
        "!gdown 1WqIhqp9JJ65SZPs9v868P_-SBCVTR2By"
      ],
      "metadata": {
        "colab": {
          "base_uri": "https://localhost:8080/"
        },
        "id": "myAoYuyOJbJa",
        "outputId": "f4745b25-67dd-40fd-fa3d-8df2e0fbe711"
      },
      "execution_count": null,
      "outputs": [
        {
          "output_type": "stream",
          "name": "stdout",
          "text": [
            "Downloading...\n",
            "From: https://drive.google.com/uc?id=1WqIhqp9JJ65SZPs9v868P_-SBCVTR2By\n",
            "To: /content/CV_2023_SC_Dataset.zip\n",
            "\r  0% 0.00/1.20M [00:00<?, ?B/s]\r100% 1.20M/1.20M [00:00<00:00, 162MB/s]\n"
          ]
        }
      ]
    },
    {
      "cell_type": "code",
      "source": [
        "!unzip /content/CV_2023_SC_Dataset.zip -d /content/data"
      ],
      "metadata": {
        "colab": {
          "base_uri": "https://localhost:8080/"
        },
        "id": "b2KSD4IJJ7AH",
        "outputId": "19790bbc-f571-4f77-f622-05438460466f"
      },
      "execution_count": null,
      "outputs": [
        {
          "output_type": "stream",
          "name": "stdout",
          "text": [
            "Archive:  /content/CV_2023_SC_Dataset.zip\n",
            "   creating: /content/data/personA/Test/\n",
            "  inflating: /content/data/personA/Test/personA_10.png  \n",
            "  inflating: /content/data/personA/Test/personA_13.png  \n",
            "  inflating: /content/data/personA/Test/personA_2.png  \n",
            "  inflating: /content/data/personA/Test/personA_20.png  \n",
            "  inflating: /content/data/personA/Test/personA_27.png  \n",
            "  inflating: /content/data/personA/Test/personA_29.png  \n",
            "  inflating: /content/data/personA/Test/personA_30.png  \n",
            "  inflating: /content/data/personA/Test/personA_42.png  \n",
            "  inflating: /content/data/personA/Test/personA_SigVerificationTestLabels.csv  \n",
            "   creating: /content/data/personA/Train/\n",
            "  inflating: /content/data/personA/Train/personA_1.png  \n",
            "  inflating: /content/data/personA/Train/personA_11.png  \n",
            "  inflating: /content/data/personA/Train/personA_12.png  \n",
            "  inflating: /content/data/personA/Train/personA_14.png  \n",
            "  inflating: /content/data/personA/Train/personA_15.png  \n",
            "  inflating: /content/data/personA/Train/personA_16.png  \n",
            "  inflating: /content/data/personA/Train/personA_17.png  \n",
            "  inflating: /content/data/personA/Train/personA_18.png  \n",
            "  inflating: /content/data/personA/Train/personA_19.png  \n",
            "  inflating: /content/data/personA/Train/personA_21.png  \n",
            "  inflating: /content/data/personA/Train/personA_22.png  \n",
            "  inflating: /content/data/personA/Train/personA_23.png  \n",
            "  inflating: /content/data/personA/Train/personA_24.png  \n",
            "  inflating: /content/data/personA/Train/personA_25.png  \n",
            "  inflating: /content/data/personA/Train/personA_26.png  \n",
            "  inflating: /content/data/personA/Train/personA_28.png  \n",
            "  inflating: /content/data/personA/Train/personA_3.png  \n",
            "  inflating: /content/data/personA/Train/personA_31.png  \n",
            "  inflating: /content/data/personA/Train/personA_32.png  \n",
            "  inflating: /content/data/personA/Train/personA_33.png  \n",
            "  inflating: /content/data/personA/Train/personA_34.png  \n",
            "  inflating: /content/data/personA/Train/personA_35.png  \n",
            "  inflating: /content/data/personA/Train/personA_36.png  \n",
            "  inflating: /content/data/personA/Train/personA_37.png  \n",
            "  inflating: /content/data/personA/Train/personA_38.png  \n",
            "  inflating: /content/data/personA/Train/personA_39.png  \n",
            "  inflating: /content/data/personA/Train/personA_4.png  \n",
            "  inflating: /content/data/personA/Train/personA_40.png  \n",
            "  inflating: /content/data/personA/Train/personA_41.png  \n",
            "  inflating: /content/data/personA/Train/personA_43.png  \n",
            "  inflating: /content/data/personA/Train/personA_44.png  \n",
            "  inflating: /content/data/personA/Train/personA_45.png  \n",
            "  inflating: /content/data/personA/Train/personA_46.png  \n",
            "  inflating: /content/data/personA/Train/personA_47.png  \n",
            "  inflating: /content/data/personA/Train/personA_48.png  \n",
            "  inflating: /content/data/personA/Train/personA_5.png  \n",
            "  inflating: /content/data/personA/Train/personA_6.png  \n",
            "  inflating: /content/data/personA/Train/personA_7.png  \n",
            "  inflating: /content/data/personA/Train/personA_8.png  \n",
            "  inflating: /content/data/personA/Train/personA_9.png  \n",
            "  inflating: /content/data/personA/Train/personA_SigVerificationTrainLabels.csv  \n",
            "   creating: /content/data/personB/Test/\n",
            "  inflating: /content/data/personB/Test/personB_10.png  \n",
            "  inflating: /content/data/personB/Test/personB_13.png  \n",
            "  inflating: /content/data/personB/Test/personB_2.png  \n",
            "  inflating: /content/data/personB/Test/personB_20.png  \n",
            "  inflating: /content/data/personB/Test/personB_27.png  \n",
            "  inflating: /content/data/personB/Test/personB_29.png  \n",
            "  inflating: /content/data/personB/Test/personB_33.png  \n",
            "  inflating: /content/data/personB/Test/personB_42.png  \n",
            "  inflating: /content/data/personB/Test/personB_SigVerificationTestLabels.csv  \n",
            "   creating: /content/data/personB/Train/\n",
            "  inflating: /content/data/personB/Train/personB_1.png  \n",
            "  inflating: /content/data/personB/Train/personB_11.png  \n",
            "  inflating: /content/data/personB/Train/personB_12.png  \n",
            "  inflating: /content/data/personB/Train/personB_14.png  \n",
            "  inflating: /content/data/personB/Train/personB_15.png  \n",
            "  inflating: /content/data/personB/Train/personB_16.png  \n",
            "  inflating: /content/data/personB/Train/personB_17.png  \n",
            "  inflating: /content/data/personB/Train/personB_18.png  \n",
            "  inflating: /content/data/personB/Train/personB_19.png  \n",
            "  inflating: /content/data/personB/Train/personB_21.png  \n",
            "  inflating: /content/data/personB/Train/personB_22.png  \n",
            "  inflating: /content/data/personB/Train/personB_23.png  \n",
            "  inflating: /content/data/personB/Train/personB_24.png  \n",
            "  inflating: /content/data/personB/Train/personB_25.png  \n",
            "  inflating: /content/data/personB/Train/personB_26.png  \n",
            "  inflating: /content/data/personB/Train/personB_28.png  \n",
            "  inflating: /content/data/personB/Train/personB_3.png  \n",
            "  inflating: /content/data/personB/Train/personB_30.png  \n",
            "  inflating: /content/data/personB/Train/personB_31.png  \n",
            "  inflating: /content/data/personB/Train/personB_32.png  \n",
            "  inflating: /content/data/personB/Train/personB_34.png  \n",
            "  inflating: /content/data/personB/Train/personB_35.png  \n",
            "  inflating: /content/data/personB/Train/personB_36.png  \n",
            "  inflating: /content/data/personB/Train/personB_37.png  \n",
            "  inflating: /content/data/personB/Train/personB_38.png  \n",
            "  inflating: /content/data/personB/Train/personB_39.png  \n",
            "  inflating: /content/data/personB/Train/personB_4.png  \n",
            "  inflating: /content/data/personB/Train/personB_40.png  \n",
            "  inflating: /content/data/personB/Train/personB_41.png  \n",
            "  inflating: /content/data/personB/Train/personB_43.png  \n",
            "  inflating: /content/data/personB/Train/personB_44.png  \n",
            "  inflating: /content/data/personB/Train/personB_45.png  \n",
            "  inflating: /content/data/personB/Train/personB_46.png  \n",
            "  inflating: /content/data/personB/Train/personB_47.png  \n",
            "  inflating: /content/data/personB/Train/personB_48.png  \n",
            "  inflating: /content/data/personB/Train/personB_5.png  \n",
            "  inflating: /content/data/personB/Train/personB_6.png  \n",
            "  inflating: /content/data/personB/Train/personB_7.png  \n",
            "  inflating: /content/data/personB/Train/personB_8.png  \n",
            "  inflating: /content/data/personB/Train/personB_9.png  \n",
            "  inflating: /content/data/personB/Train/personB_SigVerificationTrainLabels.csv  \n",
            "   creating: /content/data/personC/Test/\n",
            "  inflating: /content/data/personC/Test/personC_13.png  \n",
            "  inflating: /content/data/personC/Test/personC_17.png  \n",
            "  inflating: /content/data/personC/Test/personC_19.png  \n",
            "  inflating: /content/data/personC/Test/personC_32.png  \n",
            "  inflating: /content/data/personC/Test/personC_34.png  \n",
            "  inflating: /content/data/personC/Test/personC_39.png  \n",
            "  inflating: /content/data/personC/Test/personC_6.png  \n",
            "  inflating: /content/data/personC/Test/personC_8.png  \n",
            "  inflating: /content/data/personC/Test/personC_SigVerificationTestLabels.csv  \n",
            "   creating: /content/data/personC/Train/\n",
            "  inflating: /content/data/personC/Train/personC_1.png  \n",
            "  inflating: /content/data/personC/Train/personC_10.png  \n",
            "  inflating: /content/data/personC/Train/personC_11.png  \n",
            "  inflating: /content/data/personC/Train/personC_12.png  \n",
            "  inflating: /content/data/personC/Train/personC_14.png  \n",
            "  inflating: /content/data/personC/Train/personC_15.png  \n",
            "  inflating: /content/data/personC/Train/personC_16.png  \n",
            "  inflating: /content/data/personC/Train/personC_18.png  \n",
            "  inflating: /content/data/personC/Train/personC_2.png  \n",
            "  inflating: /content/data/personC/Train/personC_20.png  \n",
            "  inflating: /content/data/personC/Train/personC_21.png  \n",
            "  inflating: /content/data/personC/Train/personC_22.png  \n",
            "  inflating: /content/data/personC/Train/personC_23.png  \n",
            "  inflating: /content/data/personC/Train/personC_24.png  \n",
            "  inflating: /content/data/personC/Train/personC_25.png  \n",
            "  inflating: /content/data/personC/Train/personC_26.png  \n",
            "  inflating: /content/data/personC/Train/personC_27.png  \n",
            "  inflating: /content/data/personC/Train/personC_28.png  \n",
            "  inflating: /content/data/personC/Train/personC_29.png  \n",
            "  inflating: /content/data/personC/Train/personC_3.png  \n",
            "  inflating: /content/data/personC/Train/personC_30.png  \n",
            "  inflating: /content/data/personC/Train/personC_31.png  \n",
            "  inflating: /content/data/personC/Train/personC_33.png  \n",
            "  inflating: /content/data/personC/Train/personC_35.png  \n",
            "  inflating: /content/data/personC/Train/personC_36.png  \n",
            "  inflating: /content/data/personC/Train/personC_37.png  \n",
            "  inflating: /content/data/personC/Train/personC_38.png  \n",
            "  inflating: /content/data/personC/Train/personC_4.png  \n",
            "  inflating: /content/data/personC/Train/personC_40.png  \n",
            "  inflating: /content/data/personC/Train/personC_41.png  \n",
            "  inflating: /content/data/personC/Train/personC_42.png  \n",
            "  inflating: /content/data/personC/Train/personC_43.png  \n",
            "  inflating: /content/data/personC/Train/personC_44.png  \n",
            "  inflating: /content/data/personC/Train/personC_45.png  \n",
            "  inflating: /content/data/personC/Train/personC_46.png  \n",
            "  inflating: /content/data/personC/Train/personC_47.png  \n",
            "  inflating: /content/data/personC/Train/personC_48.png  \n",
            "  inflating: /content/data/personC/Train/personC_5.png  \n",
            "  inflating: /content/data/personC/Train/personC_7.png  \n",
            "  inflating: /content/data/personC/Train/personC_9.png  \n",
            "  inflating: /content/data/personC/Train/personC_SigVerificationTrainLabels.csv  \n",
            "   creating: /content/data/personD/Test/\n",
            "  inflating: /content/data/personD/Test/personD_14.png  \n",
            "  inflating: /content/data/personD/Test/personD_15.png  \n",
            "  inflating: /content/data/personD/Test/personD_17.png  \n",
            "  inflating: /content/data/personD/Test/personD_21.png  \n",
            "  inflating: /content/data/personD/Test/personD_22.png  \n",
            "  inflating: /content/data/personD/Test/personD_26.png  \n",
            "  inflating: /content/data/personD/Test/personD_31.png  \n",
            "  inflating: /content/data/personD/Test/personD_41.png  \n",
            "  inflating: /content/data/personD/Test/personD_SigVerificationTestLabels.csv  \n",
            "   creating: /content/data/personD/Train/\n",
            "  inflating: /content/data/personD/Train/personD_1.png  \n",
            "  inflating: /content/data/personD/Train/personD_10.png  \n",
            "  inflating: /content/data/personD/Train/personD_11.png  \n",
            "  inflating: /content/data/personD/Train/personD_12.png  \n",
            "  inflating: /content/data/personD/Train/personD_13.png  \n",
            "  inflating: /content/data/personD/Train/personD_16.png  \n",
            "  inflating: /content/data/personD/Train/personD_18.png  \n",
            "  inflating: /content/data/personD/Train/personD_19.png  \n",
            "  inflating: /content/data/personD/Train/personD_2.png  \n",
            "  inflating: /content/data/personD/Train/personD_20.png  \n",
            "  inflating: /content/data/personD/Train/personD_23.png  \n",
            "  inflating: /content/data/personD/Train/personD_24.png  \n",
            "  inflating: /content/data/personD/Train/personD_25.png  \n",
            "  inflating: /content/data/personD/Train/personD_27.png  \n",
            "  inflating: /content/data/personD/Train/personD_28.png  \n",
            "  inflating: /content/data/personD/Train/personD_29.png  \n",
            "  inflating: /content/data/personD/Train/personD_3.png  \n",
            "  inflating: /content/data/personD/Train/personD_30.png  \n",
            "  inflating: /content/data/personD/Train/personD_32.png  \n",
            "  inflating: /content/data/personD/Train/personD_33.png  \n",
            "  inflating: /content/data/personD/Train/personD_34.png  \n",
            "  inflating: /content/data/personD/Train/personD_35.png  \n",
            "  inflating: /content/data/personD/Train/personD_36.png  \n",
            "  inflating: /content/data/personD/Train/personD_37.png  \n",
            "  inflating: /content/data/personD/Train/personD_38.png  \n",
            "  inflating: /content/data/personD/Train/personD_39.png  \n",
            "  inflating: /content/data/personD/Train/personD_4.png  \n",
            "  inflating: /content/data/personD/Train/personD_40.png  \n",
            "  inflating: /content/data/personD/Train/personD_42.png  \n",
            "  inflating: /content/data/personD/Train/personD_43.png  \n",
            "  inflating: /content/data/personD/Train/personD_44.png  \n",
            "  inflating: /content/data/personD/Train/personD_45.png  \n",
            "  inflating: /content/data/personD/Train/personD_46.png  \n",
            "  inflating: /content/data/personD/Train/personD_47.png  \n",
            "  inflating: /content/data/personD/Train/personD_48.png  \n",
            "  inflating: /content/data/personD/Train/personD_5.png  \n",
            "  inflating: /content/data/personD/Train/personD_6.png  \n",
            "  inflating: /content/data/personD/Train/personD_7.png  \n",
            "  inflating: /content/data/personD/Train/personD_8.png  \n",
            "  inflating: /content/data/personD/Train/personD_9.png  \n",
            "  inflating: /content/data/personD/Train/personD_SigVerificationTrainLabels.csv  \n",
            "   creating: /content/data/personE/Test/\n",
            "  inflating: /content/data/personE/Test/personE_15.png  \n",
            "  inflating: /content/data/personE/Test/personE_17.png  \n",
            "  inflating: /content/data/personE/Test/personE_18.png  \n",
            "  inflating: /content/data/personE/Test/personE_22.png  \n",
            "  inflating: /content/data/personE/Test/personE_27.png  \n",
            "  inflating: /content/data/personE/Test/personE_32.png  \n",
            "  inflating: /content/data/personE/Test/personE_35.png  \n",
            "  inflating: /content/data/personE/Test/personE_40.png  \n",
            "  inflating: /content/data/personE/Test/personE_SigVerificationTestLabels.csv  \n",
            "   creating: /content/data/personE/Train/\n",
            "  inflating: /content/data/personE/Train/personE_1.png  \n",
            "  inflating: /content/data/personE/Train/personE_10.png  \n",
            "  inflating: /content/data/personE/Train/personE_11.png  \n",
            "  inflating: /content/data/personE/Train/personE_12.png  \n",
            "  inflating: /content/data/personE/Train/personE_13.png  \n",
            "  inflating: /content/data/personE/Train/personE_14.png  \n",
            "  inflating: /content/data/personE/Train/personE_16.png  \n",
            "  inflating: /content/data/personE/Train/personE_19.png  \n",
            "  inflating: /content/data/personE/Train/personE_2.png  \n",
            "  inflating: /content/data/personE/Train/personE_20.png  \n",
            "  inflating: /content/data/personE/Train/personE_21.png  \n",
            "  inflating: /content/data/personE/Train/personE_23.png  \n",
            "  inflating: /content/data/personE/Train/personE_24.png  \n",
            "  inflating: /content/data/personE/Train/personE_25.png  \n",
            "  inflating: /content/data/personE/Train/personE_26.png  \n",
            "  inflating: /content/data/personE/Train/personE_28.png  \n",
            "  inflating: /content/data/personE/Train/personE_29.png  \n",
            "  inflating: /content/data/personE/Train/personE_3.png  \n",
            "  inflating: /content/data/personE/Train/personE_30.png  \n",
            "  inflating: /content/data/personE/Train/personE_31.png  \n",
            "  inflating: /content/data/personE/Train/personE_33.png  \n",
            "  inflating: /content/data/personE/Train/personE_34.png  \n",
            "  inflating: /content/data/personE/Train/personE_36.png  \n",
            "  inflating: /content/data/personE/Train/personE_37.png  \n",
            "  inflating: /content/data/personE/Train/personE_38.png  \n",
            "  inflating: /content/data/personE/Train/personE_39.png  \n",
            "  inflating: /content/data/personE/Train/personE_4.png  \n",
            "  inflating: /content/data/personE/Train/personE_41.png  \n",
            "  inflating: /content/data/personE/Train/personE_42.png  \n",
            "  inflating: /content/data/personE/Train/personE_43.png  \n",
            "  inflating: /content/data/personE/Train/personE_44.png  \n",
            "  inflating: /content/data/personE/Train/personE_45.png  \n",
            "  inflating: /content/data/personE/Train/personE_46.png  \n",
            "  inflating: /content/data/personE/Train/personE_47.png  \n",
            "  inflating: /content/data/personE/Train/personE_48.png  \n",
            "  inflating: /content/data/personE/Train/personE_5.png  \n",
            "  inflating: /content/data/personE/Train/personE_6.png  \n",
            "  inflating: /content/data/personE/Train/personE_7.png  \n",
            "  inflating: /content/data/personE/Train/personE_8.png  \n",
            "  inflating: /content/data/personE/Train/personE_9.png  \n",
            "  inflating: /content/data/personE/Train/personE_SigVerificationTrainLabels.csv  \n"
          ]
        }
      ]
    },
    {
      "cell_type": "code",
      "source": [
        "import os\n",
        "persons = ['A','B','C','D','E']\n",
        "os.mkdir('/content/Train')\n",
        "os.mkdir('/content/Test')\n",
        "for p in persons:\n",
        "    os.mkdir('/content/Train/person'+p)\n",
        "    os.mkdir('/content/Test/person'+p)\n",
        "    "
      ],
      "metadata": {
        "id": "DtuGHsO3XPLP"
      },
      "execution_count": null,
      "outputs": []
    },
    {
      "cell_type": "code",
      "source": [
        "import shutil\n",
        "import os\n",
        "import glob\n",
        "for p in os.listdir('data'):\n",
        "  print(p)\n",
        "  for f in os.listdir(f'data/{p}'):\n",
        "    for d in glob.glob(f'/content/data/{p}/{f}/*'):\n",
        "      shutil.move(d,f'/content/{f}/{p}')"
      ],
      "metadata": {
        "colab": {
          "base_uri": "https://localhost:8080/"
        },
        "id": "mLuXTZMwW5JL",
        "outputId": "079b621f-449c-4dff-c67b-de3f60502daa"
      },
      "execution_count": null,
      "outputs": [
        {
          "output_type": "stream",
          "name": "stdout",
          "text": [
            "personC\n",
            "personB\n",
            "personA\n",
            "personD\n",
            "personE\n"
          ]
        }
      ]
    },
    {
      "cell_type": "code",
      "source": [
        "persons = ['A','B','C','D','E']\n",
        "df = pd.DataFrame()\n",
        "for person in  persons:\n",
        "  path = f'/content/Train/person{person}/person{person}_SigVerificationTrainLabels.csv'\n",
        "  tempdf = pd.read_csv(path)\n",
        "  tempdf['person'] = person\n",
        "  df = df.append(tempdf)"
      ],
      "metadata": {
        "id": "iLBataXhKjwh"
      },
      "execution_count": null,
      "outputs": []
    },
    {
      "cell_type": "code",
      "source": [
        "df = df.sample(frac=1).reset_index(drop=True)\n"
      ],
      "metadata": {
        "id": "_sDQreT_LxCg"
      },
      "execution_count": null,
      "outputs": []
    },
    {
      "cell_type": "code",
      "source": [
        "person = {\n",
        "    'A': 0,\n",
        "    'B': 1,\n",
        "    'C': 2,\n",
        "    'D': 3,\n",
        "    'E': 4\n",
        "}\n",
        "df['person'] = df['person'].map(person)"
      ],
      "metadata": {
        "id": "gPJNo6zLMg2m"
      },
      "execution_count": null,
      "outputs": []
    },
    {
      "cell_type": "code",
      "source": [
        "labels = {\n",
        "    'real':0,\n",
        "    'forged':1\n",
        "}\n",
        "df['label'] = df['label'].map(labels)"
      ],
      "metadata": {
        "id": "8d5QqZe-Mz4o"
      },
      "execution_count": null,
      "outputs": []
    },
    {
      "cell_type": "code",
      "source": [
        "df['person'].value_counts()"
      ],
      "metadata": {
        "colab": {
          "base_uri": "https://localhost:8080/"
        },
        "id": "aJ0ZNqP0Mrua",
        "outputId": "c8f5f0ea-ecbc-47cf-e223-c61cb2d68b21"
      },
      "execution_count": null,
      "outputs": [
        {
          "output_type": "execute_result",
          "data": {
            "text/plain": [
              "1    40\n",
              "4    40\n",
              "0    40\n",
              "2    40\n",
              "3    40\n",
              "Name: person, dtype: int64"
            ]
          },
          "metadata": {},
          "execution_count": 37
        }
      ]
    },
    {
      "cell_type": "code",
      "source": [
        "dad=cv2.imread('/content/Test/personA/personA_10.png')"
      ],
      "metadata": {
        "id": "ZlqgTw3DPWah"
      },
      "execution_count": null,
      "outputs": []
    },
    {
      "cell_type": "code",
      "source": [
        "dad.shape"
      ],
      "metadata": {
        "colab": {
          "base_uri": "https://localhost:8080/"
        },
        "id": "axz4H3rTPpRB",
        "outputId": "685daf87-8940-4876-e013-ec805a3ef4fd"
      },
      "execution_count": null,
      "outputs": [
        {
          "output_type": "execute_result",
          "data": {
            "text/plain": [
              "(318, 343, 3)"
            ]
          },
          "metadata": {},
          "execution_count": 39
        }
      ]
    },
    {
      "cell_type": "code",
      "source": [
        "model = models.Sequential([\n",
        "    layers.Conv2D(96, (11, 11), activation='relu', input_shape=(215, 90, 1),strides=4),\n",
        "    layers.MaxPooling2D((3,3),strides=(4,4),padding='same'),\n",
        "    layers.Conv2D(256, (5, 5), activation='relu',padding='same'),\n",
        "    layers.MaxPooling2D((3,3),padding='same'),\n",
        "    layers.Conv2D(384, (3, 3), activation='relu',strides=1,padding='same'),\n",
        "\n",
        "    layers.Conv2D(384, (3, 3), activation='relu',strides=1,padding='same'),\n",
        "\n",
        "    layers.Conv2D(256, (3, 3), activation='relu',strides=1,padding='same'),\n",
        "    layers.MaxPooling2D((3,3),strides=2,padding='same'),\n",
        "    layers.Flatten(),\n",
        "    layers.Dense(4096, activation='relu'),\n",
        "    layers.Dropout(0.5),\n",
        "    layers.Dense(4096, activation='relu'),\n",
        "    layers.Dropout(0.5),\n",
        "    layers.Dense(5, activation='softmax')\n",
        "])\n",
        "\n",
        "model.compile(optimizer='adam',\n",
        "\n",
        "              loss='sparse_categorical_crossentropy',\n",
        "              metrics=['acc'])\n"
      ],
      "metadata": {
        "id": "TmXPyEsjN_Ja"
      },
      "execution_count": null,
      "outputs": []
    },
    {
      "cell_type": "code",
      "source": [
        "model.summary()"
      ],
      "metadata": {
        "id": "vY5y1E3iUCff"
      },
      "execution_count": null,
      "outputs": []
    },
    {
      "cell_type": "code",
      "source": [],
      "metadata": {
        "id": "nub1pUrsdyhI"
      },
      "execution_count": null,
      "outputs": []
    },
    {
      "cell_type": "code",
      "source": [
        "ds_train = tf.keras.preprocessing.image_dataset_from_directory(\n",
        "    \"Train/\",\n",
        "    labels=\"inferred\",\n",
        "    label_mode=\"categorical\",  # categorical, binary\n",
        "    # class_names=['0', '1', '2', '3', ...]\n",
        "    color_mode=\"rgb\",\n",
        "    batch_size=32,\n",
        "    image_size=(215, 90),  # reshape if not in this size\n",
        "    shuffle=True,\n",
        "    seed=123,\n",
        "    validation_split=0.1,\n",
        "    subset=\"training\",\n",
        ")\n",
        "\n",
        "ds_validation = tf.keras.preprocessing.image_dataset_from_directory(\n",
        "    \"Train/\",\n",
        "    labels=\"inferred\",\n",
        "    label_mode=\"categorical\",  # categorical, binary\n",
        "    # class_names=['0', '1', '2', '3', ...]\n",
        "    color_mode=\"rgb\",\n",
        "    batch_size=32,\n",
        "    image_size=(215, 90),  # reshape if not in this size\n",
        "    shuffle=True,\n",
        "    seed=123,\n",
        "    validation_split=0.1,\n",
        "    subset=\"validation\",\n",
        ")\n",
        "ds_test = tf.keras.preprocessing.image_dataset_from_directory(\n",
        "    \"Test/\",\n",
        "    labels=\"inferred\",\n",
        "    label_mode=\"categorical\",  # categorical, binary\n",
        "    # class_names=['0', '1', '2', '3', ...]\n",
        "     color_mode=\"rgb\",\n",
        "    batch_size=32,\n",
        "    image_size=(215, 90),  # reshape if not in this size\n",
        "    shuffle=True,\n",
        "    seed=123,\n",
        "    )"
      ],
      "metadata": {
        "colab": {
          "base_uri": "https://localhost:8080/"
        },
        "id": "cLk3gtzsUoyR",
        "outputId": "892a0535-c90c-4aed-c16e-b499aa14a44c"
      },
      "execution_count": null,
      "outputs": [
        {
          "output_type": "stream",
          "name": "stdout",
          "text": [
            "Found 200 files belonging to 5 classes.\n",
            "Using 180 files for training.\n",
            "Found 200 files belonging to 5 classes.\n",
            "Using 20 files for validation.\n",
            "Found 40 files belonging to 5 classes.\n"
          ]
        }
      ]
    },
    {
      "cell_type": "code",
      "source": [
        "model = tf.keras.applications.resnet50.ResNet50(\n",
        "    include_top=False,\n",
        "    weights='imagenet',\n",
        "    input_shape=(215, 90,3)\n",
        ")\n",
        "model = models.Sequential([\n",
        "    model,\n",
        "    tf.keras.layers.Dense(4096),\n",
        "    tf.keras.layers.Flatten(),\n",
        "    tf.keras.layers.Dense(5, activation='softmax')\n",
        "])\n",
        "\n",
        "model.compile(optimizer='adam',\n",
        "              loss='categorical_crossentropy',\n",
        "              metrics=['acc'])"
      ],
      "metadata": {
        "id": "Fq5j9PNcgR-T"
      },
      "execution_count": null,
      "outputs": []
    },
    {
      "cell_type": "code",
      "source": [
        "history = model.fit(ds_train,epochs=50,validation_data=ds_validation)"
      ],
      "metadata": {
        "id": "8PbrxycFawUc",
        "outputId": "c9a02841-4278-4420-cd35-de98a0e596d3",
        "colab": {
          "base_uri": "https://localhost:8080/",
          "height": 1000
        }
      },
      "execution_count": null,
      "outputs": [
        {
          "output_type": "stream",
          "name": "stdout",
          "text": [
            "Epoch 1/50\n",
            "6/6 [==============================] - 8s 359ms/step - loss: 8.1705 - acc: 0.6778 - val_loss: 328.9658 - val_acc: 0.5500\n",
            "Epoch 2/50\n",
            "6/6 [==============================] - 1s 175ms/step - loss: 0.1732 - acc: 0.9556 - val_loss: 5435.3247 - val_acc: 0.4500\n",
            "Epoch 3/50\n",
            "6/6 [==============================] - 1s 177ms/step - loss: 0.3079 - acc: 0.9722 - val_loss: 20284.4570 - val_acc: 0.3000\n",
            "Epoch 4/50\n",
            "6/6 [==============================] - 1s 185ms/step - loss: 7.9971 - acc: 0.9278 - val_loss: 3279731.7500 - val_acc: 0.1000\n",
            "Epoch 5/50\n",
            "6/6 [==============================] - 1s 177ms/step - loss: 1.1528 - acc: 0.9556 - val_loss: 169988752.0000 - val_acc: 0.1000\n",
            "Epoch 6/50\n",
            "6/6 [==============================] - 1s 176ms/step - loss: 1.7279 - acc: 0.9056 - val_loss: 342837824.0000 - val_acc: 0.1000\n",
            "Epoch 7/50\n",
            "6/6 [==============================] - 1s 176ms/step - loss: 0.3162 - acc: 0.9611 - val_loss: 301996480.0000 - val_acc: 0.1000\n",
            "Epoch 8/50\n",
            "6/6 [==============================] - 1s 177ms/step - loss: 0.0577 - acc: 0.9889 - val_loss: 153840304.0000 - val_acc: 0.1000\n",
            "Epoch 9/50\n",
            "6/6 [==============================] - 1s 177ms/step - loss: 4.2807 - acc: 0.9778 - val_loss: 3521759744.0000 - val_acc: 0.1000\n",
            "Epoch 10/50\n",
            "6/6 [==============================] - 1s 179ms/step - loss: 0.6944 - acc: 0.9778 - val_loss: 2940274176.0000 - val_acc: 0.1000\n",
            "Epoch 11/50\n",
            "6/6 [==============================] - 1s 178ms/step - loss: 0.2514 - acc: 0.9667 - val_loss: 322918336.0000 - val_acc: 0.1000\n",
            "Epoch 12/50\n",
            "6/6 [==============================] - 1s 178ms/step - loss: 0.2457 - acc: 0.9833 - val_loss: 17936396.0000 - val_acc: 0.1000\n",
            "Epoch 13/50\n",
            "6/6 [==============================] - 1s 176ms/step - loss: 0.0684 - acc: 0.9778 - val_loss: 1017234.3125 - val_acc: 0.2500\n",
            "Epoch 14/50\n",
            "6/6 [==============================] - 1s 176ms/step - loss: 0.0961 - acc: 0.9611 - val_loss: 693174.8125 - val_acc: 0.1500\n",
            "Epoch 15/50\n",
            "6/6 [==============================] - 1s 177ms/step - loss: 0.0440 - acc: 0.9944 - val_loss: 376050.8125 - val_acc: 0.1500\n",
            "Epoch 16/50\n",
            "6/6 [==============================] - 1s 187ms/step - loss: 0.0203 - acc: 1.0000 - val_loss: 167876.7188 - val_acc: 0.2000\n",
            "Epoch 17/50\n",
            "6/6 [==============================] - 2s 181ms/step - loss: 0.0100 - acc: 1.0000 - val_loss: 70347.0312 - val_acc: 0.1500\n",
            "Epoch 18/50\n",
            "6/6 [==============================] - 1s 179ms/step - loss: 0.0080 - acc: 1.0000 - val_loss: 41731.7031 - val_acc: 0.1000\n",
            "Epoch 19/50\n",
            "6/6 [==============================] - 1s 180ms/step - loss: 0.0016 - acc: 1.0000 - val_loss: 39335.4688 - val_acc: 0.1000\n",
            "Epoch 20/50\n",
            "6/6 [==============================] - 1s 189ms/step - loss: 0.0022 - acc: 1.0000 - val_loss: 38084.8867 - val_acc: 0.1000\n",
            "Epoch 21/50\n",
            "6/6 [==============================] - 2s 189ms/step - loss: 0.0855 - acc: 0.9944 - val_loss: 7848.1460 - val_acc: 0.1000\n",
            "Epoch 22/50\n",
            "6/6 [==============================] - 1s 180ms/step - loss: 0.1326 - acc: 0.9889 - val_loss: 5874.7109 - val_acc: 0.2500\n",
            "Epoch 23/50\n",
            "6/6 [==============================] - 1s 180ms/step - loss: 0.0152 - acc: 0.9889 - val_loss: 4009.0027 - val_acc: 0.3500\n",
            "Epoch 24/50\n",
            "6/6 [==============================] - 1s 180ms/step - loss: 0.0082 - acc: 0.9944 - val_loss: 3109.4001 - val_acc: 0.3500\n",
            "Epoch 25/50\n",
            "6/6 [==============================] - 1s 179ms/step - loss: 0.0016 - acc: 1.0000 - val_loss: 1957.8922 - val_acc: 0.5000\n",
            "Epoch 26/50\n",
            "6/6 [==============================] - 1s 179ms/step - loss: 0.0012 - acc: 1.0000 - val_loss: 1024.4016 - val_acc: 0.6500\n",
            "Epoch 27/50\n",
            "6/6 [==============================] - 1s 180ms/step - loss: 9.5346e-04 - acc: 1.0000 - val_loss: 525.9773 - val_acc: 0.7000\n",
            "Epoch 28/50\n",
            "6/6 [==============================] - 1s 181ms/step - loss: 7.9258e-04 - acc: 1.0000 - val_loss: 273.0434 - val_acc: 0.8000\n",
            "Epoch 29/50\n",
            "6/6 [==============================] - 1s 180ms/step - loss: 4.1544e-04 - acc: 1.0000 - val_loss: 140.8596 - val_acc: 0.9000\n",
            "Epoch 30/50\n",
            "6/6 [==============================] - 1s 182ms/step - loss: 8.6120e-04 - acc: 1.0000 - val_loss: 77.7513 - val_acc: 0.9000\n",
            "Epoch 31/50\n",
            "6/6 [==============================] - 1s 180ms/step - loss: 2.4504e-04 - acc: 1.0000 - val_loss: 46.1312 - val_acc: 0.9000\n",
            "Epoch 32/50\n",
            "6/6 [==============================] - 1s 181ms/step - loss: 1.7763e-04 - acc: 1.0000 - val_loss: 27.4359 - val_acc: 0.9000\n",
            "Epoch 33/50\n",
            "6/6 [==============================] - 1s 179ms/step - loss: 4.2884e-04 - acc: 1.0000 - val_loss: 14.1761 - val_acc: 0.9000\n",
            "Epoch 34/50\n",
            "6/6 [==============================] - 1s 181ms/step - loss: 6.8887e-04 - acc: 1.0000 - val_loss: 4.9631 - val_acc: 0.9000\n",
            "Epoch 35/50\n",
            "6/6 [==============================] - 1s 179ms/step - loss: 0.0067 - acc: 0.9944 - val_loss: 1.1888e-04 - val_acc: 1.0000\n",
            "Epoch 36/50\n",
            "6/6 [==============================] - 1s 178ms/step - loss: 0.0069 - acc: 1.0000 - val_loss: 5.5232e-04 - val_acc: 1.0000\n",
            "Epoch 37/50\n",
            "1/6 [====>.........................] - ETA: 2s - loss: 0.0039 - acc: 1.0000"
          ]
        },
        {
          "output_type": "error",
          "ename": "KeyboardInterrupt",
          "evalue": "ignored",
          "traceback": [
            "\u001b[0;31m---------------------------------------------------------------------------\u001b[0m",
            "\u001b[0;31mKeyboardInterrupt\u001b[0m                         Traceback (most recent call last)",
            "\u001b[0;32m<ipython-input-47-6fb30e926dd7>\u001b[0m in \u001b[0;36m<module>\u001b[0;34m\u001b[0m\n\u001b[0;32m----> 1\u001b[0;31m \u001b[0mhistory\u001b[0m \u001b[0;34m=\u001b[0m \u001b[0mmodel\u001b[0m\u001b[0;34m.\u001b[0m\u001b[0mfit\u001b[0m\u001b[0;34m(\u001b[0m\u001b[0mds_train\u001b[0m\u001b[0;34m,\u001b[0m\u001b[0mepochs\u001b[0m\u001b[0;34m=\u001b[0m\u001b[0;36m50\u001b[0m\u001b[0;34m,\u001b[0m\u001b[0mvalidation_data\u001b[0m\u001b[0;34m=\u001b[0m\u001b[0mds_validation\u001b[0m\u001b[0;34m)\u001b[0m\u001b[0;34m\u001b[0m\u001b[0;34m\u001b[0m\u001b[0m\n\u001b[0m",
            "\u001b[0;32m/usr/local/lib/python3.8/dist-packages/keras/utils/traceback_utils.py\u001b[0m in \u001b[0;36merror_handler\u001b[0;34m(*args, **kwargs)\u001b[0m\n\u001b[1;32m     62\u001b[0m     \u001b[0mfiltered_tb\u001b[0m \u001b[0;34m=\u001b[0m \u001b[0;32mNone\u001b[0m\u001b[0;34m\u001b[0m\u001b[0;34m\u001b[0m\u001b[0m\n\u001b[1;32m     63\u001b[0m     \u001b[0;32mtry\u001b[0m\u001b[0;34m:\u001b[0m\u001b[0;34m\u001b[0m\u001b[0;34m\u001b[0m\u001b[0m\n\u001b[0;32m---> 64\u001b[0;31m       \u001b[0;32mreturn\u001b[0m \u001b[0mfn\u001b[0m\u001b[0;34m(\u001b[0m\u001b[0;34m*\u001b[0m\u001b[0margs\u001b[0m\u001b[0;34m,\u001b[0m \u001b[0;34m**\u001b[0m\u001b[0mkwargs\u001b[0m\u001b[0;34m)\u001b[0m\u001b[0;34m\u001b[0m\u001b[0;34m\u001b[0m\u001b[0m\n\u001b[0m\u001b[1;32m     65\u001b[0m     \u001b[0;32mexcept\u001b[0m \u001b[0mException\u001b[0m \u001b[0;32mas\u001b[0m \u001b[0me\u001b[0m\u001b[0;34m:\u001b[0m  \u001b[0;31m# pylint: disable=broad-except\u001b[0m\u001b[0;34m\u001b[0m\u001b[0;34m\u001b[0m\u001b[0m\n\u001b[1;32m     66\u001b[0m       \u001b[0mfiltered_tb\u001b[0m \u001b[0;34m=\u001b[0m \u001b[0m_process_traceback_frames\u001b[0m\u001b[0;34m(\u001b[0m\u001b[0me\u001b[0m\u001b[0;34m.\u001b[0m\u001b[0m__traceback__\u001b[0m\u001b[0;34m)\u001b[0m\u001b[0;34m\u001b[0m\u001b[0;34m\u001b[0m\u001b[0m\n",
            "\u001b[0;32m/usr/local/lib/python3.8/dist-packages/keras/engine/training.py\u001b[0m in \u001b[0;36mfit\u001b[0;34m(self, x, y, batch_size, epochs, verbose, callbacks, validation_split, validation_data, shuffle, class_weight, sample_weight, initial_epoch, steps_per_epoch, validation_steps, validation_batch_size, validation_freq, max_queue_size, workers, use_multiprocessing)\u001b[0m\n\u001b[1;32m   1407\u001b[0m                 _r=1):\n\u001b[1;32m   1408\u001b[0m               \u001b[0mcallbacks\u001b[0m\u001b[0;34m.\u001b[0m\u001b[0mon_train_batch_begin\u001b[0m\u001b[0;34m(\u001b[0m\u001b[0mstep\u001b[0m\u001b[0;34m)\u001b[0m\u001b[0;34m\u001b[0m\u001b[0;34m\u001b[0m\u001b[0m\n\u001b[0;32m-> 1409\u001b[0;31m               \u001b[0mtmp_logs\u001b[0m \u001b[0;34m=\u001b[0m \u001b[0mself\u001b[0m\u001b[0;34m.\u001b[0m\u001b[0mtrain_function\u001b[0m\u001b[0;34m(\u001b[0m\u001b[0miterator\u001b[0m\u001b[0;34m)\u001b[0m\u001b[0;34m\u001b[0m\u001b[0;34m\u001b[0m\u001b[0m\n\u001b[0m\u001b[1;32m   1410\u001b[0m               \u001b[0;32mif\u001b[0m \u001b[0mdata_handler\u001b[0m\u001b[0;34m.\u001b[0m\u001b[0mshould_sync\u001b[0m\u001b[0;34m:\u001b[0m\u001b[0;34m\u001b[0m\u001b[0;34m\u001b[0m\u001b[0m\n\u001b[1;32m   1411\u001b[0m                 \u001b[0mcontext\u001b[0m\u001b[0;34m.\u001b[0m\u001b[0masync_wait\u001b[0m\u001b[0;34m(\u001b[0m\u001b[0;34m)\u001b[0m\u001b[0;34m\u001b[0m\u001b[0;34m\u001b[0m\u001b[0m\n",
            "\u001b[0;32m/usr/local/lib/python3.8/dist-packages/tensorflow/python/util/traceback_utils.py\u001b[0m in \u001b[0;36merror_handler\u001b[0;34m(*args, **kwargs)\u001b[0m\n\u001b[1;32m    148\u001b[0m     \u001b[0mfiltered_tb\u001b[0m \u001b[0;34m=\u001b[0m \u001b[0;32mNone\u001b[0m\u001b[0;34m\u001b[0m\u001b[0;34m\u001b[0m\u001b[0m\n\u001b[1;32m    149\u001b[0m     \u001b[0;32mtry\u001b[0m\u001b[0;34m:\u001b[0m\u001b[0;34m\u001b[0m\u001b[0;34m\u001b[0m\u001b[0m\n\u001b[0;32m--> 150\u001b[0;31m       \u001b[0;32mreturn\u001b[0m \u001b[0mfn\u001b[0m\u001b[0;34m(\u001b[0m\u001b[0;34m*\u001b[0m\u001b[0margs\u001b[0m\u001b[0;34m,\u001b[0m \u001b[0;34m**\u001b[0m\u001b[0mkwargs\u001b[0m\u001b[0;34m)\u001b[0m\u001b[0;34m\u001b[0m\u001b[0;34m\u001b[0m\u001b[0m\n\u001b[0m\u001b[1;32m    151\u001b[0m     \u001b[0;32mexcept\u001b[0m \u001b[0mException\u001b[0m \u001b[0;32mas\u001b[0m \u001b[0me\u001b[0m\u001b[0;34m:\u001b[0m\u001b[0;34m\u001b[0m\u001b[0;34m\u001b[0m\u001b[0m\n\u001b[1;32m    152\u001b[0m       \u001b[0mfiltered_tb\u001b[0m \u001b[0;34m=\u001b[0m \u001b[0m_process_traceback_frames\u001b[0m\u001b[0;34m(\u001b[0m\u001b[0me\u001b[0m\u001b[0;34m.\u001b[0m\u001b[0m__traceback__\u001b[0m\u001b[0;34m)\u001b[0m\u001b[0;34m\u001b[0m\u001b[0;34m\u001b[0m\u001b[0m\n",
            "\u001b[0;32m/usr/local/lib/python3.8/dist-packages/tensorflow/python/eager/def_function.py\u001b[0m in \u001b[0;36m__call__\u001b[0;34m(self, *args, **kwds)\u001b[0m\n\u001b[1;32m    913\u001b[0m \u001b[0;34m\u001b[0m\u001b[0m\n\u001b[1;32m    914\u001b[0m       \u001b[0;32mwith\u001b[0m \u001b[0mOptionalXlaContext\u001b[0m\u001b[0;34m(\u001b[0m\u001b[0mself\u001b[0m\u001b[0;34m.\u001b[0m\u001b[0m_jit_compile\u001b[0m\u001b[0;34m)\u001b[0m\u001b[0;34m:\u001b[0m\u001b[0;34m\u001b[0m\u001b[0;34m\u001b[0m\u001b[0m\n\u001b[0;32m--> 915\u001b[0;31m         \u001b[0mresult\u001b[0m \u001b[0;34m=\u001b[0m \u001b[0mself\u001b[0m\u001b[0;34m.\u001b[0m\u001b[0m_call\u001b[0m\u001b[0;34m(\u001b[0m\u001b[0;34m*\u001b[0m\u001b[0margs\u001b[0m\u001b[0;34m,\u001b[0m \u001b[0;34m**\u001b[0m\u001b[0mkwds\u001b[0m\u001b[0;34m)\u001b[0m\u001b[0;34m\u001b[0m\u001b[0;34m\u001b[0m\u001b[0m\n\u001b[0m\u001b[1;32m    916\u001b[0m \u001b[0;34m\u001b[0m\u001b[0m\n\u001b[1;32m    917\u001b[0m       \u001b[0mnew_tracing_count\u001b[0m \u001b[0;34m=\u001b[0m \u001b[0mself\u001b[0m\u001b[0;34m.\u001b[0m\u001b[0mexperimental_get_tracing_count\u001b[0m\u001b[0;34m(\u001b[0m\u001b[0;34m)\u001b[0m\u001b[0;34m\u001b[0m\u001b[0;34m\u001b[0m\u001b[0m\n",
            "\u001b[0;32m/usr/local/lib/python3.8/dist-packages/tensorflow/python/eager/def_function.py\u001b[0m in \u001b[0;36m_call\u001b[0;34m(self, *args, **kwds)\u001b[0m\n\u001b[1;32m    945\u001b[0m       \u001b[0;31m# In this case we have created variables on the first call, so we run the\u001b[0m\u001b[0;34m\u001b[0m\u001b[0;34m\u001b[0m\u001b[0;34m\u001b[0m\u001b[0m\n\u001b[1;32m    946\u001b[0m       \u001b[0;31m# defunned version which is guaranteed to never create variables.\u001b[0m\u001b[0;34m\u001b[0m\u001b[0;34m\u001b[0m\u001b[0;34m\u001b[0m\u001b[0m\n\u001b[0;32m--> 947\u001b[0;31m       \u001b[0;32mreturn\u001b[0m \u001b[0mself\u001b[0m\u001b[0;34m.\u001b[0m\u001b[0m_stateless_fn\u001b[0m\u001b[0;34m(\u001b[0m\u001b[0;34m*\u001b[0m\u001b[0margs\u001b[0m\u001b[0;34m,\u001b[0m \u001b[0;34m**\u001b[0m\u001b[0mkwds\u001b[0m\u001b[0;34m)\u001b[0m  \u001b[0;31m# pylint: disable=not-callable\u001b[0m\u001b[0;34m\u001b[0m\u001b[0;34m\u001b[0m\u001b[0m\n\u001b[0m\u001b[1;32m    948\u001b[0m     \u001b[0;32melif\u001b[0m \u001b[0mself\u001b[0m\u001b[0;34m.\u001b[0m\u001b[0m_stateful_fn\u001b[0m \u001b[0;32mis\u001b[0m \u001b[0;32mnot\u001b[0m \u001b[0;32mNone\u001b[0m\u001b[0;34m:\u001b[0m\u001b[0;34m\u001b[0m\u001b[0;34m\u001b[0m\u001b[0m\n\u001b[1;32m    949\u001b[0m       \u001b[0;31m# Release the lock early so that multiple threads can perform the call\u001b[0m\u001b[0;34m\u001b[0m\u001b[0;34m\u001b[0m\u001b[0;34m\u001b[0m\u001b[0m\n",
            "\u001b[0;32m/usr/local/lib/python3.8/dist-packages/tensorflow/python/eager/function.py\u001b[0m in \u001b[0;36m__call__\u001b[0;34m(self, *args, **kwargs)\u001b[0m\n\u001b[1;32m   2451\u001b[0m       (graph_function,\n\u001b[1;32m   2452\u001b[0m        filtered_flat_args) = self._maybe_define_function(args, kwargs)\n\u001b[0;32m-> 2453\u001b[0;31m     return graph_function._call_flat(\n\u001b[0m\u001b[1;32m   2454\u001b[0m         filtered_flat_args, captured_inputs=graph_function.captured_inputs)  # pylint: disable=protected-access\n\u001b[1;32m   2455\u001b[0m \u001b[0;34m\u001b[0m\u001b[0m\n",
            "\u001b[0;32m/usr/local/lib/python3.8/dist-packages/tensorflow/python/eager/function.py\u001b[0m in \u001b[0;36m_call_flat\u001b[0;34m(self, args, captured_inputs, cancellation_manager)\u001b[0m\n\u001b[1;32m   1858\u001b[0m         and executing_eagerly):\n\u001b[1;32m   1859\u001b[0m       \u001b[0;31m# No tape is watching; skip to running the function.\u001b[0m\u001b[0;34m\u001b[0m\u001b[0;34m\u001b[0m\u001b[0;34m\u001b[0m\u001b[0m\n\u001b[0;32m-> 1860\u001b[0;31m       return self._build_call_outputs(self._inference_function.call(\n\u001b[0m\u001b[1;32m   1861\u001b[0m           ctx, args, cancellation_manager=cancellation_manager))\n\u001b[1;32m   1862\u001b[0m     forward_backward = self._select_forward_and_backward_functions(\n",
            "\u001b[0;32m/usr/local/lib/python3.8/dist-packages/tensorflow/python/eager/function.py\u001b[0m in \u001b[0;36mcall\u001b[0;34m(self, ctx, args, cancellation_manager)\u001b[0m\n\u001b[1;32m    495\u001b[0m       \u001b[0;32mwith\u001b[0m \u001b[0m_InterpolateFunctionError\u001b[0m\u001b[0;34m(\u001b[0m\u001b[0mself\u001b[0m\u001b[0;34m)\u001b[0m\u001b[0;34m:\u001b[0m\u001b[0;34m\u001b[0m\u001b[0;34m\u001b[0m\u001b[0m\n\u001b[1;32m    496\u001b[0m         \u001b[0;32mif\u001b[0m \u001b[0mcancellation_manager\u001b[0m \u001b[0;32mis\u001b[0m \u001b[0;32mNone\u001b[0m\u001b[0;34m:\u001b[0m\u001b[0;34m\u001b[0m\u001b[0;34m\u001b[0m\u001b[0m\n\u001b[0;32m--> 497\u001b[0;31m           outputs = execute.execute(\n\u001b[0m\u001b[1;32m    498\u001b[0m               \u001b[0mstr\u001b[0m\u001b[0;34m(\u001b[0m\u001b[0mself\u001b[0m\u001b[0;34m.\u001b[0m\u001b[0msignature\u001b[0m\u001b[0;34m.\u001b[0m\u001b[0mname\u001b[0m\u001b[0;34m)\u001b[0m\u001b[0;34m,\u001b[0m\u001b[0;34m\u001b[0m\u001b[0;34m\u001b[0m\u001b[0m\n\u001b[1;32m    499\u001b[0m               \u001b[0mnum_outputs\u001b[0m\u001b[0;34m=\u001b[0m\u001b[0mself\u001b[0m\u001b[0;34m.\u001b[0m\u001b[0m_num_outputs\u001b[0m\u001b[0;34m,\u001b[0m\u001b[0;34m\u001b[0m\u001b[0;34m\u001b[0m\u001b[0m\n",
            "\u001b[0;32m/usr/local/lib/python3.8/dist-packages/tensorflow/python/eager/execute.py\u001b[0m in \u001b[0;36mquick_execute\u001b[0;34m(op_name, num_outputs, inputs, attrs, ctx, name)\u001b[0m\n\u001b[1;32m     52\u001b[0m   \u001b[0;32mtry\u001b[0m\u001b[0;34m:\u001b[0m\u001b[0;34m\u001b[0m\u001b[0;34m\u001b[0m\u001b[0m\n\u001b[1;32m     53\u001b[0m     \u001b[0mctx\u001b[0m\u001b[0;34m.\u001b[0m\u001b[0mensure_initialized\u001b[0m\u001b[0;34m(\u001b[0m\u001b[0;34m)\u001b[0m\u001b[0;34m\u001b[0m\u001b[0;34m\u001b[0m\u001b[0m\n\u001b[0;32m---> 54\u001b[0;31m     tensors = pywrap_tfe.TFE_Py_Execute(ctx._handle, device_name, op_name,\n\u001b[0m\u001b[1;32m     55\u001b[0m                                         inputs, attrs, num_outputs)\n\u001b[1;32m     56\u001b[0m   \u001b[0;32mexcept\u001b[0m \u001b[0mcore\u001b[0m\u001b[0;34m.\u001b[0m\u001b[0m_NotOkStatusException\u001b[0m \u001b[0;32mas\u001b[0m \u001b[0me\u001b[0m\u001b[0;34m:\u001b[0m\u001b[0;34m\u001b[0m\u001b[0;34m\u001b[0m\u001b[0m\n",
            "\u001b[0;31mKeyboardInterrupt\u001b[0m: "
          ]
        }
      ]
    },
    {
      "cell_type": "code",
      "source": [
        "import matplotlib.image  as mpimg\n",
        "import matplotlib.pyplot as plt\n",
        "acc=history.history['acc']\n",
        "val_acc=history.history['val_acc']\n",
        "loss=history.history['loss']\n",
        "val_loss=history.history['val_loss']\n",
        "\n",
        "epochs=range(len(acc)) \n",
        "plt.plot(epochs, acc, 'r', \"Training Accuracy\")\n",
        "plt.plot(epochs, val_acc, 'b', \"Validation Accuracy\")\n",
        "plt.title('Training and validation accuracy')\n",
        "plt.figure()\n",
        "\n",
        "plt.plot(epochs, loss, 'r', \"Training Loss\")\n",
        "plt.plot(epochs, val_loss, 'b', \"Validation Loss\")\n",
        "\n"
      ],
      "metadata": {
        "colab": {
          "base_uri": "https://localhost:8080/",
          "height": 564
        },
        "id": "0RzmNXLScpuv",
        "outputId": "d833997b-dedd-4946-a559-d46783eb1426"
      },
      "execution_count": null,
      "outputs": [
        {
          "output_type": "execute_result",
          "data": {
            "text/plain": [
              "[<matplotlib.lines.Line2D at 0x7fa7097f3040>,\n",
              " <matplotlib.lines.Line2D at 0x7fa7097f3220>]"
            ]
          },
          "metadata": {},
          "execution_count": 48
        },
        {
          "output_type": "display_data",
          "data": {
            "text/plain": [
              "<Figure size 432x288 with 1 Axes>"
            ],
            "image/png": "[encoded data removed]"
          },
          "metadata": {
            "needs_background": "light"
          }
        },
        {
          "output_type": "display_data",
          "data": {
            "text/plain": [
              "<Figure size 432x288 with 1 Axes>"
            ],
            "image/png": "[encoded data removed]"
          },
          "metadata": {
            "needs_background": "light"
          }
        }
      ]
    },
    {
      "cell_type": "code",
      "source": [
        "model.evaluate(ds_test)"
      ],
      "metadata": {
        "colab": {
          "base_uri": "https://localhost:8080/"
        },
        "id": "bACj3JRodUVM",
        "outputId": "40826ee6-f254-4ed4-af69-add43f8fd5d5"
      },
      "execution_count": null,
      "outputs": [
        {
          "output_type": "stream",
          "name": "stdout",
          "text": [
            "2/2 [==============================] - 0s 37ms/step - loss: 0.0377 - acc: 1.0000\n"
          ]
        },
        {
          "output_type": "execute_result",
          "data": {
            "text/plain": [
              "[0.03770343214273453, 1.0]"
            ]
          },
          "metadata": {},
          "execution_count": 49
        }
      ]
    },
    {
      "cell_type": "code",
      "source": [
        "model.save('resnet.h5')"
      ],
      "metadata": {
        "id": "HY6S4fvTd3Vn"
      },
      "execution_count": null,
      "outputs": []
    },
    {
      "cell_type": "code",
      "source": [
        "m = models.load_model('resnet.h5')\n",
        "m.evaluate(ds_test)"
      ],
      "metadata": {
        "id": "23K1E6CIkill",
        "outputId": "20257b30-fbae-4168-ef36-417f035a1e57",
        "colab": {
          "base_uri": "https://localhost:8080/"
        }
      },
      "execution_count": null,
      "outputs": [
        {
          "output_type": "stream",
          "name": "stdout",
          "text": [
            "2/2 [==============================] - 1s 38ms/step - loss: 0.0377 - acc: 1.0000\n"
          ]
        },
        {
          "output_type": "execute_result",
          "data": {
            "text/plain": [
              "[0.03770343214273453, 1.0]"
            ]
          },
          "metadata": {},
          "execution_count": 52
        }
      ]
    },
    {
      "cell_type": "code",
      "source": [
        "from google.colab import drive\n",
        "drive.mount(\"/content/drive\")"
      ],
      "metadata": {
        "id": "3XDeunUlipzF",
        "outputId": "bb6ddb0b-5206-4d34-dc9d-89a4311f6f21",
        "colab": {
          "base_uri": "https://localhost:8080/"
        }
      },
      "execution_count": null,
      "outputs": [
        {
          "output_type": "stream",
          "name": "stdout",
          "text": [
            "Mounted at /content/drive\n"
          ]
        }
      ]
    },
    {
      "cell_type": "code",
      "source": [
        "!gdown 1YnJxJRREnGo8bOq2sv5Y_ZWdaHRAZi_Q"
      ],
      "metadata": {
        "id": "rLSNaIWJiv0d",
        "outputId": "795b9cda-76e2-41cb-fdd9-c9c451172567",
        "colab": {
          "base_uri": "https://localhost:8080/"
        }
      },
      "execution_count": null,
      "outputs": [
        {
          "output_type": "stream",
          "name": "stdout",
          "text": [
            "Downloading...\n",
            "From: https://drive.google.com/uc?id=1YnJxJRREnGo8bOq2sv5Y_ZWdaHRAZi_Q\n",
            "To: /content/CV2023TestSamples.zip\n",
            "\r  0% 0.00/590k [00:00<?, ?B/s]\r100% 590k/590k [00:00<00:00, 155MB/s]\n"
          ]
        }
      ]
    },
    {
      "cell_type": "code",
      "source": [
        "!unzip /content/CV2023TestSamples.zip -d t"
      ],
      "metadata": {
        "id": "0SK5hlselAXT"
      },
      "execution_count": null,
      "outputs": []
    },
    {
      "cell_type": "code",
      "source": [
        "test = tf.keras.preprocessing.image_dataset_from_directory(\n",
        "    \"testD/\",\n",
        "    labels=\"inferred\",\n",
        "    label_mode=\"categorical\",  # categorical, binary\n",
        "    # class_names=['0', '1', '2', '3', ...]\n",
        "     color_mode=\"rgb\",\n",
        "    batch_size=32,\n",
        "    image_size=(215, 90),  # reshape if not in this size\n",
        "    shuffle=True,\n",
        "    seed=123,\n",
        "    )"
      ],
      "metadata": {
        "id": "ZBK2T4tAk5as",
        "outputId": "ab310a56-28d8-4642-ecc9-5605ddd24e15",
        "colab": {
          "base_uri": "https://localhost:8080/"
        }
      },
      "execution_count": null,
      "outputs": [
        {
          "output_type": "stream",
          "name": "stdout",
          "text": [
            "Found 5 files belonging to 5 classes.\n"
          ]
        }
      ]
    },
    {
      "cell_type": "code",
      "source": [
        "m.evaluate(test)"
      ],
      "metadata": {
        "id": "EWKGHNB-lu-T",
        "outputId": "b5bc003f-c9d0-4767-9cf7-d64c40797dd4",
        "colab": {
          "base_uri": "https://localhost:8080/"
        }
      },
      "execution_count": null,
      "outputs": [
        {
          "output_type": "stream",
          "name": "stdout",
          "text": [
            "1/1 [==============================] - 1s 502ms/step - loss: 9.5367e-08 - acc: 1.0000\n"
          ]
        },
        {
          "output_type": "execute_result",
          "data": {
            "text/plain": [
              "[9.53674117454284e-08, 1.0]"
            ]
          },
          "metadata": {},
          "execution_count": 60
        }
      ]
    },
    {
      "cell_type": "code",
      "source": [
        "m.save('resnet_class_sig.h5')"
      ],
      "metadata": {
        "id": "zjhRbuBZl1Ln"
      },
      "execution_count": null,
      "outputs": []
    },
    {
      "cell_type": "code",
      "source": [
        "!cp /content/resnet_class_sig.h5 /content/drive/MyDrive"
      ],
      "metadata": {
        "id": "Jw5rWmSnmo6r"
      },
      "execution_count": null,
      "outputs": []
    },
    {
      "cell_type": "code",
      "source": [],
      "metadata": {
        "id": "mCUUfQ4am5Ss"
      },
      "execution_count": null,
      "outputs": []
    }
  ]
}