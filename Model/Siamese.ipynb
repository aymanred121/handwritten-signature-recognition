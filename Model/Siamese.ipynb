{
 "cells": [
  {
   "cell_type": "code",
   "execution_count": 1,
   "id": "9855e8ea",
   "metadata": {
    "execution": {
     "iopub.execute_input": "2022-12-26T21:19:15.611127Z",
     "iopub.status.busy": "2022-12-26T21:19:15.610178Z",
     "iopub.status.idle": "2022-12-26T21:19:16.553559Z",
     "shell.execute_reply": "2022-12-26T21:19:16.552308Z"
    },
    "id": "s2dieA9tEzTE",
    "papermill": {
     "duration": 0.959698,
     "end_time": "2022-12-26T21:19:16.556035",
     "exception": false,
     "start_time": "2022-12-26T21:19:15.596337",
     "status": "completed"
    },
    "tags": []
   },
   "outputs": [],
   "source": [
    "!rm -rf /kaggle/working/*"
   ]
  },
  {
   "cell_type": "code",
   "execution_count": 2,
   "id": "a2606935",
   "metadata": {
    "execution": {
     "iopub.execute_input": "2022-12-26T21:19:16.581878Z",
     "iopub.status.busy": "2022-12-26T21:19:16.581168Z",
     "iopub.status.idle": "2022-12-26T21:19:22.624895Z",
     "shell.execute_reply": "2022-12-26T21:19:22.623980Z"
    },
    "papermill": {
     "duration": 6.05988,
     "end_time": "2022-12-26T21:19:22.627185",
     "exception": false,
     "start_time": "2022-12-26T21:19:16.567305",
     "status": "completed"
    },
    "tags": []
   },
   "outputs": [],
   "source": [
    "import pandas as pd\n",
    "import numpy as np\n",
    "import seaborn as sns\n",
    "import matplotlib.pyplot as plt\n",
    "from matplotlib.colors import ListedColormap\n",
    "import os\n",
    "import random\n",
    "import cv2\n",
    "import tensorflow as tf\n",
    "import time\n",
    "import random\n",
    "from pathlib import Path\n",
    "\n",
    "from tensorflow.keras import datasets, layers, models,applications,losses,optimizers,metrics,Model,backend\n",
    "\n",
    "from tensorflow.keras.applications.inception_v3 import preprocess_input\n",
    "from tensorflow.keras.applications import resnet,Xception\n",
    "\n",
    "from tensorflow.keras.models import Sequential,Model\n",
    "from tensorflow.keras.layers import Dense,Conv2D,Dropout,Flatten\n",
    "\n",
    "from tensorflow.keras.optimizers import Adam\n",
    "\n",
    "from tensorflow.keras.utils import plot_model\n",
    "from sklearn.metrics import accuracy_score, confusion_matrix, classification_report\n",
    "\n",
    "\n",
    "tf.__version__, np.__version__\n",
    "target_shape = (200, 200)"
   ]
  },
  {
   "cell_type": "code",
   "execution_count": 3,
   "id": "99092028",
   "metadata": {
    "execution": {
     "iopub.execute_input": "2022-12-26T21:19:22.650947Z",
     "iopub.status.busy": "2022-12-26T21:19:22.650423Z",
     "iopub.status.idle": "2022-12-26T21:19:23.580561Z",
     "shell.execute_reply": "2022-12-26T21:19:23.579264Z"
    },
    "id": "s2dieA9tEzTE",
    "papermill": {
     "duration": 0.944864,
     "end_time": "2022-12-26T21:19:23.583301",
     "exception": false,
     "start_time": "2022-12-26T21:19:22.638437",
     "status": "completed"
    },
    "tags": []
   },
   "outputs": [],
   "source": [
    "!rm -rf /kaggle/working/*"
   ]
  },
  {
   "cell_type": "code",
   "execution_count": 4,
   "id": "02385f22",
   "metadata": {
    "execution": {
     "iopub.execute_input": "2022-12-26T21:19:23.608059Z",
     "iopub.status.busy": "2022-12-26T21:19:23.606640Z",
     "iopub.status.idle": "2022-12-26T21:19:34.540726Z",
     "shell.execute_reply": "2022-12-26T21:19:34.539595Z"
    },
    "papermill": {
     "duration": 10.948831,
     "end_time": "2022-12-26T21:19:34.543341",
     "exception": false,
     "start_time": "2022-12-26T21:19:23.594510",
     "status": "completed"
    },
    "tags": []
   },
   "outputs": [
    {
     "name": "stdout",
     "output_type": "stream",
     "text": [
      "Collecting gdown\r\n",
      "  Downloading gdown-4.6.0-py3-none-any.whl (14 kB)\r\n",
      "Requirement already satisfied: requests[socks] in /opt/conda/lib/python3.7/site-packages (from gdown) (2.28.1)\r\n",
      "Requirement already satisfied: beautifulsoup4 in /opt/conda/lib/python3.7/site-packages (from gdown) (4.11.1)\r\n",
      "Requirement already satisfied: tqdm in /opt/conda/lib/python3.7/site-packages (from gdown) (4.64.0)\r\n",
      "Requirement already satisfied: filelock in /opt/conda/lib/python3.7/site-packages (from gdown) (3.7.1)\r\n",
      "Requirement already satisfied: six in /opt/conda/lib/python3.7/site-packages (from gdown) (1.15.0)\r\n",
      "Requirement already satisfied: soupsieve>1.2 in /opt/conda/lib/python3.7/site-packages (from beautifulsoup4->gdown) (2.3.1)\r\n",
      "Requirement already satisfied: urllib3<1.27,>=1.21.1 in /opt/conda/lib/python3.7/site-packages (from requests[socks]->gdown) (1.26.12)\r\n",
      "Requirement already satisfied: certifi>=2017.4.17 in /opt/conda/lib/python3.7/site-packages (from requests[socks]->gdown) (2022.9.24)\r\n",
      "Requirement already satisfied: idna<4,>=2.5 in /opt/conda/lib/python3.7/site-packages (from requests[socks]->gdown) (3.3)\r\n",
      "Requirement already satisfied: charset-normalizer<3,>=2 in /opt/conda/lib/python3.7/site-packages (from requests[socks]->gdown) (2.1.0)\r\n",
      "Requirement already satisfied: PySocks!=1.5.7,>=1.5.6 in /opt/conda/lib/python3.7/site-packages (from requests[socks]->gdown) (1.7.1)\r\n",
      "Installing collected packages: gdown\r\n",
      "Successfully installed gdown-4.6.0\r\n",
      "\u001b[33mWARNING: Running pip as the 'root' user can result in broken permissions and conflicting behaviour with the system package manager. It is recommended to use a virtual environment instead: https://pip.pypa.io/warnings/venv\u001b[0m\u001b[33m\r\n",
      "\u001b[0m"
     ]
    }
   ],
   "source": [
    "!pip install gdown"
   ]
  },
  {
   "cell_type": "code",
   "execution_count": 5,
   "id": "860b2d99",
   "metadata": {
    "execution": {
     "iopub.execute_input": "2022-12-26T21:19:34.568293Z",
     "iopub.status.busy": "2022-12-26T21:19:34.567925Z",
     "iopub.status.idle": "2022-12-26T21:19:37.966774Z",
     "shell.execute_reply": "2022-12-26T21:19:37.965610Z"
    },
    "id": "-OhzbeFoJFRL",
    "outputId": "4114fe64-28f8-488f-aa93-8faae2945869",
    "papermill": {
     "duration": 3.414179,
     "end_time": "2022-12-26T21:19:37.969240",
     "exception": false,
     "start_time": "2022-12-26T21:19:34.555061",
     "status": "completed"
    },
    "tags": []
   },
   "outputs": [
    {
     "name": "stdout",
     "output_type": "stream",
     "text": [
      "Downloading...\r\n",
      "From: https://drive.google.com/uc?id=1WqIhqp9JJ65SZPs9v868P_-SBCVTR2By\r\n",
      "To: /kaggle/working/CV_2023_SC_Dataset.zip\r\n",
      "100%|███████████████████████████████████████| 1.20M/1.20M [00:00<00:00, 117MB/s]\r\n"
     ]
    }
   ],
   "source": [
    "!gdown 1WqIhqp9JJ65SZPs9v868P_-SBCVTR2By"
   ]
  },
  {
   "cell_type": "code",
   "execution_count": 6,
   "id": "7c718031",
   "metadata": {
    "execution": {
     "iopub.execute_input": "2022-12-26T21:19:37.994971Z",
     "iopub.status.busy": "2022-12-26T21:19:37.994077Z",
     "iopub.status.idle": "2022-12-26T21:19:38.934738Z",
     "shell.execute_reply": "2022-12-26T21:19:38.933603Z"
    },
    "papermill": {
     "duration": 0.955816,
     "end_time": "2022-12-26T21:19:38.936959",
     "exception": false,
     "start_time": "2022-12-26T21:19:37.981143",
     "status": "completed"
    },
    "tags": []
   },
   "outputs": [
    {
     "name": "stdout",
     "output_type": "stream",
     "text": [
      "/kaggle/working\r\n"
     ]
    }
   ],
   "source": [
    "!pwd"
   ]
  },
  {
   "cell_type": "code",
   "execution_count": 7,
   "id": "b8f1eaba",
   "metadata": {
    "execution": {
     "iopub.execute_input": "2022-12-26T21:19:38.962959Z",
     "iopub.status.busy": "2022-12-26T21:19:38.962001Z",
     "iopub.status.idle": "2022-12-26T21:19:39.972622Z",
     "shell.execute_reply": "2022-12-26T21:19:39.971439Z"
    },
    "id": "dvxSWL6oJKyc",
    "papermill": {
     "duration": 1.02609,
     "end_time": "2022-12-26T21:19:39.974953",
     "exception": false,
     "start_time": "2022-12-26T21:19:38.948863",
     "status": "completed"
    },
    "scrolled": true,
    "tags": []
   },
   "outputs": [
    {
     "name": "stdout",
     "output_type": "stream",
     "text": [
      "Archive:  /kaggle/working/CV_2023_SC_Dataset.zip\r\n",
      "   creating: /kaggle/working/data/personA/Test/\r\n",
      "  inflating: /kaggle/working/data/personA/Test/personA_10.png  \r\n",
      "  inflating: /kaggle/working/data/personA/Test/personA_13.png  \r\n",
      "  inflating: /kaggle/working/data/personA/Test/personA_2.png  \r\n",
      "  inflating: /kaggle/working/data/personA/Test/personA_20.png  \r\n",
      "  inflating: /kaggle/working/data/personA/Test/personA_27.png  \r\n",
      "  inflating: /kaggle/working/data/personA/Test/personA_29.png  \r\n",
      "  inflating: /kaggle/working/data/personA/Test/personA_30.png  \r\n",
      "  inflating: /kaggle/working/data/personA/Test/personA_42.png  \r\n",
      "  inflating: /kaggle/working/data/personA/Test/personA_SigVerificationTestLabels.csv  \r\n",
      "   creating: /kaggle/working/data/personA/Train/\r\n",
      "  inflating: /kaggle/working/data/personA/Train/personA_1.png  \r\n",
      "  inflating: /kaggle/working/data/personA/Train/personA_11.png  \r\n",
      "  inflating: /kaggle/working/data/personA/Train/personA_12.png  \r\n",
      "  inflating: /kaggle/working/data/personA/Train/personA_14.png  \r\n",
      "  inflating: /kaggle/working/data/personA/Train/personA_15.png  \r\n",
      "  inflating: /kaggle/working/data/personA/Train/personA_16.png  \r\n",
      "  inflating: /kaggle/working/data/personA/Train/personA_17.png  \r\n",
      "  inflating: /kaggle/working/data/personA/Train/personA_18.png  \r\n",
      "  inflating: /kaggle/working/data/personA/Train/personA_19.png  \r\n",
      "  inflating: /kaggle/working/data/personA/Train/personA_21.png  \r\n",
      "  inflating: /kaggle/working/data/personA/Train/personA_22.png  \r\n",
      "  inflating: /kaggle/working/data/personA/Train/personA_23.png  \r\n",
      "  inflating: /kaggle/working/data/personA/Train/personA_24.png  \r\n",
      "  inflating: /kaggle/working/data/personA/Train/personA_25.png  \r\n",
      "  inflating: /kaggle/working/data/personA/Train/personA_26.png  \r\n",
      "  inflating: /kaggle/working/data/personA/Train/personA_28.png  \r\n",
      "  inflating: /kaggle/working/data/personA/Train/personA_3.png  \r\n",
      "  inflating: /kaggle/working/data/personA/Train/personA_31.png  \r\n",
      "  inflating: /kaggle/working/data/personA/Train/personA_32.png  \r\n",
      "  inflating: /kaggle/working/data/personA/Train/personA_33.png  \r\n",
      "  inflating: /kaggle/working/data/personA/Train/personA_34.png  \r\n",
      "  inflating: /kaggle/working/data/personA/Train/personA_35.png  \r\n",
      "  inflating: /kaggle/working/data/personA/Train/personA_36.png  \r\n",
      "  inflating: /kaggle/working/data/personA/Train/personA_37.png  \r\n",
      "  inflating: /kaggle/working/data/personA/Train/personA_38.png  \r\n",
      "  inflating: /kaggle/working/data/personA/Train/personA_39.png  \r\n",
      "  inflating: /kaggle/working/data/personA/Train/personA_4.png  \r\n",
      "  inflating: /kaggle/working/data/personA/Train/personA_40.png  \r\n",
      "  inflating: /kaggle/working/data/personA/Train/personA_41.png  \r\n",
      "  inflating: /kaggle/working/data/personA/Train/personA_43.png  \r\n",
      "  inflating: /kaggle/working/data/personA/Train/personA_44.png  \r\n",
      "  inflating: /kaggle/working/data/personA/Train/personA_45.png  \r\n",
      "  inflating: /kaggle/working/data/personA/Train/personA_46.png  \r\n",
      "  inflating: /kaggle/working/data/personA/Train/personA_47.png  \r\n",
      "  inflating: /kaggle/working/data/personA/Train/personA_48.png  \r\n",
      "  inflating: /kaggle/working/data/personA/Train/personA_5.png  \r\n",
      "  inflating: /kaggle/working/data/personA/Train/personA_6.png  \r\n",
      "  inflating: /kaggle/working/data/personA/Train/personA_7.png  \r\n",
      "  inflating: /kaggle/working/data/personA/Train/personA_8.png  \r\n",
      "  inflating: /kaggle/working/data/personA/Train/personA_9.png  \r\n",
      "  inflating: /kaggle/working/data/personA/Train/personA_SigVerificationTrainLabels.csv  \r\n",
      "   creating: /kaggle/working/data/personB/Test/\r\n",
      "  inflating: /kaggle/working/data/personB/Test/personB_10.png  \r\n",
      "  inflating: /kaggle/working/data/personB/Test/personB_13.png  \r\n",
      "  inflating: /kaggle/working/data/personB/Test/personB_2.png  \r\n",
      "  inflating: /kaggle/working/data/personB/Test/personB_20.png  \r\n",
      "  inflating: /kaggle/working/data/personB/Test/personB_27.png  \r\n",
      "  inflating: /kaggle/working/data/personB/Test/personB_29.png  \r\n",
      "  inflating: /kaggle/working/data/personB/Test/personB_33.png  \r\n",
      "  inflating: /kaggle/working/data/personB/Test/personB_42.png  \r\n",
      "  inflating: /kaggle/working/data/personB/Test/personB_SigVerificationTestLabels.csv  \r\n",
      "   creating: /kaggle/working/data/personB/Train/\r\n",
      "  inflating: /kaggle/working/data/personB/Train/personB_1.png  \r\n",
      "  inflating: /kaggle/working/data/personB/Train/personB_11.png  \r\n",
      "  inflating: /kaggle/working/data/personB/Train/personB_12.png  \r\n",
      "  inflating: /kaggle/working/data/personB/Train/personB_14.png  \r\n",
      "  inflating: /kaggle/working/data/personB/Train/personB_15.png  \r\n",
      "  inflating: /kaggle/working/data/personB/Train/personB_16.png  \r\n",
      "  inflating: /kaggle/working/data/personB/Train/personB_17.png  \r\n",
      "  inflating: /kaggle/working/data/personB/Train/personB_18.png  \r\n",
      "  inflating: /kaggle/working/data/personB/Train/personB_19.png  \r\n",
      "  inflating: /kaggle/working/data/personB/Train/personB_21.png  \r\n",
      "  inflating: /kaggle/working/data/personB/Train/personB_22.png  \r\n",
      "  inflating: /kaggle/working/data/personB/Train/personB_23.png  \r\n",
      "  inflating: /kaggle/working/data/personB/Train/personB_24.png  \r\n",
      "  inflating: /kaggle/working/data/personB/Train/personB_25.png  \r\n",
      "  inflating: /kaggle/working/data/personB/Train/personB_26.png  \r\n",
      "  inflating: /kaggle/working/data/personB/Train/personB_28.png  \r\n",
      "  inflating: /kaggle/working/data/personB/Train/personB_3.png  \r\n",
      "  inflating: /kaggle/working/data/personB/Train/personB_30.png  \r\n",
      "  inflating: /kaggle/working/data/personB/Train/personB_31.png  \r\n",
      "  inflating: /kaggle/working/data/personB/Train/personB_32.png  \r\n",
      "  inflating: /kaggle/working/data/personB/Train/personB_34.png  \r\n",
      "  inflating: /kaggle/working/data/personB/Train/personB_35.png  \r\n",
      "  inflating: /kaggle/working/data/personB/Train/personB_36.png  \r\n",
      "  inflating: /kaggle/working/data/personB/Train/personB_37.png  \r\n",
      "  inflating: /kaggle/working/data/personB/Train/personB_38.png  \r\n",
      "  inflating: /kaggle/working/data/personB/Train/personB_39.png  \r\n",
      "  inflating: /kaggle/working/data/personB/Train/personB_4.png  \r\n",
      "  inflating: /kaggle/working/data/personB/Train/personB_40.png  \r\n",
      "  inflating: /kaggle/working/data/personB/Train/personB_41.png  \r\n",
      "  inflating: /kaggle/working/data/personB/Train/personB_43.png  \r\n",
      "  inflating: /kaggle/working/data/personB/Train/personB_44.png  \r\n",
      "  inflating: /kaggle/working/data/personB/Train/personB_45.png  \r\n",
      "  inflating: /kaggle/working/data/personB/Train/personB_46.png  \r\n",
      "  inflating: /kaggle/working/data/personB/Train/personB_47.png  \r\n",
      "  inflating: /kaggle/working/data/personB/Train/personB_48.png  \r\n",
      "  inflating: /kaggle/working/data/personB/Train/personB_5.png  \r\n",
      "  inflating: /kaggle/working/data/personB/Train/personB_6.png  \r\n",
      "  inflating: /kaggle/working/data/personB/Train/personB_7.png  \r\n",
      "  inflating: /kaggle/working/data/personB/Train/personB_8.png  \r\n",
      "  inflating: /kaggle/working/data/personB/Train/personB_9.png  \r\n",
      "  inflating: /kaggle/working/data/personB/Train/personB_SigVerificationTrainLabels.csv  \r\n",
      "   creating: /kaggle/working/data/personC/Test/\r\n",
      "  inflating: /kaggle/working/data/personC/Test/personC_13.png  \r\n",
      "  inflating: /kaggle/working/data/personC/Test/personC_17.png  \r\n",
      "  inflating: /kaggle/working/data/personC/Test/personC_19.png  \r\n",
      "  inflating: /kaggle/working/data/personC/Test/personC_32.png  \r\n",
      "  inflating: /kaggle/working/data/personC/Test/personC_34.png  \r\n",
      "  inflating: /kaggle/working/data/personC/Test/personC_39.png  \r\n",
      "  inflating: /kaggle/working/data/personC/Test/personC_6.png  \r\n",
      "  inflating: /kaggle/working/data/personC/Test/personC_8.png  \r\n",
      "  inflating: /kaggle/working/data/personC/Test/personC_SigVerificationTestLabels.csv  \r\n",
      "   creating: /kaggle/working/data/personC/Train/\r\n",
      "  inflating: /kaggle/working/data/personC/Train/personC_1.png  \r\n",
      "  inflating: /kaggle/working/data/personC/Train/personC_10.png  \r\n",
      "  inflating: /kaggle/working/data/personC/Train/personC_11.png  \r\n",
      "  inflating: /kaggle/working/data/personC/Train/personC_12.png  \r\n",
      "  inflating: /kaggle/working/data/personC/Train/personC_14.png  \r\n",
      "  inflating: /kaggle/working/data/personC/Train/personC_15.png  \r\n",
      "  inflating: /kaggle/working/data/personC/Train/personC_16.png  \r\n",
      "  inflating: /kaggle/working/data/personC/Train/personC_18.png  \r\n",
      "  inflating: /kaggle/working/data/personC/Train/personC_2.png  \r\n",
      "  inflating: /kaggle/working/data/personC/Train/personC_20.png  \r\n",
      "  inflating: /kaggle/working/data/personC/Train/personC_21.png  \r\n",
      "  inflating: /kaggle/working/data/personC/Train/personC_22.png  \r\n",
      "  inflating: /kaggle/working/data/personC/Train/personC_23.png  \r\n",
      "  inflating: /kaggle/working/data/personC/Train/personC_24.png  \r\n",
      "  inflating: /kaggle/working/data/personC/Train/personC_25.png  \r\n",
      "  inflating: /kaggle/working/data/personC/Train/personC_26.png  \r\n",
      "  inflating: /kaggle/working/data/personC/Train/personC_27.png  \r\n",
      "  inflating: /kaggle/working/data/personC/Train/personC_28.png  \r\n",
      "  inflating: /kaggle/working/data/personC/Train/personC_29.png  \r\n",
      "  inflating: /kaggle/working/data/personC/Train/personC_3.png  \r\n",
      "  inflating: /kaggle/working/data/personC/Train/personC_30.png  \r\n",
      "  inflating: /kaggle/working/data/personC/Train/personC_31.png  \r\n",
      "  inflating: /kaggle/working/data/personC/Train/personC_33.png  \r\n",
      "  inflating: /kaggle/working/data/personC/Train/personC_35.png  \r\n",
      "  inflating: /kaggle/working/data/personC/Train/personC_36.png  \r\n",
      "  inflating: /kaggle/working/data/personC/Train/personC_37.png  \r\n",
      "  inflating: /kaggle/working/data/personC/Train/personC_38.png  \r\n",
      "  inflating: /kaggle/working/data/personC/Train/personC_4.png  \r\n",
      "  inflating: /kaggle/working/data/personC/Train/personC_40.png  \r\n",
      "  inflating: /kaggle/working/data/personC/Train/personC_41.png  \r\n",
      "  inflating: /kaggle/working/data/personC/Train/personC_42.png  \r\n",
      "  inflating: /kaggle/working/data/personC/Train/personC_43.png  \r\n",
      "  inflating: /kaggle/working/data/personC/Train/personC_44.png  \r\n",
      "  inflating: /kaggle/working/data/personC/Train/personC_45.png  \r\n",
      "  inflating: /kaggle/working/data/personC/Train/personC_46.png  \r\n",
      "  inflating: /kaggle/working/data/personC/Train/personC_47.png  \r\n",
      "  inflating: /kaggle/working/data/personC/Train/personC_48.png  \r\n",
      "  inflating: /kaggle/working/data/personC/Train/personC_5.png  \r\n",
      "  inflating: /kaggle/working/data/personC/Train/personC_7.png  \r\n",
      "  inflating: /kaggle/working/data/personC/Train/personC_9.png  \r\n",
      "  inflating: /kaggle/working/data/personC/Train/personC_SigVerificationTrainLabels.csv  \r\n",
      "   creating: /kaggle/working/data/personD/Test/\r\n",
      "  inflating: /kaggle/working/data/personD/Test/personD_14.png  \r\n",
      "  inflating: /kaggle/working/data/personD/Test/personD_15.png  \r\n",
      "  inflating: /kaggle/working/data/personD/Test/personD_17.png  \r\n",
      "  inflating: /kaggle/working/data/personD/Test/personD_21.png  \r\n",
      "  inflating: /kaggle/working/data/personD/Test/personD_22.png  \r\n",
      "  inflating: /kaggle/working/data/personD/Test/personD_26.png  \r\n",
      "  inflating: /kaggle/working/data/personD/Test/personD_31.png  \r\n",
      "  inflating: /kaggle/working/data/personD/Test/personD_41.png  \r\n",
      "  inflating: /kaggle/working/data/personD/Test/personD_SigVerificationTestLabels.csv  \r\n",
      "   creating: /kaggle/working/data/personD/Train/\r\n",
      "  inflating: /kaggle/working/data/personD/Train/personD_1.png  \r\n",
      "  inflating: /kaggle/working/data/personD/Train/personD_10.png  \r\n",
      "  inflating: /kaggle/working/data/personD/Train/personD_11.png  \r\n",
      "  inflating: /kaggle/working/data/personD/Train/personD_12.png  \r\n",
      "  inflating: /kaggle/working/data/personD/Train/personD_13.png  \r\n",
      "  inflating: /kaggle/working/data/personD/Train/personD_16.png  \r\n",
      "  inflating: /kaggle/working/data/personD/Train/personD_18.png  \r\n",
      "  inflating: /kaggle/working/data/personD/Train/personD_19.png  \r\n",
      "  inflating: /kaggle/working/data/personD/Train/personD_2.png  \r\n",
      "  inflating: /kaggle/working/data/personD/Train/personD_20.png  \r\n",
      "  inflating: /kaggle/working/data/personD/Train/personD_23.png  \r\n",
      "  inflating: /kaggle/working/data/personD/Train/personD_24.png  \r\n",
      "  inflating: /kaggle/working/data/personD/Train/personD_25.png  \r\n",
      "  inflating: /kaggle/working/data/personD/Train/personD_27.png  \r\n",
      "  inflating: /kaggle/working/data/personD/Train/personD_28.png  \r\n",
      "  inflating: /kaggle/working/data/personD/Train/personD_29.png  \r\n",
      "  inflating: /kaggle/working/data/personD/Train/personD_3.png  \r\n",
      "  inflating: /kaggle/working/data/personD/Train/personD_30.png  \r\n",
      "  inflating: /kaggle/working/data/personD/Train/personD_32.png  \r\n",
      "  inflating: /kaggle/working/data/personD/Train/personD_33.png  \r\n",
      "  inflating: /kaggle/working/data/personD/Train/personD_34.png  \r\n",
      "  inflating: /kaggle/working/data/personD/Train/personD_35.png  \r\n",
      "  inflating: /kaggle/working/data/personD/Train/personD_36.png  \r\n",
      "  inflating: /kaggle/working/data/personD/Train/personD_37.png  \r\n",
      "  inflating: /kaggle/working/data/personD/Train/personD_38.png  \r\n",
      "  inflating: /kaggle/working/data/personD/Train/personD_39.png  \r\n",
      "  inflating: /kaggle/working/data/personD/Train/personD_4.png  \r\n",
      "  inflating: /kaggle/working/data/personD/Train/personD_40.png  \r\n",
      "  inflating: /kaggle/working/data/personD/Train/personD_42.png  \r\n",
      "  inflating: /kaggle/working/data/personD/Train/personD_43.png  \r\n",
      "  inflating: /kaggle/working/data/personD/Train/personD_44.png  \r\n",
      "  inflating: /kaggle/working/data/personD/Train/personD_45.png  \r\n",
      "  inflating: /kaggle/working/data/personD/Train/personD_46.png  \r\n",
      "  inflating: /kaggle/working/data/personD/Train/personD_47.png  \r\n",
      "  inflating: /kaggle/working/data/personD/Train/personD_48.png  \r\n",
      "  inflating: /kaggle/working/data/personD/Train/personD_5.png  \r\n",
      "  inflating: /kaggle/working/data/personD/Train/personD_6.png  \r\n",
      "  inflating: /kaggle/working/data/personD/Train/personD_7.png  \r\n",
      "  inflating: /kaggle/working/data/personD/Train/personD_8.png  \r\n",
      "  inflating: /kaggle/working/data/personD/Train/personD_9.png  \r\n",
      "  inflating: /kaggle/working/data/personD/Train/personD_SigVerificationTrainLabels.csv  \r\n",
      "   creating: /kaggle/working/data/personE/Test/\r\n",
      "  inflating: /kaggle/working/data/personE/Test/personE_15.png  \r\n",
      "  inflating: /kaggle/working/data/personE/Test/personE_17.png  \r\n",
      "  inflating: /kaggle/working/data/personE/Test/personE_18.png  \r\n",
      "  inflating: /kaggle/working/data/personE/Test/personE_22.png  \r\n",
      "  inflating: /kaggle/working/data/personE/Test/personE_27.png  \r\n",
      "  inflating: /kaggle/working/data/personE/Test/personE_32.png  \r\n",
      "  inflating: /kaggle/working/data/personE/Test/personE_35.png  \r\n",
      "  inflating: /kaggle/working/data/personE/Test/personE_40.png  \r\n",
      "  inflating: /kaggle/working/data/personE/Test/personE_SigVerificationTestLabels.csv  \r\n",
      "   creating: /kaggle/working/data/personE/Train/\r\n",
      "  inflating: /kaggle/working/data/personE/Train/personE_1.png  \r\n",
      "  inflating: /kaggle/working/data/personE/Train/personE_10.png  \r\n",
      "  inflating: /kaggle/working/data/personE/Train/personE_11.png  \r\n",
      "  inflating: /kaggle/working/data/personE/Train/personE_12.png  \r\n",
      "  inflating: /kaggle/working/data/personE/Train/personE_13.png  \r\n",
      "  inflating: /kaggle/working/data/personE/Train/personE_14.png  \r\n",
      "  inflating: /kaggle/working/data/personE/Train/personE_16.png  \r\n",
      "  inflating: /kaggle/working/data/personE/Train/personE_19.png  \r\n",
      "  inflating: /kaggle/working/data/personE/Train/personE_2.png  \r\n",
      "  inflating: /kaggle/working/data/personE/Train/personE_20.png  \r\n",
      "  inflating: /kaggle/working/data/personE/Train/personE_21.png  \r\n",
      "  inflating: /kaggle/working/data/personE/Train/personE_23.png  \r\n",
      "  inflating: /kaggle/working/data/personE/Train/personE_24.png  \r\n",
      "  inflating: /kaggle/working/data/personE/Train/personE_25.png  \r\n",
      "  inflating: /kaggle/working/data/personE/Train/personE_26.png  \r\n",
      "  inflating: /kaggle/working/data/personE/Train/personE_28.png  \r\n",
      "  inflating: /kaggle/working/data/personE/Train/personE_29.png  \r\n",
      "  inflating: /kaggle/working/data/personE/Train/personE_3.png  \r\n",
      "  inflating: /kaggle/working/data/personE/Train/personE_30.png  \r\n",
      "  inflating: /kaggle/working/data/personE/Train/personE_31.png  \r\n",
      "  inflating: /kaggle/working/data/personE/Train/personE_33.png  \r\n",
      "  inflating: /kaggle/working/data/personE/Train/personE_34.png  \r\n",
      "  inflating: /kaggle/working/data/personE/Train/personE_36.png  \r\n",
      "  inflating: /kaggle/working/data/personE/Train/personE_37.png  \r\n",
      "  inflating: /kaggle/working/data/personE/Train/personE_38.png  \r\n",
      "  inflating: /kaggle/working/data/personE/Train/personE_39.png  \r\n",
      "  inflating: /kaggle/working/data/personE/Train/personE_4.png  \r\n",
      "  inflating: /kaggle/working/data/personE/Train/personE_41.png  \r\n",
      "  inflating: /kaggle/working/data/personE/Train/personE_42.png  \r\n",
      "  inflating: /kaggle/working/data/personE/Train/personE_43.png  \r\n",
      "  inflating: /kaggle/working/data/personE/Train/personE_44.png  \r\n",
      "  inflating: /kaggle/working/data/personE/Train/personE_45.png  \r\n",
      "  inflating: /kaggle/working/data/personE/Train/personE_46.png  \r\n",
      "  inflating: /kaggle/working/data/personE/Train/personE_47.png  \r\n",
      "  inflating: /kaggle/working/data/personE/Train/personE_48.png  \r\n",
      "  inflating: /kaggle/working/data/personE/Train/personE_5.png  \r\n",
      "  inflating: /kaggle/working/data/personE/Train/personE_6.png  \r\n",
      "  inflating: /kaggle/working/data/personE/Train/personE_7.png  \r\n",
      "  inflating: /kaggle/working/data/personE/Train/personE_8.png  \r\n",
      "  inflating: /kaggle/working/data/personE/Train/personE_9.png  \r\n",
      "  inflating: /kaggle/working/data/personE/Train/personE_SigVerificationTrainLabels.csv  \r\n"
     ]
    }
   ],
   "source": [
    "!unzip /kaggle/working/CV_2023_SC_Dataset.zip -d /kaggle/working/data"
   ]
  },
  {
   "cell_type": "markdown",
   "id": "440ec586",
   "metadata": {
    "id": "ZejfbfxPJxvm",
    "papermill": {
     "duration": 0.011722,
     "end_time": "2022-12-26T21:19:39.998930",
     "exception": false,
     "start_time": "2022-12-26T21:19:39.987208",
     "status": "completed"
    },
    "tags": []
   },
   "source": [
    "Making every train and test together "
   ]
  },
  {
   "cell_type": "code",
   "execution_count": 8,
   "id": "ea3d96d6",
   "metadata": {
    "execution": {
     "iopub.execute_input": "2022-12-26T21:19:40.024366Z",
     "iopub.status.busy": "2022-12-26T21:19:40.023771Z",
     "iopub.status.idle": "2022-12-26T21:19:40.030496Z",
     "shell.execute_reply": "2022-12-26T21:19:40.029672Z"
    },
    "id": "8ErumWaJJYSc",
    "papermill": {
     "duration": 0.022072,
     "end_time": "2022-12-26T21:19:40.032566",
     "exception": false,
     "start_time": "2022-12-26T21:19:40.010494",
     "status": "completed"
    },
    "tags": []
   },
   "outputs": [],
   "source": [
    "import os\n",
    "persons = ['A','B','C','D','E']\n",
    "os.mkdir('/kaggle/working/Train')\n",
    "os.mkdir('/kaggle/working/Test')\n",
    "for p in persons:\n",
    "    os.mkdir('/kaggle/working/Train/person'+p)\n",
    "    os.mkdir('/kaggle/working/Test/person'+p)\n",
    "    "
   ]
  },
  {
   "cell_type": "code",
   "execution_count": 9,
   "id": "ef101d7c",
   "metadata": {
    "execution": {
     "iopub.execute_input": "2022-12-26T21:19:40.057710Z",
     "iopub.status.busy": "2022-12-26T21:19:40.056964Z",
     "iopub.status.idle": "2022-12-26T21:19:40.073339Z",
     "shell.execute_reply": "2022-12-26T21:19:40.071728Z"
    },
    "id": "rjkxAP7RJ9Qv",
    "outputId": "bbd69c57-36fe-4ad6-8ea8-894b17b7ca2e",
    "papermill": {
     "duration": 0.031577,
     "end_time": "2022-12-26T21:19:40.075755",
     "exception": false,
     "start_time": "2022-12-26T21:19:40.044178",
     "status": "completed"
    },
    "tags": []
   },
   "outputs": [
    {
     "name": "stdout",
     "output_type": "stream",
     "text": [
      "personC\n",
      "personE\n",
      "personA\n",
      "personB\n",
      "personD\n"
     ]
    }
   ],
   "source": [
    "import shutil\n",
    "import os\n",
    "import glob\n",
    "for p in os.listdir('data'):\n",
    "  print(p)\n",
    "  for f in os.listdir(f'data/{p}'):\n",
    "    for d in glob.glob(f'/kaggle/working/data/{p}/{f}/*'):\n",
    "      shutil.move(d,f'/kaggle/working/{f}/{p}')"
   ]
  },
  {
   "cell_type": "markdown",
   "id": "1c92ea91",
   "metadata": {
    "id": "AE54mo-eKIkN",
    "papermill": {
     "duration": 0.011958,
     "end_time": "2022-12-26T21:19:40.099900",
     "exception": false,
     "start_time": "2022-12-26T21:19:40.087942",
     "status": "completed"
    },
    "tags": []
   },
   "source": [
    "Putting DataFrames together"
   ]
  },
  {
   "cell_type": "code",
   "execution_count": 10,
   "id": "86819dd9",
   "metadata": {
    "execution": {
     "iopub.execute_input": "2022-12-26T21:19:40.125274Z",
     "iopub.status.busy": "2022-12-26T21:19:40.124544Z",
     "iopub.status.idle": "2022-12-26T21:19:40.158017Z",
     "shell.execute_reply": "2022-12-26T21:19:40.157190Z"
    },
    "id": "-CK1MapuKBRA",
    "papermill": {
     "duration": 0.048287,
     "end_time": "2022-12-26T21:19:40.159931",
     "exception": false,
     "start_time": "2022-12-26T21:19:40.111644",
     "status": "completed"
    },
    "tags": []
   },
   "outputs": [],
   "source": [
    "persons = ['A','B','C','D','E']\n",
    "df = pd.DataFrame()\n",
    "for person in  persons:\n",
    "  path = f'/kaggle/working/Train/person{person}/person{person}_SigVerificationTrainLabels.csv'\n",
    "  tempdf = pd.read_csv(path)\n",
    "  tempdf['person'] = person\n",
    "  df = df.append(tempdf)"
   ]
  },
  {
   "cell_type": "code",
   "execution_count": 11,
   "id": "77cd5c19",
   "metadata": {
    "execution": {
     "iopub.execute_input": "2022-12-26T21:19:40.185660Z",
     "iopub.status.busy": "2022-12-26T21:19:40.184809Z",
     "iopub.status.idle": "2022-12-26T21:19:40.193680Z",
     "shell.execute_reply": "2022-12-26T21:19:40.192648Z"
    },
    "papermill": {
     "duration": 0.023535,
     "end_time": "2022-12-26T21:19:40.195620",
     "exception": false,
     "start_time": "2022-12-26T21:19:40.172085",
     "status": "completed"
    },
    "tags": []
   },
   "outputs": [
    {
     "data": {
      "text/plain": [
       "['personA_42.png',\n",
       " 'personA_2.png',\n",
       " 'personA_10.png',\n",
       " 'personA_30.png',\n",
       " 'personA_13.png',\n",
       " 'personA_20.png',\n",
       " 'personA_29.png',\n",
       " 'personA_27.png',\n",
       " 'personA_SigVerificationTestLabels.csv']"
      ]
     },
     "execution_count": 11,
     "metadata": {},
     "output_type": "execute_result"
    }
   ],
   "source": [
    "os.listdir('Test/personA')"
   ]
  },
  {
   "cell_type": "code",
   "execution_count": 12,
   "id": "0cd45fcf",
   "metadata": {
    "execution": {
     "iopub.execute_input": "2022-12-26T21:19:40.221339Z",
     "iopub.status.busy": "2022-12-26T21:19:40.220475Z",
     "iopub.status.idle": "2022-12-26T21:19:40.246078Z",
     "shell.execute_reply": "2022-12-26T21:19:40.245263Z"
    },
    "papermill": {
     "duration": 0.040546,
     "end_time": "2022-12-26T21:19:40.248002",
     "exception": false,
     "start_time": "2022-12-26T21:19:40.207456",
     "status": "completed"
    },
    "tags": []
   },
   "outputs": [],
   "source": [
    "alldf=pd.DataFrame()\n",
    "for person in  persons:\n",
    "  path = f'/kaggle/working/Train/person{person}/person{person}_SigVerificationTrainLabels.csv'\n",
    "  path2 = f'/kaggle/working/Test/person{person}/person{person}_SigVerificationTestLabels.csv'\n",
    "  tempdf = pd.read_csv(path)\n",
    "  tempdf2 = pd.read_csv(path2)\n",
    "  tempdf['person'] = person\n",
    "  tempdf2['person'] = person\n",
    "  alldf = alldf.append(tempdf)  \n",
    "  alldf = alldf.append(tempdf2)"
   ]
  },
  {
   "cell_type": "code",
   "execution_count": 13,
   "id": "d2470636",
   "metadata": {
    "execution": {
     "iopub.execute_input": "2022-12-26T21:19:40.273446Z",
     "iopub.status.busy": "2022-12-26T21:19:40.272644Z",
     "iopub.status.idle": "2022-12-26T21:19:40.286747Z",
     "shell.execute_reply": "2022-12-26T21:19:40.285821Z"
    },
    "id": "8LFCSQdXKRno",
    "outputId": "36fe20b4-c733-4a89-91ac-d51692b134ac",
    "papermill": {
     "duration": 0.028781,
     "end_time": "2022-12-26T21:19:40.288746",
     "exception": false,
     "start_time": "2022-12-26T21:19:40.259965",
     "status": "completed"
    },
    "tags": []
   },
   "outputs": [
    {
     "data": {
      "text/html": [
       "<div>\n",
       "<style scoped>\n",
       "    .dataframe tbody tr th:only-of-type {\n",
       "        vertical-align: middle;\n",
       "    }\n",
       "\n",
       "    .dataframe tbody tr th {\n",
       "        vertical-align: top;\n",
       "    }\n",
       "\n",
       "    .dataframe thead th {\n",
       "        text-align: right;\n",
       "    }\n",
       "</style>\n",
       "<table border=\"1\" class=\"dataframe\">\n",
       "  <thead>\n",
       "    <tr style=\"text-align: right;\">\n",
       "      <th></th>\n",
       "      <th>image_name</th>\n",
       "      <th>label</th>\n",
       "      <th>person</th>\n",
       "    </tr>\n",
       "  </thead>\n",
       "  <tbody>\n",
       "    <tr>\n",
       "      <th>0</th>\n",
       "      <td>personA_37.png</td>\n",
       "      <td>forged</td>\n",
       "      <td>A</td>\n",
       "    </tr>\n",
       "    <tr>\n",
       "      <th>1</th>\n",
       "      <td>personA_3.png</td>\n",
       "      <td>forged</td>\n",
       "      <td>A</td>\n",
       "    </tr>\n",
       "    <tr>\n",
       "      <th>2</th>\n",
       "      <td>personA_28.png</td>\n",
       "      <td>forged</td>\n",
       "      <td>A</td>\n",
       "    </tr>\n",
       "    <tr>\n",
       "      <th>3</th>\n",
       "      <td>personA_31.png</td>\n",
       "      <td>forged</td>\n",
       "      <td>A</td>\n",
       "    </tr>\n",
       "    <tr>\n",
       "      <th>4</th>\n",
       "      <td>personA_48.png</td>\n",
       "      <td>forged</td>\n",
       "      <td>A</td>\n",
       "    </tr>\n",
       "  </tbody>\n",
       "</table>\n",
       "</div>"
      ],
      "text/plain": [
       "       image_name   label person\n",
       "0  personA_37.png  forged      A\n",
       "1   personA_3.png  forged      A\n",
       "2  personA_28.png  forged      A\n",
       "3  personA_31.png  forged      A\n",
       "4  personA_48.png  forged      A"
      ]
     },
     "execution_count": 13,
     "metadata": {},
     "output_type": "execute_result"
    }
   ],
   "source": [
    "df.head()"
   ]
  },
  {
   "cell_type": "code",
   "execution_count": 14,
   "id": "407dd20f",
   "metadata": {
    "execution": {
     "iopub.execute_input": "2022-12-26T21:19:40.314753Z",
     "iopub.status.busy": "2022-12-26T21:19:40.314026Z",
     "iopub.status.idle": "2022-12-26T21:19:40.321667Z",
     "shell.execute_reply": "2022-12-26T21:19:40.320883Z"
    },
    "id": "ZIe8eBg8NZ5o",
    "papermill": {
     "duration": 0.022512,
     "end_time": "2022-12-26T21:19:40.323581",
     "exception": false,
     "start_time": "2022-12-26T21:19:40.301069",
     "status": "completed"
    },
    "tags": []
   },
   "outputs": [],
   "source": [
    "forged = []\n",
    "real = []\n",
    "tripletList = []\n",
    "forged = df[df[\"label\"]==\"forged\"]\n",
    "real = df[df.label==\"real\"]"
   ]
  },
  {
   "cell_type": "code",
   "execution_count": 15,
   "id": "658bb4f6",
   "metadata": {
    "execution": {
     "iopub.execute_input": "2022-12-26T21:19:40.349157Z",
     "iopub.status.busy": "2022-12-26T21:19:40.348429Z",
     "iopub.status.idle": "2022-12-26T21:19:40.357693Z",
     "shell.execute_reply": "2022-12-26T21:19:40.356773Z"
    },
    "id": "t1Om535odbZ-",
    "outputId": "fa83b356-2a9f-4a7b-91e0-2444c31991da",
    "papermill": {
     "duration": 0.023944,
     "end_time": "2022-12-26T21:19:40.359638",
     "exception": false,
     "start_time": "2022-12-26T21:19:40.335694",
     "status": "completed"
    },
    "tags": []
   },
   "outputs": [
    {
     "data": {
      "text/html": [
       "<div>\n",
       "<style scoped>\n",
       "    .dataframe tbody tr th:only-of-type {\n",
       "        vertical-align: middle;\n",
       "    }\n",
       "\n",
       "    .dataframe tbody tr th {\n",
       "        vertical-align: top;\n",
       "    }\n",
       "\n",
       "    .dataframe thead th {\n",
       "        text-align: right;\n",
       "    }\n",
       "</style>\n",
       "<table border=\"1\" class=\"dataframe\">\n",
       "  <thead>\n",
       "    <tr style=\"text-align: right;\">\n",
       "      <th></th>\n",
       "      <th>image_name</th>\n",
       "      <th>label</th>\n",
       "      <th>person</th>\n",
       "    </tr>\n",
       "  </thead>\n",
       "  <tbody>\n",
       "    <tr>\n",
       "      <th>0</th>\n",
       "      <td>personA_37.png</td>\n",
       "      <td>forged</td>\n",
       "      <td>A</td>\n",
       "    </tr>\n",
       "    <tr>\n",
       "      <th>1</th>\n",
       "      <td>personA_3.png</td>\n",
       "      <td>forged</td>\n",
       "      <td>A</td>\n",
       "    </tr>\n",
       "    <tr>\n",
       "      <th>2</th>\n",
       "      <td>personA_28.png</td>\n",
       "      <td>forged</td>\n",
       "      <td>A</td>\n",
       "    </tr>\n",
       "    <tr>\n",
       "      <th>3</th>\n",
       "      <td>personA_31.png</td>\n",
       "      <td>forged</td>\n",
       "      <td>A</td>\n",
       "    </tr>\n",
       "    <tr>\n",
       "      <th>4</th>\n",
       "      <td>personA_48.png</td>\n",
       "      <td>forged</td>\n",
       "      <td>A</td>\n",
       "    </tr>\n",
       "  </tbody>\n",
       "</table>\n",
       "</div>"
      ],
      "text/plain": [
       "       image_name   label person\n",
       "0  personA_37.png  forged      A\n",
       "1   personA_3.png  forged      A\n",
       "2  personA_28.png  forged      A\n",
       "3  personA_31.png  forged      A\n",
       "4  personA_48.png  forged      A"
      ]
     },
     "execution_count": 15,
     "metadata": {},
     "output_type": "execute_result"
    }
   ],
   "source": [
    "forged.head()"
   ]
  },
  {
   "cell_type": "code",
   "execution_count": 16,
   "id": "41b996af",
   "metadata": {
    "execution": {
     "iopub.execute_input": "2022-12-26T21:19:40.384982Z",
     "iopub.status.busy": "2022-12-26T21:19:40.384697Z",
     "iopub.status.idle": "2022-12-26T21:19:40.391747Z",
     "shell.execute_reply": "2022-12-26T21:19:40.390815Z"
    },
    "id": "o__tUCQtdf7b",
    "papermill": {
     "duration": 0.022405,
     "end_time": "2022-12-26T21:19:40.394027",
     "exception": false,
     "start_time": "2022-12-26T21:19:40.371622",
     "status": "completed"
    },
    "tags": []
   },
   "outputs": [],
   "source": [
    "def create_triplets(real,fake, max_files=10):\n",
    "    triplets = []\n",
    "    a = 0\n",
    "    for person in real[\"person\"].unique(): # a b c d e\n",
    "        dfreal = real[real[\"person\"]==person]\n",
    "        dfake = fake[fake[\"person\"]==person]\n",
    "        for indi,rowi in dfreal.iterrows():\n",
    "            for indj,rowj in dfreal.iterrows():\n",
    "                if rowj[\"image_name\"]==rowi[\"image_name\"]:continue\n",
    "                anchor = rowi[\"image_name\"]\n",
    "                positive= rowj[\"image_name\"]\n",
    "                negative = dfake.sample(n=1).iloc[0][\"image_name\"]\n",
    "                triplets.append((anchor,positive,negative))\n",
    "        \n",
    "        \n",
    "        #       for i in range(len(real[real[\"person\"]==person])):\n",
    "#         for j in range(i+1,len(real[real[\"person\"]==person])):\n",
    "#             anchor = real.iloc[(i+a)%(len(real)-1)][\"image_name\"]\n",
    "#             positive = real.iloc[(j+a)%(len(real)-1)][\"image_name\"]\n",
    "#             negative = fake.iloc[(j+a)%(len(real)-1)][\"image_name\"]    \n",
    "#             triplets.append((anchor,positive,negative))\n",
    "#       a = a+40\n",
    "            \n",
    "    random.shuffle(triplets)\n",
    "    return triplets"
   ]
  },
  {
   "cell_type": "code",
   "execution_count": 17,
   "id": "4bbf834a",
   "metadata": {
    "execution": {
     "iopub.execute_input": "2022-12-26T21:19:40.420072Z",
     "iopub.status.busy": "2022-12-26T21:19:40.419328Z",
     "iopub.status.idle": "2022-12-26T21:19:40.925736Z",
     "shell.execute_reply": "2022-12-26T21:19:40.923331Z"
    },
    "papermill": {
     "duration": 0.52789,
     "end_time": "2022-12-26T21:19:40.934169",
     "exception": false,
     "start_time": "2022-12-26T21:19:40.406279",
     "status": "completed"
    },
    "tags": []
   },
   "outputs": [],
   "source": [
    "trip = create_triplets(real,forged)"
   ]
  },
  {
   "cell_type": "code",
   "execution_count": 18,
   "id": "649284b3",
   "metadata": {
    "execution": {
     "iopub.execute_input": "2022-12-26T21:19:40.989655Z",
     "iopub.status.busy": "2022-12-26T21:19:40.989188Z",
     "iopub.status.idle": "2022-12-26T21:19:41.001868Z",
     "shell.execute_reply": "2022-12-26T21:19:41.000823Z"
    },
    "papermill": {
     "duration": 0.044983,
     "end_time": "2022-12-26T21:19:41.004437",
     "exception": false,
     "start_time": "2022-12-26T21:19:40.959454",
     "status": "completed"
    },
    "tags": []
   },
   "outputs": [
    {
     "data": {
      "text/plain": [
       "[('personB_6.png', 'personB_17.png', 'personB_37.png'),\n",
       " ('personD_38.png', 'personD_48.png', 'personD_4.png'),\n",
       " ('personA_44.png', 'personA_23.png', 'personA_1.png'),\n",
       " ('personA_15.png', 'personA_41.png', 'personA_31.png'),\n",
       " ('personA_17.png', 'personA_8.png', 'personA_21.png')]"
      ]
     },
     "execution_count": 18,
     "metadata": {},
     "output_type": "execute_result"
    }
   ],
   "source": [
    "trip[0:5]"
   ]
  },
  {
   "cell_type": "code",
   "execution_count": 19,
   "id": "c63c5bcd",
   "metadata": {
    "execution": {
     "iopub.execute_input": "2022-12-26T21:19:41.046228Z",
     "iopub.status.busy": "2022-12-26T21:19:41.045785Z",
     "iopub.status.idle": "2022-12-26T21:19:41.050694Z",
     "shell.execute_reply": "2022-12-26T21:19:41.049817Z"
    },
    "id": "jJMttFs2lZGn",
    "papermill": {
     "duration": 0.030775,
     "end_time": "2022-12-26T21:19:41.053768",
     "exception": false,
     "start_time": "2022-12-26T21:19:41.022993",
     "status": "completed"
    },
    "tags": []
   },
   "outputs": [],
   "source": [
    "os.mkdir('/kaggle/working/allImages')"
   ]
  },
  {
   "cell_type": "code",
   "execution_count": 20,
   "id": "4d0a1d4b",
   "metadata": {
    "execution": {
     "iopub.execute_input": "2022-12-26T21:19:41.091786Z",
     "iopub.status.busy": "2022-12-26T21:19:41.091462Z",
     "iopub.status.idle": "2022-12-26T21:19:41.128418Z",
     "shell.execute_reply": "2022-12-26T21:19:41.127547Z"
    },
    "papermill": {
     "duration": 0.058543,
     "end_time": "2022-12-26T21:19:41.130849",
     "exception": false,
     "start_time": "2022-12-26T21:19:41.072306",
     "status": "completed"
    },
    "tags": []
   },
   "outputs": [
    {
     "name": "stdout",
     "output_type": "stream",
     "text": [
      "personC\n",
      "personE\n",
      "personA\n",
      "personB\n",
      "personD\n"
     ]
    }
   ],
   "source": [
    "for p in os.listdir('Test'):\n",
    "  print(p)\n",
    "  for d in glob.glob(f'/kaggle/working/Train/{p}/*.png'):\n",
    "    shutil.copy(d,f'/kaggle/working/allImages/')"
   ]
  },
  {
   "cell_type": "code",
   "execution_count": 21,
   "id": "0961fbcd",
   "metadata": {
    "execution": {
     "iopub.execute_input": "2022-12-26T21:19:41.169354Z",
     "iopub.status.busy": "2022-12-26T21:19:41.169044Z",
     "iopub.status.idle": "2022-12-26T21:19:41.184404Z",
     "shell.execute_reply": "2022-12-26T21:19:41.183564Z"
    },
    "papermill": {
     "duration": 0.037674,
     "end_time": "2022-12-26T21:19:41.187330",
     "exception": false,
     "start_time": "2022-12-26T21:19:41.149656",
     "status": "completed"
    },
    "tags": []
   },
   "outputs": [
    {
     "name": "stdout",
     "output_type": "stream",
     "text": [
      "personC\n",
      "personE\n",
      "personA\n",
      "personB\n",
      "personD\n"
     ]
    }
   ],
   "source": [
    "for p in os.listdir('Test'):\n",
    "  print(p)\n",
    "  for d in glob.glob(f'/kaggle/working/Test/{p}/*.png'):\n",
    "    shutil.copy(d,f'/kaggle/working/allImages')"
   ]
  },
  {
   "cell_type": "code",
   "execution_count": 22,
   "id": "1007f6f1",
   "metadata": {
    "execution": {
     "iopub.execute_input": "2022-12-26T21:19:41.228816Z",
     "iopub.status.busy": "2022-12-26T21:19:41.228504Z",
     "iopub.status.idle": "2022-12-26T21:19:41.234519Z",
     "shell.execute_reply": "2022-12-26T21:19:41.233476Z"
    },
    "papermill": {
     "duration": 0.030974,
     "end_time": "2022-12-26T21:19:41.238813",
     "exception": false,
     "start_time": "2022-12-26T21:19:41.207839",
     "status": "completed"
    },
    "tags": []
   },
   "outputs": [],
   "source": [
    "ROOT = '/kaggle/working/allImages'\n",
    "def read_image(index):\n",
    "    path = os.path.join(ROOT, index)\n",
    "    image = cv2.imread(path)\n",
    "    image = cv2.cvtColor(image, cv2.COLOR_BGR2RGB)\n",
    "    image = cv2.resize(image, (128, 128)) \n",
    "    return image\n"
   ]
  },
  {
   "cell_type": "code",
   "execution_count": 23,
   "id": "a0accb58",
   "metadata": {
    "execution": {
     "iopub.execute_input": "2022-12-26T21:19:41.279507Z",
     "iopub.status.busy": "2022-12-26T21:19:41.279210Z",
     "iopub.status.idle": "2022-12-26T21:19:41.290697Z",
     "shell.execute_reply": "2022-12-26T21:19:41.289893Z"
    },
    "papermill": {
     "duration": 0.034782,
     "end_time": "2022-12-26T21:19:41.293518",
     "exception": false,
     "start_time": "2022-12-26T21:19:41.258736",
     "status": "completed"
    },
    "tags": []
   },
   "outputs": [],
   "source": [
    "def get_batch(triplet_list, batch_size=256, preprocess=True):\n",
    "    batch_steps = len(triplet_list)//batch_size\n",
    "    \n",
    "    for i in range(batch_steps+1):\n",
    "        anchor   = []\n",
    "        positive = []\n",
    "        negative = []\n",
    "        \n",
    "        j = i*batch_size\n",
    "        h=0\n",
    "        while j<(i+1)*batch_size and j<len(triplet_list):\n",
    "            a, p, n = triplet_list[j]\n",
    "            a=read_image(a)\n",
    "            p=read_image(p)\n",
    "            n=read_image(n)\n",
    "            anchor.append(preprocess_input(a))\n",
    "            positive.append(preprocess_input(p))\n",
    "            negative.append(preprocess_input(n))\n",
    "            h+=1\n",
    "            j+=1\n",
    "        anchor = np.array(anchor)\n",
    "        positive = np.array(positive)\n",
    "        negative = np.array(negative)\n",
    "#         if preprocess:\n",
    "#             anchor = preprocess_input(anchor)\n",
    "#             positive = preprocess_input(positive)\n",
    "#             negative = preprocess_input(negative)\n",
    "    yield ([anchor, positive, negative])        \n"
   ]
  },
  {
   "cell_type": "code",
   "execution_count": 24,
   "id": "70871f2a",
   "metadata": {
    "execution": {
     "iopub.execute_input": "2022-12-26T21:19:41.333466Z",
     "iopub.status.busy": "2022-12-26T21:19:41.333161Z",
     "iopub.status.idle": "2022-12-26T21:19:41.337611Z",
     "shell.execute_reply": "2022-12-26T21:19:41.336658Z"
    },
    "papermill": {
     "duration": 0.0285,
     "end_time": "2022-12-26T21:19:41.341455",
     "exception": false,
     "start_time": "2022-12-26T21:19:41.312955",
     "status": "completed"
    },
    "tags": []
   },
   "outputs": [],
   "source": [
    "import warnings;warnings.filterwarnings('ignore')"
   ]
  },
  {
   "cell_type": "code",
   "execution_count": 25,
   "id": "ede42c4f",
   "metadata": {
    "execution": {
     "iopub.execute_input": "2022-12-26T21:19:41.381016Z",
     "iopub.status.busy": "2022-12-26T21:19:41.380684Z",
     "iopub.status.idle": "2022-12-26T21:19:41.908433Z",
     "shell.execute_reply": "2022-12-26T21:19:41.907481Z"
    },
    "papermill": {
     "duration": 0.550468,
     "end_time": "2022-12-26T21:19:41.911078",
     "exception": false,
     "start_time": "2022-12-26T21:19:41.360610",
     "status": "completed"
    },
    "tags": []
   },
   "outputs": [],
   "source": [
    "trip = create_triplets(real,forged)"
   ]
  },
  {
   "cell_type": "code",
   "execution_count": 26,
   "id": "34960f40",
   "metadata": {
    "execution": {
     "iopub.execute_input": "2022-12-26T21:19:41.939124Z",
     "iopub.status.busy": "2022-12-26T21:19:41.938538Z",
     "iopub.status.idle": "2022-12-26T21:19:41.946602Z",
     "shell.execute_reply": "2022-12-26T21:19:41.945801Z"
    },
    "id": "WzPeI18rd6YE",
    "outputId": "da67465d-e1e1-48ee-e9cd-1b4345c70446",
    "papermill": {
     "duration": 0.023723,
     "end_time": "2022-12-26T21:19:41.948566",
     "exception": false,
     "start_time": "2022-12-26T21:19:41.924843",
     "status": "completed"
    },
    "tags": []
   },
   "outputs": [
    {
     "data": {
      "text/plain": [
       "[('personE_4.png', 'personE_2.png', 'personE_25.png'),\n",
       " ('personB_35.png', 'personB_7.png', 'personB_31.png'),\n",
       " ('personB_17.png', 'personB_23.png', 'personB_16.png'),\n",
       " ('personB_23.png', 'personB_8.png', 'personB_5.png'),\n",
       " ('personB_15.png', 'personB_39.png', 'personB_1.png')]"
      ]
     },
     "execution_count": 26,
     "metadata": {},
     "output_type": "execute_result"
    }
   ],
   "source": [
    "trip[0:5]"
   ]
  },
  {
   "cell_type": "markdown",
   "id": "ce35d177",
   "metadata": {
    "id": "WAGAPsVdeOhG",
    "papermill": {
     "duration": 0.012619,
     "end_time": "2022-12-26T21:19:41.973730",
     "exception": false,
     "start_time": "2022-12-26T21:19:41.961111",
     "status": "completed"
    },
    "tags": []
   },
   "source": [
    "put all images together"
   ]
  },
  {
   "cell_type": "code",
   "execution_count": 27,
   "id": "769cf474",
   "metadata": {
    "execution": {
     "iopub.execute_input": "2022-12-26T21:19:42.001468Z",
     "iopub.status.busy": "2022-12-26T21:19:41.999946Z",
     "iopub.status.idle": "2022-12-26T21:19:42.007681Z",
     "shell.execute_reply": "2022-12-26T21:19:42.006877Z"
    },
    "id": "EKaNh8l7o351",
    "papermill": {
     "duration": 0.023641,
     "end_time": "2022-12-26T21:19:42.009735",
     "exception": false,
     "start_time": "2022-12-26T21:19:41.986094",
     "status": "completed"
    },
    "tags": []
   },
   "outputs": [],
   "source": [
    "def visualize(anchor, positive, negative):\n",
    "    \"\"\"Visualize a few triplets from the supplied batches.\"\"\"\n",
    "\n",
    "    def show(ax, image):\n",
    "        ax.imshow(image)\n",
    "        ax.get_xaxis().set_visible(False)\n",
    "        ax.get_yaxis().set_visible(False)\n",
    "\n",
    "    fig = plt.figure(figsize=(9, 9))\n",
    "\n",
    "    axs = fig.subplots(3, 3)\n",
    "    for i in range(3):\n",
    "        show(axs[i, 0], anchor[i])\n",
    "        show(axs[i, 1], positive[i])\n",
    "        show(axs[i, 2], negative[i])\n",
    "\n",
    "\n"
   ]
  },
  {
   "cell_type": "markdown",
   "id": "e2c3de09",
   "metadata": {
    "id": "0HIYnxq7u5qX",
    "papermill": {
     "duration": 0.012651,
     "end_time": "2022-12-26T21:19:42.034865",
     "exception": false,
     "start_time": "2022-12-26T21:19:42.022214",
     "status": "completed"
    },
    "tags": []
   },
   "source": [
    "Setting up the embedding generator model (encoder)"
   ]
  },
  {
   "cell_type": "markdown",
   "id": "e794097b",
   "metadata": {
    "id": "cmYpKxFBu8l0",
    "papermill": {
     "duration": 0.012411,
     "end_time": "2022-12-26T21:19:42.059590",
     "exception": false,
     "start_time": "2022-12-26T21:19:42.047179",
     "status": "completed"
    },
    "tags": []
   },
   "source": [
    "# Setting up the Siamese Network model\n",
    "The Siamese network will receive each of the triplet images as an input, generate the embeddings, and output the distance between the anchor and the positive embedding, as well as the distance between the anchor and the negative embedding.\n",
    "\n",
    "To compute the distance, we can use a custom layer DistanceLayer that returns both values as a tuple."
   ]
  },
  {
   "cell_type": "markdown",
   "id": "35015c11",
   "metadata": {
    "id": "dEb3HVMnwvQg",
    "papermill": {
     "duration": 0.012939,
     "end_time": "2022-12-26T21:19:42.084867",
     "exception": false,
     "start_time": "2022-12-26T21:19:42.071928",
     "status": "completed"
    },
    "tags": []
   },
   "source": [
    "We now need to implement a model with custom training loop so we can compute the triplet loss using the three embeddings produced by the Siamese network."
   ]
  },
  {
   "cell_type": "markdown",
   "id": "fe2d62ae",
   "metadata": {
    "papermill": {
     "duration": 0.012285,
     "end_time": "2022-12-26T21:19:42.109685",
     "exception": false,
     "start_time": "2022-12-26T21:19:42.097400",
     "status": "completed"
    },
    "tags": []
   },
   "source": [
    "# Siames i hope"
   ]
  },
  {
   "cell_type": "code",
   "execution_count": 28,
   "id": "5f6c2181",
   "metadata": {
    "execution": {
     "iopub.execute_input": "2022-12-26T21:19:42.136515Z",
     "iopub.status.busy": "2022-12-26T21:19:42.136211Z",
     "iopub.status.idle": "2022-12-26T21:19:42.142628Z",
     "shell.execute_reply": "2022-12-26T21:19:42.141675Z"
    },
    "id": "6fo-2KuM9IV9",
    "papermill": {
     "duration": 0.022502,
     "end_time": "2022-12-26T21:19:42.144813",
     "exception": false,
     "start_time": "2022-12-26T21:19:42.122311",
     "status": "completed"
    },
    "tags": []
   },
   "outputs": [],
   "source": [
    "def get_encoder(input_shape):\n",
    "    \"\"\" Returns the image encoding model \"\"\"\n",
    "\n",
    "    pretrained_model = Xception(\n",
    "        input_shape=input_shape,\n",
    "        weights='imagenet',\n",
    "        include_top=False,\n",
    "        pooling='avg',\n",
    "    )\n",
    "    \n",
    "    for i in range(len(pretrained_model.layers)-27):\n",
    "        pretrained_model.layers[i].trainable = False\n",
    "\n",
    "    encode_model = Sequential([\n",
    "        pretrained_model,\n",
    "        layers.Flatten(),\n",
    "        layers.Dense(512, activation='relu'),\n",
    "        layers.BatchNormalization(),\n",
    "        layers.Dense(256, activation=\"relu\"),\n",
    "        layers.Lambda(lambda x: tf.math.l2_normalize(x, axis=1))\n",
    "    ], name=\"Encode_Model\")\n",
    "    return encode_model"
   ]
  },
  {
   "cell_type": "code",
   "execution_count": 29,
   "id": "116cfd88",
   "metadata": {
    "execution": {
     "iopub.execute_input": "2022-12-26T21:19:42.174063Z",
     "iopub.status.busy": "2022-12-26T21:19:42.173294Z",
     "iopub.status.idle": "2022-12-26T21:19:51.756996Z",
     "shell.execute_reply": "2022-12-26T21:19:51.755146Z"
    },
    "papermill": {
     "duration": 9.600381,
     "end_time": "2022-12-26T21:19:51.759694",
     "exception": false,
     "start_time": "2022-12-26T21:19:42.159313",
     "status": "completed"
    },
    "tags": []
   },
   "outputs": [
    {
     "name": "stderr",
     "output_type": "stream",
     "text": [
      "2022-12-26 21:19:42.281826: I tensorflow/stream_executor/cuda/cuda_gpu_executor.cc:937] successful NUMA node read from SysFS had negative value (-1), but there must be at least one NUMA node, so returning NUMA node zero\n",
      "2022-12-26 21:19:42.431491: I tensorflow/stream_executor/cuda/cuda_gpu_executor.cc:937] successful NUMA node read from SysFS had negative value (-1), but there must be at least one NUMA node, so returning NUMA node zero\n",
      "2022-12-26 21:19:42.432406: I tensorflow/stream_executor/cuda/cuda_gpu_executor.cc:937] successful NUMA node read from SysFS had negative value (-1), but there must be at least one NUMA node, so returning NUMA node zero\n",
      "2022-12-26 21:19:42.434565: I tensorflow/core/platform/cpu_feature_guard.cc:142] This TensorFlow binary is optimized with oneAPI Deep Neural Network Library (oneDNN) to use the following CPU instructions in performance-critical operations:  AVX2 AVX512F FMA\n",
      "To enable them in other operations, rebuild TensorFlow with the appropriate compiler flags.\n",
      "2022-12-26 21:19:42.434966: I tensorflow/stream_executor/cuda/cuda_gpu_executor.cc:937] successful NUMA node read from SysFS had negative value (-1), but there must be at least one NUMA node, so returning NUMA node zero\n",
      "2022-12-26 21:19:42.435954: I tensorflow/stream_executor/cuda/cuda_gpu_executor.cc:937] successful NUMA node read from SysFS had negative value (-1), but there must be at least one NUMA node, so returning NUMA node zero\n",
      "2022-12-26 21:19:42.436846: I tensorflow/stream_executor/cuda/cuda_gpu_executor.cc:937] successful NUMA node read from SysFS had negative value (-1), but there must be at least one NUMA node, so returning NUMA node zero\n",
      "2022-12-26 21:19:44.503200: I tensorflow/stream_executor/cuda/cuda_gpu_executor.cc:937] successful NUMA node read from SysFS had negative value (-1), but there must be at least one NUMA node, so returning NUMA node zero\n",
      "2022-12-26 21:19:44.504074: I tensorflow/stream_executor/cuda/cuda_gpu_executor.cc:937] successful NUMA node read from SysFS had negative value (-1), but there must be at least one NUMA node, so returning NUMA node zero\n",
      "2022-12-26 21:19:44.504752: I tensorflow/stream_executor/cuda/cuda_gpu_executor.cc:937] successful NUMA node read from SysFS had negative value (-1), but there must be at least one NUMA node, so returning NUMA node zero\n",
      "2022-12-26 21:19:44.505369: I tensorflow/core/common_runtime/gpu/gpu_device.cc:1510] Created device /job:localhost/replica:0/task:0/device:GPU:0 with 15401 MB memory:  -> device: 0, name: Tesla P100-PCIE-16GB, pci bus id: 0000:00:04.0, compute capability: 6.0\n"
     ]
    },
    {
     "name": "stdout",
     "output_type": "stream",
     "text": [
      "Downloading data from https://storage.googleapis.com/tensorflow/keras-applications/xception/xception_weights_tf_dim_ordering_tf_kernels_notop.h5\n",
      "83689472/83683744 [==============================] - 3s 0us/step\n",
      "83697664/83683744 [==============================] - 3s 0us/step\n",
      "Model: \"Siamese_Network\"\n",
      "__________________________________________________________________________________________________\n",
      "Layer (type)                    Output Shape         Param #     Connected to                     \n",
      "==================================================================================================\n",
      "Anchor_Input (InputLayer)       [(None, 128, 128, 3) 0                                            \n",
      "__________________________________________________________________________________________________\n",
      "Positive_Input (InputLayer)     [(None, 128, 128, 3) 0                                            \n",
      "__________________________________________________________________________________________________\n",
      "Negative_Input (InputLayer)     [(None, 128, 128, 3) 0                                            \n",
      "__________________________________________________________________________________________________\n",
      "Encode_Model (Sequential)       (None, 256)          22043944    Anchor_Input[0][0]               \n",
      "                                                                 Positive_Input[0][0]             \n",
      "                                                                 Negative_Input[0][0]             \n",
      "__________________________________________________________________________________________________\n",
      "distance_layer (DistanceLayer)  ((None,), (None,))   0           Encode_Model[3][0]               \n",
      "                                                                 Encode_Model[4][0]               \n",
      "                                                                 Encode_Model[5][0]               \n",
      "==================================================================================================\n",
      "Total params: 22,043,944\n",
      "Trainable params: 9,583,800\n",
      "Non-trainable params: 12,460,144\n",
      "__________________________________________________________________________________________________\n"
     ]
    }
   ],
   "source": [
    "class DistanceLayer(layers.Layer):\n",
    "    # A layer to compute ‖f(A) - f(P)‖² and ‖f(A) - f(N)‖²\n",
    "    def __init__(self, **kwargs):\n",
    "        super().__init__(**kwargs)\n",
    "\n",
    "    def call(self, anchor, positive, negative):\n",
    "        ap_distance = tf.reduce_sum(tf.square(anchor - positive), -1)\n",
    "        an_distance = tf.reduce_sum(tf.square(anchor - negative), -1)\n",
    "        return (ap_distance, an_distance)\n",
    "    \n",
    "\n",
    "def get_siamese_network(input_shape = (128, 128, 3)):\n",
    "    encoder = get_encoder(input_shape)\n",
    "    \n",
    "    # Input Layers for the images\n",
    "    anchor_input   = layers.Input(input_shape, name=\"Anchor_Input\")\n",
    "    positive_input = layers.Input(input_shape, name=\"Positive_Input\")\n",
    "    negative_input = layers.Input(input_shape, name=\"Negative_Input\")\n",
    "    \n",
    "    ## Generate the encodings (feature vectors) for the images\n",
    "    encoded_a = encoder(anchor_input)\n",
    "    encoded_p = encoder(positive_input)\n",
    "    encoded_n = encoder(negative_input)\n",
    "    \n",
    "    # A layer to compute ‖f(A) - f(P)‖² and ‖f(A) - f(N)‖²\n",
    "    distances = DistanceLayer()(\n",
    "        encoder(anchor_input),\n",
    "        encoder(positive_input),\n",
    "        encoder(negative_input)\n",
    "    )\n",
    "    \n",
    "    # Creating the Model\n",
    "    siamese_network = Model(\n",
    "        inputs  = [anchor_input, positive_input, negative_input],\n",
    "        outputs = distances,\n",
    "        name = \"Siamese_Network\"\n",
    "    )\n",
    "    return siamese_network\n",
    "\n",
    "siamese_network = get_siamese_network()\n",
    "siamese_network.summary()"
   ]
  },
  {
   "cell_type": "code",
   "execution_count": 30,
   "id": "c159c4a3",
   "metadata": {
    "execution": {
     "iopub.execute_input": "2022-12-26T21:19:51.792720Z",
     "iopub.status.busy": "2022-12-26T21:19:51.792436Z",
     "iopub.status.idle": "2022-12-26T21:19:53.074858Z",
     "shell.execute_reply": "2022-12-26T21:19:53.073724Z"
    },
    "papermill": {
     "duration": 1.301043,
     "end_time": "2022-12-26T21:19:53.077131",
     "exception": false,
     "start_time": "2022-12-26T21:19:51.776088",
     "status": "completed"
    },
    "tags": []
   },
   "outputs": [
    {
     "data": {
      "image/png": "[encoded data removed]",
      "text/plain": [
       "<IPython.core.display.Image object>"
      ]
     },
     "execution_count": 30,
     "metadata": {},
     "output_type": "execute_result"
    }
   ],
   "source": [
    "plot_model(siamese_network, show_shapes=True, show_layer_names=True)"
   ]
  },
  {
   "cell_type": "code",
   "execution_count": 31,
   "id": "86b4eeef",
   "metadata": {
    "execution": {
     "iopub.execute_input": "2022-12-26T21:19:53.112697Z",
     "iopub.status.busy": "2022-12-26T21:19:53.111155Z",
     "iopub.status.idle": "2022-12-26T21:19:53.121981Z",
     "shell.execute_reply": "2022-12-26T21:19:53.121130Z"
    },
    "papermill": {
     "duration": 0.030358,
     "end_time": "2022-12-26T21:19:53.124094",
     "exception": false,
     "start_time": "2022-12-26T21:19:53.093736",
     "status": "completed"
    },
    "tags": []
   },
   "outputs": [],
   "source": [
    "class SiameseModel(Model):\n",
    "    # Builds a Siamese model based on a base-model\n",
    "    def __init__(self, siamese_network, margin=1.0):\n",
    "        super(SiameseModel, self).__init__()\n",
    "        \n",
    "        self.margin = margin\n",
    "        self.siamese_network = siamese_network\n",
    "        self.loss_tracker = metrics.Mean(name=\"loss\")\n",
    "\n",
    "    def call(self, inputs):\n",
    "        return self.siamese_network(inputs)\n",
    "\n",
    "    def train_step(self, data):\n",
    "        # GradientTape get the gradients when we compute loss, and uses them to update the weights\n",
    "        with tf.GradientTape() as tape:\n",
    "            loss = self._compute_loss(data)\n",
    "            \n",
    "        gradients = tape.gradient(loss, self.siamese_network.trainable_weights)\n",
    "        self.optimizer.apply_gradients(zip(gradients, self.siamese_network.trainable_weights))\n",
    "        \n",
    "        self.loss_tracker.update_state(loss)\n",
    "        return {\"loss\": self.loss_tracker.result()}\n",
    "\n",
    "    def test_step(self, data):\n",
    "        loss = self._compute_loss(data)\n",
    "        \n",
    "        self.loss_tracker.update_state(loss)\n",
    "        return {\"loss\": self.loss_tracker.result()}\n",
    "\n",
    "    def _compute_loss(self, data):\n",
    "        # Get the two distances from the network, then compute the triplet loss\n",
    "        ap_distance, an_distance = self.siamese_network(data)\n",
    "        loss = tf.maximum(ap_distance - an_distance + self.margin, 0.0)\n",
    "        return loss\n",
    "\n",
    "    @property\n",
    "    def metrics(self):\n",
    "        # We need to list our metrics so the reset_states() can be called automatically.\n",
    "        return [self.loss_tracker]"
   ]
  },
  {
   "cell_type": "code",
   "execution_count": 32,
   "id": "b149ec61",
   "metadata": {
    "execution": {
     "iopub.execute_input": "2022-12-26T21:19:53.156893Z",
     "iopub.status.busy": "2022-12-26T21:19:53.156603Z",
     "iopub.status.idle": "2022-12-26T21:19:53.179931Z",
     "shell.execute_reply": "2022-12-26T21:19:53.179129Z"
    },
    "papermill": {
     "duration": 0.041991,
     "end_time": "2022-12-26T21:19:53.181854",
     "exception": false,
     "start_time": "2022-12-26T21:19:53.139863",
     "status": "completed"
    },
    "tags": []
   },
   "outputs": [],
   "source": [
    "siamese_model = SiameseModel(siamese_network)\n",
    "\n",
    "optimizer = Adam(learning_rate=1e-3, epsilon=1e-01)\n",
    "siamese_model.compile(optimizer=optimizer)"
   ]
  },
  {
   "cell_type": "code",
   "execution_count": 33,
   "id": "b218da0a",
   "metadata": {
    "execution": {
     "iopub.execute_input": "2022-12-26T21:19:53.214885Z",
     "iopub.status.busy": "2022-12-26T21:19:53.214604Z",
     "iopub.status.idle": "2022-12-26T21:19:53.221356Z",
     "shell.execute_reply": "2022-12-26T21:19:53.220343Z"
    },
    "papermill": {
     "duration": 0.02576,
     "end_time": "2022-12-26T21:19:53.223547",
     "exception": false,
     "start_time": "2022-12-26T21:19:53.197787",
     "status": "completed"
    },
    "tags": []
   },
   "outputs": [],
   "source": [
    "def test_on_triplets(batch_size = 256):\n",
    "    pos_scores, neg_scores = [], []\n",
    "\n",
    "    for data in get_batch(test_triplet, batch_size=batch_size):\n",
    "        prediction = siamese_model.predict(data)\n",
    "        pos_scores += list(prediction[0])\n",
    "        neg_scores += list(prediction[1])\n",
    "    \n",
    "    accuracy = np.sum(np.array(pos_scores) < np.array(neg_scores)) / len(pos_scores)\n",
    "    ap_mean = np.mean(pos_scores)\n",
    "    an_mean = np.mean(neg_scores)\n",
    "    ap_stds = np.std(pos_scores)\n",
    "    an_stds = np.std(neg_scores)\n",
    "    \n",
    "    print(f\"Accuracy on test = {accuracy:.5f}\")\n",
    "    return (accuracy, ap_mean, an_mean, ap_stds, an_stds)"
   ]
  },
  {
   "cell_type": "code",
   "execution_count": 34,
   "id": "cf8bc5e0",
   "metadata": {
    "execution": {
     "iopub.execute_input": "2022-12-26T21:19:53.256381Z",
     "iopub.status.busy": "2022-12-26T21:19:53.256117Z",
     "iopub.status.idle": "2022-12-26T21:19:53.274787Z",
     "shell.execute_reply": "2022-12-26T21:19:53.273934Z"
    },
    "papermill": {
     "duration": 0.037443,
     "end_time": "2022-12-26T21:19:53.276909",
     "exception": false,
     "start_time": "2022-12-26T21:19:53.239466",
     "status": "completed"
    },
    "tags": []
   },
   "outputs": [],
   "source": [
    "from numpy.random import RandomState\n",
    "from sklearn.model_selection import train_test_split\n",
    "rng = RandomState()\n",
    "trainreal, testreal = train_test_split(real, test_size=0.3)\n",
    "trainfake, testfake = train_test_split(forged, test_size=0.3)"
   ]
  },
  {
   "cell_type": "code",
   "execution_count": 35,
   "id": "069b97e6",
   "metadata": {
    "execution": {
     "iopub.execute_input": "2022-12-26T21:19:53.310847Z",
     "iopub.status.busy": "2022-12-26T21:19:53.309922Z",
     "iopub.status.idle": "2022-12-26T21:19:53.314315Z",
     "shell.execute_reply": "2022-12-26T21:19:53.313437Z"
    },
    "papermill": {
     "duration": 0.022975,
     "end_time": "2022-12-26T21:19:53.316214",
     "exception": false,
     "start_time": "2022-12-26T21:19:53.293239",
     "status": "completed"
    },
    "tags": []
   },
   "outputs": [],
   "source": [
    "# trainreal=trainreal.sort_values(by=[\"person\"])\n",
    "# trainfake=trainfake.sort_values(by=[\"person\"])\n",
    "# testreal=testreal.sort_values(by=[\"person\"]) \n",
    "# testfake=testfake.sort_values(by=[\"person\"]) "
   ]
  },
  {
   "cell_type": "code",
   "execution_count": 36,
   "id": "8217ba71",
   "metadata": {
    "execution": {
     "iopub.execute_input": "2022-12-26T21:19:53.349025Z",
     "iopub.status.busy": "2022-12-26T21:19:53.348710Z",
     "iopub.status.idle": "2022-12-26T21:19:53.356116Z",
     "shell.execute_reply": "2022-12-26T21:19:53.355230Z"
    },
    "papermill": {
     "duration": 0.026119,
     "end_time": "2022-12-26T21:19:53.358161",
     "exception": false,
     "start_time": "2022-12-26T21:19:53.332042",
     "status": "completed"
    },
    "tags": []
   },
   "outputs": [
    {
     "data": {
      "text/plain": [
       "image_name    personD_4.png\n",
       "label                forged\n",
       "person                    D\n",
       "Name: 6, dtype: object"
      ]
     },
     "execution_count": 36,
     "metadata": {},
     "output_type": "execute_result"
    }
   ],
   "source": [
    "trainfake.iloc[1]"
   ]
  },
  {
   "cell_type": "code",
   "execution_count": 37,
   "id": "8238e5b4",
   "metadata": {
    "execution": {
     "iopub.execute_input": "2022-12-26T21:19:53.391516Z",
     "iopub.status.busy": "2022-12-26T21:19:53.391247Z",
     "iopub.status.idle": "2022-12-26T21:19:53.398329Z",
     "shell.execute_reply": "2022-12-26T21:19:53.397431Z"
    },
    "papermill": {
     "duration": 0.026017,
     "end_time": "2022-12-26T21:19:53.400312",
     "exception": false,
     "start_time": "2022-12-26T21:19:53.374295",
     "status": "completed"
    },
    "tags": []
   },
   "outputs": [
    {
     "data": {
      "text/plain": [
       "image_name    personB_8.png\n",
       "label                  real\n",
       "person                    B\n",
       "Name: 26, dtype: object"
      ]
     },
     "execution_count": 37,
     "metadata": {},
     "output_type": "execute_result"
    }
   ],
   "source": [
    "trainreal.iloc[1]"
   ]
  },
  {
   "cell_type": "code",
   "execution_count": 38,
   "id": "ba6bc064",
   "metadata": {
    "execution": {
     "iopub.execute_input": "2022-12-26T21:19:53.434605Z",
     "iopub.status.busy": "2022-12-26T21:19:53.434328Z",
     "iopub.status.idle": "2022-12-26T21:19:53.791334Z",
     "shell.execute_reply": "2022-12-26T21:19:53.790382Z"
    },
    "papermill": {
     "duration": 0.376376,
     "end_time": "2022-12-26T21:19:53.793606",
     "exception": false,
     "start_time": "2022-12-26T21:19:53.417230",
     "status": "completed"
    },
    "tags": []
   },
   "outputs": [],
   "source": [
    "train_triplet = create_triplets(trainreal,trainfake)\n",
    "test_triplet = create_triplets(testreal,testfake)"
   ]
  },
  {
   "cell_type": "code",
   "execution_count": 39,
   "id": "90736e09",
   "metadata": {
    "execution": {
     "iopub.execute_input": "2022-12-26T21:19:53.827676Z",
     "iopub.status.busy": "2022-12-26T21:19:53.827386Z",
     "iopub.status.idle": "2022-12-26T21:19:53.838584Z",
     "shell.execute_reply": "2022-12-26T21:19:53.837732Z"
    },
    "papermill": {
     "duration": 0.030331,
     "end_time": "2022-12-26T21:19:53.840554",
     "exception": false,
     "start_time": "2022-12-26T21:19:53.810223",
     "status": "completed"
    },
    "tags": []
   },
   "outputs": [
    {
     "data": {
      "text/html": [
       "<div>\n",
       "<style scoped>\n",
       "    .dataframe tbody tr th:only-of-type {\n",
       "        vertical-align: middle;\n",
       "    }\n",
       "\n",
       "    .dataframe tbody tr th {\n",
       "        vertical-align: top;\n",
       "    }\n",
       "\n",
       "    .dataframe thead th {\n",
       "        text-align: right;\n",
       "    }\n",
       "</style>\n",
       "<table border=\"1\" class=\"dataframe\">\n",
       "  <thead>\n",
       "    <tr style=\"text-align: right;\">\n",
       "      <th></th>\n",
       "      <th>image_name</th>\n",
       "      <th>label</th>\n",
       "      <th>person</th>\n",
       "    </tr>\n",
       "  </thead>\n",
       "  <tbody>\n",
       "    <tr>\n",
       "      <th>26</th>\n",
       "      <td>personD_39.png</td>\n",
       "      <td>real</td>\n",
       "      <td>D</td>\n",
       "    </tr>\n",
       "    <tr>\n",
       "      <th>39</th>\n",
       "      <td>personB_19.png</td>\n",
       "      <td>real</td>\n",
       "      <td>B</td>\n",
       "    </tr>\n",
       "    <tr>\n",
       "      <th>31</th>\n",
       "      <td>personE_2.png</td>\n",
       "      <td>real</td>\n",
       "      <td>E</td>\n",
       "    </tr>\n",
       "    <tr>\n",
       "      <th>33</th>\n",
       "      <td>personB_26.png</td>\n",
       "      <td>real</td>\n",
       "      <td>B</td>\n",
       "    </tr>\n",
       "    <tr>\n",
       "      <th>29</th>\n",
       "      <td>personC_7.png</td>\n",
       "      <td>real</td>\n",
       "      <td>C</td>\n",
       "    </tr>\n",
       "  </tbody>\n",
       "</table>\n",
       "</div>"
      ],
      "text/plain": [
       "        image_name label person\n",
       "26  personD_39.png  real      D\n",
       "39  personB_19.png  real      B\n",
       "31   personE_2.png  real      E\n",
       "33  personB_26.png  real      B\n",
       "29   personC_7.png  real      C"
      ]
     },
     "execution_count": 39,
     "metadata": {},
     "output_type": "execute_result"
    }
   ],
   "source": [
    "testreal.head()"
   ]
  },
  {
   "cell_type": "code",
   "execution_count": 40,
   "id": "21529114",
   "metadata": {
    "execution": {
     "iopub.execute_input": "2022-12-26T21:19:53.874975Z",
     "iopub.status.busy": "2022-12-26T21:19:53.874205Z",
     "iopub.status.idle": "2022-12-26T21:19:53.880718Z",
     "shell.execute_reply": "2022-12-26T21:19:53.879754Z"
    },
    "papermill": {
     "duration": 0.025669,
     "end_time": "2022-12-26T21:19:53.882673",
     "exception": false,
     "start_time": "2022-12-26T21:19:53.857004",
     "status": "completed"
    },
    "tags": []
   },
   "outputs": [
    {
     "data": {
      "text/plain": [
       "[('personE_37.png', 'personE_47.png', 'personE_44.png'),\n",
       " ('personD_12.png', 'personD_42.png', 'personD_35.png'),\n",
       " ('personE_21.png', 'personE_16.png', 'personE_6.png'),\n",
       " ('personD_18.png', 'personD_13.png', 'personD_9.png'),\n",
       " ('personC_37.png', 'personC_5.png', 'personC_9.png')]"
      ]
     },
     "execution_count": 40,
     "metadata": {},
     "output_type": "execute_result"
    }
   ],
   "source": [
    "train_triplet[0:5]"
   ]
  },
  {
   "cell_type": "code",
   "execution_count": 41,
   "id": "827e3500",
   "metadata": {
    "execution": {
     "iopub.execute_input": "2022-12-26T21:19:53.917379Z",
     "iopub.status.busy": "2022-12-26T21:19:53.916630Z",
     "iopub.status.idle": "2022-12-26T21:25:41.598474Z",
     "shell.execute_reply": "2022-12-26T21:25:41.597468Z"
    },
    "papermill": {
     "duration": 347.701914,
     "end_time": "2022-12-26T21:25:41.601172",
     "exception": false,
     "start_time": "2022-12-26T21:19:53.899258",
     "status": "completed"
    },
    "tags": []
   },
   "outputs": [
    {
     "name": "stderr",
     "output_type": "stream",
     "text": [
      "2022-12-26 21:20:07.094871: I tensorflow/compiler/mlir/mlir_graph_optimization_pass.cc:185] None of the MLIR Optimization Passes are enabled (registered 2)\n",
      "2022-12-26 21:20:08.909716: I tensorflow/stream_executor/cuda/cuda_dnn.cc:369] Loaded cuDNN version 8005\n"
     ]
    },
    {
     "name": "stdout",
     "output_type": "stream",
     "text": [
      "\n",
      "EPOCH: 1 \t (Epoch done in 21 sec)\n",
      "Loss on train    = 0.8882288932800293\n",
      "Accuracy on test = 0.66471\n",
      "\n",
      "EPOCH: 2 \t (Epoch done in 9 sec)\n",
      "Loss on train    = 0.7292031645774841\n",
      "Accuracy on test = 0.69412\n",
      "\n",
      "EPOCH: 3 \t (Epoch done in 8 sec)\n",
      "Loss on train    = 0.5108768343925476\n",
      "Accuracy on test = 0.76471\n",
      "\n",
      "EPOCH: 4 \t (Epoch done in 8 sec)\n",
      "Loss on train    = 0.35748863220214844\n",
      "Accuracy on test = 0.77647\n",
      "\n",
      "EPOCH: 5 \t (Epoch done in 8 sec)\n",
      "Loss on train    = 0.210363507270813\n",
      "Accuracy on test = 0.81765\n",
      "\n",
      "EPOCH: 6 \t (Epoch done in 8 sec)\n",
      "Loss on train    = 0.1237725019454956\n",
      "Accuracy on test = 0.81765\n",
      "\n",
      "EPOCH: 7 \t (Epoch done in 8 sec)\n",
      "Loss on train    = 0.07468436658382416\n",
      "Accuracy on test = 0.85294\n",
      "\n",
      "EPOCH: 8 \t (Epoch done in 8 sec)\n",
      "Loss on train    = 0.025117555633187294\n",
      "Accuracy on test = 0.85294\n",
      "\n",
      "EPOCH: 9 \t (Epoch done in 8 sec)\n",
      "Loss on train    = 0.01970265805721283\n",
      "Accuracy on test = 0.86471\n",
      "\n",
      "EPOCH: 10 \t (Epoch done in 9 sec)\n",
      "Loss on train    = 0.010196316055953503\n",
      "Accuracy on test = 0.88824\n",
      "\n",
      "EPOCH: 11 \t (Epoch done in 8 sec)\n",
      "Loss on train    = 0.0066579473204910755\n",
      "Accuracy on test = 0.88235\n",
      "\n",
      "EPOCH: 12 \t (Epoch done in 8 sec)\n",
      "Loss on train    = 0.0040778410620987415\n",
      "Accuracy on test = 0.88235\n",
      "\n",
      "EPOCH: 13 \t (Epoch done in 9 sec)\n",
      "Loss on train    = 0.0024443655274808407\n",
      "Accuracy on test = 0.88824\n",
      "\n",
      "EPOCH: 14 \t (Epoch done in 8 sec)\n",
      "Loss on train    = 0.001418547355569899\n",
      "Accuracy on test = 0.88824\n",
      "\n",
      "EPOCH: 15 \t (Epoch done in 8 sec)\n",
      "Loss on train    = 0.0002989295171573758\n",
      "Accuracy on test = 0.89412\n",
      "\n",
      "EPOCH: 16 \t (Epoch done in 8 sec)\n",
      "Loss on train    = 6.557427695952356e-05\n",
      "Accuracy on test = 0.89412\n",
      "\n",
      "EPOCH: 17 \t (Epoch done in 8 sec)\n",
      "Loss on train    = 0.0004571145982481539\n",
      "Accuracy on test = 0.90000\n",
      "\n",
      "EPOCH: 18 \t (Epoch done in 8 sec)\n",
      "Loss on train    = 0.0\n",
      "Accuracy on test = 0.91176\n",
      "\n",
      "EPOCH: 19 \t (Epoch done in 8 sec)\n",
      "Loss on train    = 0.0\n",
      "Accuracy on test = 0.91765\n",
      "\n",
      "EPOCH: 20 \t (Epoch done in 8 sec)\n",
      "Loss on train    = 0.0\n",
      "Accuracy on test = 0.92353\n",
      "\n",
      "EPOCH: 21 \t (Epoch done in 8 sec)\n",
      "Loss on train    = 0.0\n",
      "Accuracy on test = 0.92941\n",
      "\n",
      "EPOCH: 22 \t (Epoch done in 8 sec)\n",
      "Loss on train    = 0.0\n",
      "Accuracy on test = 0.92941\n",
      "\n",
      "EPOCH: 23 \t (Epoch done in 8 sec)\n",
      "Loss on train    = 0.0\n",
      "Accuracy on test = 0.93529\n",
      "\n",
      "EPOCH: 24 \t (Epoch done in 8 sec)\n",
      "Loss on train    = 0.0\n",
      "Accuracy on test = 0.94118\n",
      "\n",
      "EPOCH: 25 \t (Epoch done in 8 sec)\n",
      "Loss on train    = 0.0\n",
      "Accuracy on test = 0.94118\n",
      "\n",
      "EPOCH: 26 \t (Epoch done in 8 sec)\n",
      "Loss on train    = 0.0\n",
      "Accuracy on test = 0.93529\n",
      "\n",
      "EPOCH: 27 \t (Epoch done in 9 sec)\n",
      "Loss on train    = 0.0\n",
      "Accuracy on test = 0.93529\n",
      "\n",
      "EPOCH: 28 \t (Epoch done in 8 sec)\n",
      "Loss on train    = 0.0\n",
      "Accuracy on test = 0.93529\n",
      "\n",
      "EPOCH: 29 \t (Epoch done in 8 sec)\n",
      "Loss on train    = 3.300798198324628e-05\n",
      "Accuracy on test = 0.93529\n",
      "\n",
      "EPOCH: 30 \t (Epoch done in 8 sec)\n",
      "Loss on train    = 0.0\n",
      "Accuracy on test = 0.94118\n"
     ]
    }
   ],
   "source": [
    "save_all = False\n",
    "epochs = 30\n",
    "batch_size = 258\n",
    "\n",
    "max_acc = 0\n",
    "train_loss = []\n",
    "test_metrics = []\n",
    "# siamese_model.fit_generator(get_batch(train_triplet, batch_size=batch_size)\n",
    "#                             epochs=50,validation_data=get_batch(test_triplet, batch_size=batch_size))\n",
    "for epoch in range(1, epochs+1):\n",
    "    t = time.time()\n",
    "    \n",
    "    # Training the model on train data\n",
    "    epoch_loss = []\n",
    "    for data in get_batch(train_triplet, batch_size=batch_size):\n",
    "        loss = siamese_model.train_on_batch(data)\n",
    "        epoch_loss.append(loss)\n",
    "    epoch_loss = sum(epoch_loss)/len(epoch_loss)\n",
    "    train_loss.append(epoch_loss)\n",
    "\n",
    "    print(f\"\\nEPOCH: {epoch} \\t (Epoch done in {int(time.time()-t)} sec)\")\n",
    "    print(f\"Loss on train    = {epoch_loss}\")\n",
    "    \n",
    "    # Testing the model on test data\n",
    "    metric = test_on_triplets(batch_size=batch_size)\n",
    "    test_metrics.append(metric)\n",
    "    accuracy = metric[0]\n",
    "    # Saving the model weights\n",
    "    if save_all or accuracy>=max_acc:\n",
    "        siamese_model.save_weights(\"siamese_model.h5\")\n",
    "        max_acc = accuracy\n",
    "\n",
    "# Saving the model after all epochs run\n",
    "siamese_model.save_weights(\"siamese_model-final.h5\")"
   ]
  },
  {
   "cell_type": "code",
   "execution_count": 42,
   "id": "2839b646",
   "metadata": {
    "execution": {
     "iopub.execute_input": "2022-12-26T21:25:41.641483Z",
     "iopub.status.busy": "2022-12-26T21:25:41.641168Z",
     "iopub.status.idle": "2022-12-26T21:25:43.473104Z",
     "shell.execute_reply": "2022-12-26T21:25:43.472022Z"
    },
    "papermill": {
     "duration": 1.854417,
     "end_time": "2022-12-26T21:25:43.475360",
     "exception": false,
     "start_time": "2022-12-26T21:25:41.620943",
     "status": "completed"
    },
    "tags": []
   },
   "outputs": [
    {
     "name": "stdout",
     "output_type": "stream",
     "text": [
      "Model: \"Encode_Model\"\n",
      "_________________________________________________________________\n",
      "Layer (type)                 Output Shape              Param #   \n",
      "=================================================================\n",
      "xception (Functional)        (None, 2048)              20861480  \n",
      "_________________________________________________________________\n",
      "flatten_1 (Flatten)          (None, 2048)              0         \n",
      "_________________________________________________________________\n",
      "dense_2 (Dense)              (None, 512)               1049088   \n",
      "_________________________________________________________________\n",
      "batch_normalization_9 (Batch (None, 512)               2048      \n",
      "_________________________________________________________________\n",
      "dense_3 (Dense)              (None, 256)               131328    \n",
      "_________________________________________________________________\n",
      "lambda_1 (Lambda)            (None, 256)               0         \n",
      "=================================================================\n",
      "Total params: 22,043,944\n",
      "Trainable params: 9,583,800\n",
      "Non-trainable params: 12,460,144\n",
      "_________________________________________________________________\n"
     ]
    }
   ],
   "source": [
    "def extract_encoder(model):\n",
    "    encoder = get_encoder((128, 128, 3))\n",
    "    i=0\n",
    "    for e_layer in model.layers[0].layers[3].layers:\n",
    "        layer_weight = e_layer.get_weights()\n",
    "        encoder.layers[i].set_weights(layer_weight)\n",
    "        i+=1\n",
    "    return encoder\n",
    "\n",
    "encoder = extract_encoder(siamese_model)\n",
    "encoder.save_weights(\"encoder\")\n",
    "encoder.summary()"
   ]
  },
  {
   "cell_type": "code",
   "execution_count": 43,
   "id": "91d74c43",
   "metadata": {
    "execution": {
     "iopub.execute_input": "2022-12-26T21:25:43.517720Z",
     "iopub.status.busy": "2022-12-26T21:25:43.516240Z",
     "iopub.status.idle": "2022-12-26T21:25:44.499698Z",
     "shell.execute_reply": "2022-12-26T21:25:44.498707Z"
    },
    "papermill": {
     "duration": 1.007288,
     "end_time": "2022-12-26T21:25:44.503156",
     "exception": false,
     "start_time": "2022-12-26T21:25:43.495868",
     "status": "completed"
    },
    "tags": []
   },
   "outputs": [
    {
     "data": {
      "image/png": "[encoded data removed]",
      "text/plain": [
       "<Figure size 1080x360 with 2 Axes>"
      ]
     },
     "metadata": {
      "needs_background": "light"
     },
     "output_type": "display_data"
    },
    {
     "data": {
      "image/png": "[encoded data removed]",
      "text/plain": [
       "<Figure size 1080x360 with 2 Axes>"
      ]
     },
     "metadata": {
      "needs_background": "light"
     },
     "output_type": "display_data"
    }
   ],
   "source": [
    "def plot_metrics(loss, metrics):\n",
    "    # Extracting individual metrics from metrics\n",
    "    accuracy = metrics[:, 0]\n",
    "    ap_mean  = metrics[:, 1]\n",
    "    an_mean  = metrics[:, 2]\n",
    "    ap_stds  = metrics[:, 3]\n",
    "    an_stds  = metrics[:, 4]\n",
    "    \n",
    "    plt.figure(figsize=(15,5))\n",
    "    \n",
    "    # Plotting the loss over epochs\n",
    "    plt.subplot(121)\n",
    "    plt.plot(loss, 'b', label='Loss')\n",
    "    plt.title('Training loss')\n",
    "    plt.legend()\n",
    "    \n",
    "    # Plotting the accuracy over epochs\n",
    "    plt.subplot(122)\n",
    "    plt.plot(accuracy, 'r', label='Accuracy')\n",
    "    plt.title('Testing Accuracy')\n",
    "    plt.legend()\n",
    "    \n",
    "    plt.figure(figsize=(15,5))\n",
    "    \n",
    "    # Comparing the Means over epochs\n",
    "    plt.subplot(121)\n",
    "    plt.plot(ap_mean, 'b', label='AP Mean')\n",
    "    plt.plot(an_mean, 'g', label='AN Mean')\n",
    "    plt.title('Means Comparision')\n",
    "    plt.legend()\n",
    "    \n",
    "    # Plotting the accuracy\n",
    "    ap_75quartile = (ap_mean+ap_stds)\n",
    "    an_75quartile = (an_mean-an_stds)\n",
    "    plt.subplot(122)\n",
    "    plt.plot(ap_75quartile, 'b', label='AP (Mean+SD)')\n",
    "    plt.plot(an_75quartile, 'g', label='AN (Mean-SD)')\n",
    "    plt.title('75th Quartile Comparision')\n",
    "    plt.legend()\n",
    "\n",
    "test_metrics = np.array(test_metrics)\n",
    "plot_metrics(train_loss, test_metrics)"
   ]
  },
  {
   "cell_type": "code",
   "execution_count": 44,
   "id": "be60957a",
   "metadata": {
    "execution": {
     "iopub.execute_input": "2022-12-26T21:25:44.562186Z",
     "iopub.status.busy": "2022-12-26T21:25:44.561803Z",
     "iopub.status.idle": "2022-12-26T21:25:44.567605Z",
     "shell.execute_reply": "2022-12-26T21:25:44.566590Z"
    },
    "papermill": {
     "duration": 0.030428,
     "end_time": "2022-12-26T21:25:44.569522",
     "exception": false,
     "start_time": "2022-12-26T21:25:44.539094",
     "status": "completed"
    },
    "tags": []
   },
   "outputs": [],
   "source": [
    "def classify_images(face_list1, face_list2, threshold=1.3):\n",
    "    # Getting the encodings for the passed faces\n",
    "    tensor1 = encoder.predict(face_list1)\n",
    "    tensor2 = encoder.predict(face_list2)\n",
    "    \n",
    "    distance = np.sum(np.square(tensor1-tensor2), axis=-1)\n",
    "    prediction = np.where(distance<=threshold, 0, 1)\n",
    "    return prediction"
   ]
  },
  {
   "cell_type": "code",
   "execution_count": 45,
   "id": "81f299b8",
   "metadata": {
    "execution": {
     "iopub.execute_input": "2022-12-26T21:25:44.611955Z",
     "iopub.status.busy": "2022-12-26T21:25:44.611642Z",
     "iopub.status.idle": "2022-12-26T21:25:47.197827Z",
     "shell.execute_reply": "2022-12-26T21:25:47.196197Z"
    },
    "papermill": {
     "duration": 2.609812,
     "end_time": "2022-12-26T21:25:47.199911",
     "exception": false,
     "start_time": "2022-12-26T21:25:44.590099",
     "status": "completed"
    },
    "tags": []
   },
   "outputs": [
    {
     "name": "stdout",
     "output_type": "stream",
     "text": [
      "<class 'numpy.ndarray'>\n",
      "<class 'numpy.ndarray'>\n",
      "<class 'numpy.ndarray'>\n",
      "\n",
      "Accuracy of model: 1.0\n",
      "\n"
     ]
    },
    {
     "data": {
      "image/png": "[encoded data removed]",
      "text/plain": [
       "<Figure size 432x288 with 2 Axes>"
      ]
     },
     "metadata": {
      "needs_background": "light"
     },
     "output_type": "display_data"
    }
   ],
   "source": [
    "def ModelMetrics(pos_list, neg_list):\n",
    "    true = np.array([0]*len(pos_list)+[1]*len(neg_list))\n",
    "    pred = np.append(pos_list, neg_list)\n",
    "    \n",
    "    # Compute and print the accuracy\n",
    "    print(f\"\\nAccuracy of model: {accuracy_score(true, pred)}\\n\")\n",
    "    \n",
    "    # Compute and plot the Confusion matrix\n",
    "    cf_matrix = confusion_matrix(true, pred)\n",
    "\n",
    "    categories  = ['Similar','Different']\n",
    "    names = ['True Similar','False Similar', 'False Different','True Different']\n",
    "    percentages = ['{0:.2%}'.format(value) for value in cf_matrix.flatten() / np.sum(cf_matrix)]\n",
    "\n",
    "    labels = [f'{v1}\\n{v2}' for v1, v2 in zip(names, percentages)]\n",
    "    labels = np.asarray(labels).reshape(2,2)\n",
    "\n",
    "    sns.heatmap(cf_matrix, annot = labels, cmap = 'Blues',fmt = '',\n",
    "                xticklabels = categories, yticklabels = categories)\n",
    "\n",
    "    plt.xlabel(\"Predicted\", fontdict = {'size':14}, labelpad = 10)\n",
    "    plt.ylabel(\"Actual\"   , fontdict = {'size':14}, labelpad = 10)\n",
    "    plt.title (\"Confusion Matrix\", fontdict = {'size':18}, pad = 20)\n",
    "\n",
    "\n",
    "pos_list = np.array([])\n",
    "neg_list = np.array([])\n",
    "\n",
    "for data in get_batch(test_triplet, batch_size=8):\n",
    "    a, p, n = data\n",
    "    print(type(a))\n",
    "    print(type(p))\n",
    "    print(type(n))\n",
    "    pos_list = np.append(pos_list, classify_images(a, p))\n",
    "    neg_list = np.append(neg_list, classify_images(a, n))\n",
    "    break\n",
    "\n",
    "ModelMetrics(pos_list, neg_list)"
   ]
  },
  {
   "cell_type": "code",
   "execution_count": 46,
   "id": "d6db597b",
   "metadata": {
    "execution": {
     "iopub.execute_input": "2022-12-26T21:25:47.243895Z",
     "iopub.status.busy": "2022-12-26T21:25:47.243065Z",
     "iopub.status.idle": "2022-12-26T21:25:49.933250Z",
     "shell.execute_reply": "2022-12-26T21:25:49.932185Z"
    },
    "papermill": {
     "duration": 2.714558,
     "end_time": "2022-12-26T21:25:49.935699",
     "exception": false,
     "start_time": "2022-12-26T21:25:47.221141",
     "status": "completed"
    },
    "tags": []
   },
   "outputs": [
    {
     "name": "stdout",
     "output_type": "stream",
     "text": [
      "(170, 128, 128, 3)\n"
     ]
    }
   ],
   "source": [
    "pos_list=[]\n",
    "neg_list=[]\n",
    "for data in get_batch(test_triplet, batch_size=500):\n",
    "    a, p, n = data\n",
    "    print(a.shape)\n",
    "    pos_list = np.append(pos_list, classify_images(a, p))\n",
    "\n",
    "    neg_list = np.append(neg_list, classify_images(a, n))"
   ]
  },
  {
   "cell_type": "code",
   "execution_count": 47,
   "id": "85ee637b",
   "metadata": {
    "execution": {
     "iopub.execute_input": "2022-12-26T21:25:49.981581Z",
     "iopub.status.busy": "2022-12-26T21:25:49.980068Z",
     "iopub.status.idle": "2022-12-26T21:25:52.151822Z",
     "shell.execute_reply": "2022-12-26T21:25:52.150889Z"
    },
    "papermill": {
     "duration": 2.196099,
     "end_time": "2022-12-26T21:25:52.154313",
     "exception": false,
     "start_time": "2022-12-26T21:25:49.958214",
     "status": "completed"
    },
    "tags": []
   },
   "outputs": [],
   "source": [
    "lst=[]\n",
    "image = read_image('personB_28.png')\n",
    "image = preprocess_input(image)\n",
    "lst.append(image)\n",
    "lst=np.array(lst)\n",
    "for data in get_batch(test_triplet, batch_size=500):\n",
    "    a, p, n = data\n",
    "    a=lst\n",
    "    pos_list = np.append(pos_list, classify_images(a, p))\n",
    "\n",
    "    neg_list = np.append(neg_list, classify_images(a, n))\n",
    "    \n"
   ]
  },
  {
   "cell_type": "code",
   "execution_count": 48,
   "id": "146a6156",
   "metadata": {
    "execution": {
     "iopub.execute_input": "2022-12-26T21:25:52.197934Z",
     "iopub.status.busy": "2022-12-26T21:25:52.197629Z",
     "iopub.status.idle": "2022-12-26T21:25:52.210985Z",
     "shell.execute_reply": "2022-12-26T21:25:52.210153Z"
    },
    "papermill": {
     "duration": 0.037067,
     "end_time": "2022-12-26T21:25:52.213084",
     "exception": false,
     "start_time": "2022-12-26T21:25:52.176017",
     "status": "completed"
    },
    "tags": []
   },
   "outputs": [],
   "source": [
    "def findSimilar(img1,img2,thres=1.1):\n",
    "    a=read_image(img1)\n",
    "    a=preprocess_input(a)\n",
    "    lst1=[a]\n",
    "    lst1=np.array(lst1)\n",
    "    b=read_image(img2)\n",
    "    b=preprocess_input(b)\n",
    "    lst2=[b]\n",
    "    lst2=np.array(lst2)\n",
    "    xx=[]\n",
    "    x=classify_images(lst1,lst2,thres)\n",
    "    if x ==0: xx.append('real')\n",
    "    else:xx.append('forged')\n",
    "    return xx"
   ]
  },
  {
   "cell_type": "code",
   "execution_count": 49,
   "id": "4a2c7789",
   "metadata": {
    "execution": {
     "iopub.execute_input": "2022-12-26T21:25:52.256621Z",
     "iopub.status.busy": "2022-12-26T21:25:52.256357Z",
     "iopub.status.idle": "2022-12-26T21:25:52.268523Z",
     "shell.execute_reply": "2022-12-26T21:25:52.267575Z"
    },
    "papermill": {
     "duration": 0.036371,
     "end_time": "2022-12-26T21:25:52.270501",
     "exception": false,
     "start_time": "2022-12-26T21:25:52.234130",
     "status": "completed"
    },
    "tags": []
   },
   "outputs": [
    {
     "data": {
      "text/html": [
       "<div>\n",
       "<style scoped>\n",
       "    .dataframe tbody tr th:only-of-type {\n",
       "        vertical-align: middle;\n",
       "    }\n",
       "\n",
       "    .dataframe tbody tr th {\n",
       "        vertical-align: top;\n",
       "    }\n",
       "\n",
       "    .dataframe thead th {\n",
       "        text-align: right;\n",
       "    }\n",
       "</style>\n",
       "<table border=\"1\" class=\"dataframe\">\n",
       "  <thead>\n",
       "    <tr style=\"text-align: right;\">\n",
       "      <th></th>\n",
       "      <th>image_name</th>\n",
       "      <th>label</th>\n",
       "      <th>person</th>\n",
       "    </tr>\n",
       "  </thead>\n",
       "  <tbody>\n",
       "    <tr>\n",
       "      <th>26</th>\n",
       "      <td>personD_39.png</td>\n",
       "      <td>real</td>\n",
       "      <td>D</td>\n",
       "    </tr>\n",
       "    <tr>\n",
       "      <th>39</th>\n",
       "      <td>personB_19.png</td>\n",
       "      <td>real</td>\n",
       "      <td>B</td>\n",
       "    </tr>\n",
       "    <tr>\n",
       "      <th>31</th>\n",
       "      <td>personE_2.png</td>\n",
       "      <td>real</td>\n",
       "      <td>E</td>\n",
       "    </tr>\n",
       "    <tr>\n",
       "      <th>33</th>\n",
       "      <td>personB_26.png</td>\n",
       "      <td>real</td>\n",
       "      <td>B</td>\n",
       "    </tr>\n",
       "    <tr>\n",
       "      <th>29</th>\n",
       "      <td>personC_7.png</td>\n",
       "      <td>real</td>\n",
       "      <td>C</td>\n",
       "    </tr>\n",
       "    <tr>\n",
       "      <th>31</th>\n",
       "      <td>personC_25.png</td>\n",
       "      <td>real</td>\n",
       "      <td>C</td>\n",
       "    </tr>\n",
       "    <tr>\n",
       "      <th>21</th>\n",
       "      <td>personB_15.png</td>\n",
       "      <td>real</td>\n",
       "      <td>B</td>\n",
       "    </tr>\n",
       "    <tr>\n",
       "      <th>37</th>\n",
       "      <td>personA_39.png</td>\n",
       "      <td>real</td>\n",
       "      <td>A</td>\n",
       "    </tr>\n",
       "    <tr>\n",
       "      <th>38</th>\n",
       "      <td>personC_48.png</td>\n",
       "      <td>real</td>\n",
       "      <td>C</td>\n",
       "    </tr>\n",
       "    <tr>\n",
       "      <th>27</th>\n",
       "      <td>personB_23.png</td>\n",
       "      <td>real</td>\n",
       "      <td>B</td>\n",
       "    </tr>\n",
       "    <tr>\n",
       "      <th>36</th>\n",
       "      <td>personE_3.png</td>\n",
       "      <td>real</td>\n",
       "      <td>E</td>\n",
       "    </tr>\n",
       "    <tr>\n",
       "      <th>34</th>\n",
       "      <td>personC_4.png</td>\n",
       "      <td>real</td>\n",
       "      <td>C</td>\n",
       "    </tr>\n",
       "    <tr>\n",
       "      <th>39</th>\n",
       "      <td>personE_5.png</td>\n",
       "      <td>real</td>\n",
       "      <td>E</td>\n",
       "    </tr>\n",
       "    <tr>\n",
       "      <th>23</th>\n",
       "      <td>personE_4.png</td>\n",
       "      <td>real</td>\n",
       "      <td>E</td>\n",
       "    </tr>\n",
       "    <tr>\n",
       "      <th>22</th>\n",
       "      <td>personA_6.png</td>\n",
       "      <td>real</td>\n",
       "      <td>A</td>\n",
       "    </tr>\n",
       "    <tr>\n",
       "      <th>26</th>\n",
       "      <td>personC_41.png</td>\n",
       "      <td>real</td>\n",
       "      <td>C</td>\n",
       "    </tr>\n",
       "    <tr>\n",
       "      <th>35</th>\n",
       "      <td>personC_46.png</td>\n",
       "      <td>real</td>\n",
       "      <td>C</td>\n",
       "    </tr>\n",
       "    <tr>\n",
       "      <th>28</th>\n",
       "      <td>personA_4.png</td>\n",
       "      <td>real</td>\n",
       "      <td>A</td>\n",
       "    </tr>\n",
       "    <tr>\n",
       "      <th>25</th>\n",
       "      <td>personC_27.png</td>\n",
       "      <td>real</td>\n",
       "      <td>C</td>\n",
       "    </tr>\n",
       "    <tr>\n",
       "      <th>34</th>\n",
       "      <td>personD_36.png</td>\n",
       "      <td>real</td>\n",
       "      <td>D</td>\n",
       "    </tr>\n",
       "    <tr>\n",
       "      <th>25</th>\n",
       "      <td>personB_44.png</td>\n",
       "      <td>real</td>\n",
       "      <td>B</td>\n",
       "    </tr>\n",
       "    <tr>\n",
       "      <th>39</th>\n",
       "      <td>personA_19.png</td>\n",
       "      <td>real</td>\n",
       "      <td>A</td>\n",
       "    </tr>\n",
       "    <tr>\n",
       "      <th>38</th>\n",
       "      <td>personA_35.png</td>\n",
       "      <td>real</td>\n",
       "      <td>A</td>\n",
       "    </tr>\n",
       "    <tr>\n",
       "      <th>32</th>\n",
       "      <td>personA_43.png</td>\n",
       "      <td>real</td>\n",
       "      <td>A</td>\n",
       "    </tr>\n",
       "    <tr>\n",
       "      <th>37</th>\n",
       "      <td>personB_39.png</td>\n",
       "      <td>real</td>\n",
       "      <td>B</td>\n",
       "    </tr>\n",
       "    <tr>\n",
       "      <th>29</th>\n",
       "      <td>personD_19.png</td>\n",
       "      <td>real</td>\n",
       "      <td>D</td>\n",
       "    </tr>\n",
       "    <tr>\n",
       "      <th>20</th>\n",
       "      <td>personB_9.png</td>\n",
       "      <td>real</td>\n",
       "      <td>B</td>\n",
       "    </tr>\n",
       "    <tr>\n",
       "      <th>30</th>\n",
       "      <td>personB_17.png</td>\n",
       "      <td>real</td>\n",
       "      <td>B</td>\n",
       "    </tr>\n",
       "    <tr>\n",
       "      <th>26</th>\n",
       "      <td>personE_33.png</td>\n",
       "      <td>real</td>\n",
       "      <td>E</td>\n",
       "    </tr>\n",
       "    <tr>\n",
       "      <th>29</th>\n",
       "      <td>personB_22.png</td>\n",
       "      <td>real</td>\n",
       "      <td>B</td>\n",
       "    </tr>\n",
       "  </tbody>\n",
       "</table>\n",
       "</div>"
      ],
      "text/plain": [
       "        image_name label person\n",
       "26  personD_39.png  real      D\n",
       "39  personB_19.png  real      B\n",
       "31   personE_2.png  real      E\n",
       "33  personB_26.png  real      B\n",
       "29   personC_7.png  real      C\n",
       "31  personC_25.png  real      C\n",
       "21  personB_15.png  real      B\n",
       "37  personA_39.png  real      A\n",
       "38  personC_48.png  real      C\n",
       "27  personB_23.png  real      B\n",
       "36   personE_3.png  real      E\n",
       "34   personC_4.png  real      C\n",
       "39   personE_5.png  real      E\n",
       "23   personE_4.png  real      E\n",
       "22   personA_6.png  real      A\n",
       "26  personC_41.png  real      C\n",
       "35  personC_46.png  real      C\n",
       "28   personA_4.png  real      A\n",
       "25  personC_27.png  real      C\n",
       "34  personD_36.png  real      D\n",
       "25  personB_44.png  real      B\n",
       "39  personA_19.png  real      A\n",
       "38  personA_35.png  real      A\n",
       "32  personA_43.png  real      A\n",
       "37  personB_39.png  real      B\n",
       "29  personD_19.png  real      D\n",
       "20   personB_9.png  real      B\n",
       "30  personB_17.png  real      B\n",
       "26  personE_33.png  real      E\n",
       "29  personB_22.png  real      B"
      ]
     },
     "execution_count": 49,
     "metadata": {},
     "output_type": "execute_result"
    }
   ],
   "source": [
    "testreal"
   ]
  },
  {
   "cell_type": "code",
   "execution_count": 50,
   "id": "6ee49856",
   "metadata": {
    "execution": {
     "iopub.execute_input": "2022-12-26T21:25:52.313506Z",
     "iopub.status.busy": "2022-12-26T21:25:52.313240Z",
     "iopub.status.idle": "2022-12-26T21:25:52.403700Z",
     "shell.execute_reply": "2022-12-26T21:25:52.402654Z"
    },
    "papermill": {
     "duration": 0.114493,
     "end_time": "2022-12-26T21:25:52.405882",
     "exception": false,
     "start_time": "2022-12-26T21:25:52.291389",
     "status": "completed"
    },
    "tags": []
   },
   "outputs": [
    {
     "data": {
      "text/plain": [
       "['real']"
      ]
     },
     "execution_count": 50,
     "metadata": {},
     "output_type": "execute_result"
    }
   ],
   "source": [
    "findSimilar('personB_44.png','personB_25.png')\n"
   ]
  },
  {
   "cell_type": "code",
   "execution_count": 51,
   "id": "ac3d7c49",
   "metadata": {
    "execution": {
     "iopub.execute_input": "2022-12-26T21:25:52.449677Z",
     "iopub.status.busy": "2022-12-26T21:25:52.449397Z",
     "iopub.status.idle": "2022-12-26T21:25:52.750243Z",
     "shell.execute_reply": "2022-12-26T21:25:52.749242Z"
    },
    "papermill": {
     "duration": 0.325376,
     "end_time": "2022-12-26T21:25:52.752697",
     "exception": false,
     "start_time": "2022-12-26T21:25:52.427321",
     "status": "completed"
    },
    "tags": []
   },
   "outputs": [],
   "source": [
    "encoder.save('siames.h5')"
   ]
  },
  {
   "cell_type": "code",
   "execution_count": 52,
   "id": "c27c68db",
   "metadata": {
    "execution": {
     "iopub.execute_input": "2022-12-26T21:25:52.797811Z",
     "iopub.status.busy": "2022-12-26T21:25:52.796971Z",
     "iopub.status.idle": "2022-12-26T21:25:52.802162Z",
     "shell.execute_reply": "2022-12-26T21:25:52.801240Z"
    },
    "papermill": {
     "duration": 0.029091,
     "end_time": "2022-12-26T21:25:52.804056",
     "exception": false,
     "start_time": "2022-12-26T21:25:52.774965",
     "status": "completed"
    },
    "tags": []
   },
   "outputs": [],
   "source": [
    "import os\n",
    "os.chdir(r'/kaggle/working')\n",
    "\n",
    "\n",
    "from IPython.display import FileLink\n",
    "\n",
    "x=FileLink(r'siames.h5')"
   ]
  },
  {
   "cell_type": "code",
   "execution_count": 53,
   "id": "a1921697",
   "metadata": {
    "execution": {
     "iopub.execute_input": "2022-12-26T21:25:52.847277Z",
     "iopub.status.busy": "2022-12-26T21:25:52.847009Z",
     "iopub.status.idle": "2022-12-26T21:25:52.852814Z",
     "shell.execute_reply": "2022-12-26T21:25:52.851823Z"
    },
    "papermill": {
     "duration": 0.029687,
     "end_time": "2022-12-26T21:25:52.854743",
     "exception": false,
     "start_time": "2022-12-26T21:25:52.825056",
     "status": "completed"
    },
    "tags": []
   },
   "outputs": [
    {
     "data": {
      "text/html": [
       "<a href='siames.h5' target='_blank'>siames.h5</a><br>"
      ],
      "text/plain": [
       "/kaggle/working/siames.h5"
      ]
     },
     "execution_count": 53,
     "metadata": {},
     "output_type": "execute_result"
    }
   ],
   "source": [
    "x"
   ]
  },
  {
   "cell_type": "code",
   "execution_count": null,
   "id": "5eaa89f1",
   "metadata": {
    "papermill": {
     "duration": 0.021256,
     "end_time": "2022-12-26T21:25:52.897283",
     "exception": false,
     "start_time": "2022-12-26T21:25:52.876027",
     "status": "completed"
    },
    "tags": []
   },
   "outputs": [],
   "source": []
  }
 ],
 "metadata": {
  "kernelspec": {
   "display_name": "Python 3",
   "language": "python",
   "name": "python3"
  },
  "language_info": {
   "codemirror_mode": {
    "name": "ipython",
    "version": 3
   },
   "file_extension": ".py",
   "mimetype": "text/x-python",
   "name": "python",
   "nbconvert_exporter": "python",
   "pygments_lexer": "ipython3",
   "version": "3.7.12"
  },
  "papermill": {
   "default_parameters": {},
   "duration": 408.438479,
   "end_time": "2022-12-26T21:25:56.683681",
   "environment_variables": {},
   "exception": null,
   "input_path": "__notebook__.ipynb",
   "output_path": "__notebook__.ipynb",
   "parameters": {},
   "start_time": "2022-12-26T21:19:08.245202",
   "version": "2.3.4"
  }
 },
 "nbformat": 4,
 "nbformat_minor": 5
}
