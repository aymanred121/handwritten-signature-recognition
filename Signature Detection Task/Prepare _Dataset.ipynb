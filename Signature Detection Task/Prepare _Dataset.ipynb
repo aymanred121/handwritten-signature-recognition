{
 "cells": [
  {
   "attachments": {},
   "cell_type": "markdown",
   "metadata": {},
   "source": [
    "# Prepare Dataset For YOLOv7 "
   ]
  },
  {
   "attachments": {},
   "cell_type": "markdown",
   "metadata": {},
   "source": [
    "* `X1`,`Y1`,`X2`,`Y2` -> **Data format**\n",
    "\n",
    "* `class_label`,`x_center`,`y_center`,`width`,`height` -> **target format**"
   ]
  },
  {
   "cell_type": "code",
   "execution_count": 1,
   "metadata": {},
   "outputs": [],
   "source": [
    "import os"
   ]
  },
  {
   "cell_type": "code",
   "execution_count": 2,
   "metadata": {},
   "outputs": [],
   "source": [
    "# Create a folder to store the modified ground truth\n",
    "if not os.path.isdir(\"SignatureObjectDetection/TrainGroundTruth_Modified\"):\n",
    "    os.makedirs(\"SignatureObjectDetection/TrainGroundTruth_Modified\")"
   ]
  },
  {
   "cell_type": "code",
   "execution_count": 15,
   "metadata": {},
   "outputs": [],
   "source": [
    "# Create a folder to store the modified ground truth\n",
    "if not os.path.isdir(\"SignatureObjectDetection/TestGroundTruth_Modified\"):\n",
    "    os.makedirs(\"SignatureObjectDetection/TestGroundTruth_Modified\")"
   ]
  },
  {
   "cell_type": "code",
   "execution_count": 7,
   "metadata": {},
   "outputs": [],
   "source": [
    "def clear_file_Content(fileContent):\n",
    "    content_list = []\n",
    "    # Clear the file content\n",
    "    for file in fileContent:\n",
    "        content_list.append(file.strip('\\n'))\n",
    "        \n",
    "    return content_list"
   ]
  },
  {
   "cell_type": "code",
   "execution_count": 24,
   "metadata": {},
   "outputs": [],
   "source": [
    "def modify_folder_data(path, folder_path):\n",
    "    for filename in filter(lambda p: p.endswith(\"txt\"), os.listdir(path)):\n",
    "        filepath = os.path.join(path, filename)\n",
    "        with open(filepath, mode='r+') as f:\n",
    "            fileContent = f.readlines()\n",
    "            cleaned_file_content = clear_file_Content(fileContent)\n",
    "            new_lines = []\n",
    "            for line in cleaned_file_content:\n",
    "                xs = line.split(',')\n",
    "                xs = [float(i) for i in xs]\n",
    "                width = abs(xs[2] - xs[0])\n",
    "                height = abs(xs[3] - xs[1])\n",
    "                x_center = (xs[2]- xs[0]) / 2\n",
    "                y_center = (xs[3] - xs[1]) / 2\n",
    "                new_format = [0,x_center,y_center,width,height]\n",
    "                new_format_string = ','.join(str(item) for item in new_format)\n",
    "                new_lines.append(new_format_string)\n",
    "            with open(f\"{folder_path}/{filename}\", \"w\") as created_file:\n",
    "                for line in new_lines:\n",
    "                    created_file.write(\"%s\\n\" % line)\n",
    "                "
   ]
  },
  {
   "cell_type": "code",
   "execution_count": 22,
   "metadata": {},
   "outputs": [],
   "source": [
    "path_TrainGroundTruth = \"SignatureObjectDetection\\TrainGroundTruth\"\n",
    "path_TestGroundTruth = \"SignatureObjectDetection\\TestGroundTruth\""
   ]
  },
  {
   "cell_type": "code",
   "execution_count": 23,
   "metadata": {},
   "outputs": [],
   "source": [
    "modify_folder_data(path_TrainGroundTruth, \"SignatureObjectDetection/TrainGroundTruth_Modified\")\n",
    "modify_folder_data(path_TestGroundTruth, \"SignatureObjectDetection/TestGroundTruth_Modified\")"
   ]
  }
 ],
 "metadata": {
  "kernelspec": {
   "display_name": "Python 3",
   "language": "python",
   "name": "python3"
  },
  "language_info": {
   "codemirror_mode": {
    "name": "ipython",
    "version": 3
   },
   "file_extension": ".py",
   "mimetype": "text/x-python",
   "name": "python",
   "nbconvert_exporter": "python",
   "pygments_lexer": "ipython3",
   "version": "3.8.0"
  },
  "orig_nbformat": 4,
  "vscode": {
   "interpreter": {
    "hash": "ccec89b7e0666a9cec2e13a7e8e1ed9e86faa836657450a203beb7cbd43e27c3"
   }
  }
 },
 "nbformat": 4,
 "nbformat_minor": 2
}
