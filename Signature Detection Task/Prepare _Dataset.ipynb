{
 "cells": [
  {
   "attachments": {},
   "cell_type": "markdown",
   "metadata": {},
   "source": [
    "# Prepare Dataset For YOLOv7 "
   ]
  },
  {
   "attachments": {},
   "cell_type": "markdown",
   "metadata": {},
   "source": [
    "* `X1`,`Y1`,`X2`,`Y2` -> **Data format**\n",
    "\n",
    "* `class_label`,`x_center`,`y_center`,`width`,`height` -> **target format**"
   ]
  },
  {
   "cell_type": "code",
   "execution_count": 50,
   "metadata": {},
   "outputs": [],
   "source": [
    "import os\n",
    "from math import sqrt"
   ]
  },
  {
   "cell_type": "code",
   "execution_count": 51,
   "metadata": {},
   "outputs": [],
   "source": [
    "def clear_file_Content(fileContent):\n",
    "    content_list = []\n",
    "    # Clear the file content\n",
    "    for file in fileContent:\n",
    "        content_list.append(file.strip('\\n'))\n",
    "        \n",
    "    return content_list"
   ]
  },
  {
   "cell_type": "code",
   "execution_count": 52,
   "metadata": {},
   "outputs": [],
   "source": [
    "from PIL import Image\n",
    "import os.path"
   ]
  },
  {
   "cell_type": "code",
   "execution_count": 53,
   "metadata": {},
   "outputs": [],
   "source": [
    "def modify_folder_data(path,path_image, folder_path):\n",
    "    for filename in filter(lambda p: p.endswith(\"txt\"), os.listdir(path)):\n",
    "        filepath = os.path.join(path, filename)\n",
    "        with open(filepath, mode='r+') as f:\n",
    "            fileContent = f.readlines()\n",
    "            cleaned_file_content = clear_file_Content(fileContent)\n",
    "            new_lines = []\n",
    "            #img_name = filename.split('.')[0]\n",
    "            #img = Image.open(f\"{path_image}/{img_name}.tif\")\n",
    "            #print(img.size)\n",
    "            for line in cleaned_file_content:\n",
    "                xs = line.split(',')\n",
    "                xs = [float(i) for i in xs]\n",
    "                # xs[0]= x1 xs[1]= y1 xs[2]= x2 xs[3]= y2\n",
    "        \n",
    "                xmin = xs[0]\n",
    "                ymin = xs[1]\n",
    "                xmax = xs[2]\n",
    "                ymax = xs[3]\n",
    "                \n",
    "                width = abs(xmax-xmin)\n",
    "                height = abs(ymax-ymin)\n",
    "                x_center = (xmin+xmax) / 2\n",
    "                y_center = (ymin+ymax) / 2\n",
    "\n",
    "                width /= 1000 \n",
    "                height /= 1000\n",
    "                x_center /= 1000\n",
    "                y_center /= 1000\n",
    "                \n",
    "                #print(f\"width: {width} height: {height} x_center: {x_center} y_center: {y_center}\")\n",
    "                \n",
    "                new_format = [0,x_center,y_center,width,height]\n",
    "                new_format_string = ' '.join(str(item) for item in new_format)\n",
    "                new_lines.append(new_format_string)\n",
    "            with open(f\"{folder_path}/{filename}\", \"w\") as created_file:\n",
    "                for line in new_lines:\n",
    "                    created_file.write(\"%s\\n\" % line)\n",
    "                "
   ]
  },
  {
   "cell_type": "code",
   "execution_count": 54,
   "metadata": {},
   "outputs": [],
   "source": [
    "path_TrainGroundTruth = \"SignatureObjectDetection\\TrainGroundTruth\"\n",
    "path_TestGroundTruth = \"SignatureObjectDetection\\TestGroundTruth\"\n",
    "path_image_train = \"SignatureObjectDetection\\TrainImages\"\n",
    "path_image_test = \"SignatureObjectDetection\\TestImages\""
   ]
  },
  {
   "cell_type": "code",
   "execution_count": 55,
   "metadata": {},
   "outputs": [],
   "source": [
    "modify_folder_data(path_TrainGroundTruth,path_image_train, \"SignatureObjectDetection/Data/Train/labels/\")\n",
    "modify_folder_data(path_TestGroundTruth,path_image_test, \"SignatureObjectDetection/Data/Test/labels/\")"
   ]
  },
  {
   "attachments": {},
   "cell_type": "markdown",
   "metadata": {},
   "source": [
    "# Resize All Images"
   ]
  },
  {
   "cell_type": "code",
   "execution_count": 56,
   "metadata": {},
   "outputs": [
    {
     "name": "stderr",
     "output_type": "stream",
     "text": [
      "C:\\Users\\Ahmed\\AppData\\Local\\Temp\\ipykernel_20388\\2820256537.py:13: DeprecationWarning: ANTIALIAS is deprecated and will be removed in Pillow 10 (2023-07-01). Use Resampling.LANCZOS instead.\n",
      "  imResize = im.resize((1024,1024), Image.ANTIALIAS)\n"
     ]
    }
   ],
   "source": [
    "from PIL import Image                                              \n",
    "import os, sys                       \n",
    "\n",
    "path = \"SignatureObjectDetection\\\\TestImages\\\\\"\n",
    "dirs = os.listdir( path )                                       \n",
    "\n",
    "def resize():\n",
    "    for item in dirs:\n",
    "        if os.path.isfile(path+item):\n",
    "            #print(item)\n",
    "            im = Image.open(path+item)\n",
    "            #f, e = os.path.splitext(path+item)\n",
    "            imResize = im.resize((1024,1024), Image.ANTIALIAS)\n",
    "            imResize.save(f\"SignatureObjectDetection/Data/Test/images/{item}\")\n",
    "\n",
    "resize()"
   ]
  },
  {
   "cell_type": "code",
   "execution_count": 57,
   "metadata": {},
   "outputs": [
    {
     "name": "stderr",
     "output_type": "stream",
     "text": [
      "C:\\Users\\Ahmed\\AppData\\Local\\Temp\\ipykernel_20388\\3453852455.py:12: DeprecationWarning: ANTIALIAS is deprecated and will be removed in Pillow 10 (2023-07-01). Use Resampling.LANCZOS instead.\n",
      "  imResize = im.resize((1024,1024), Image.ANTIALIAS)\n"
     ]
    }
   ],
   "source": [
    "from PIL import Image                                              \n",
    "import os, sys                       \n",
    "\n",
    "path = \"SignatureObjectDetection\\\\TrainImages\\\\\"\n",
    "dirs = os.listdir( path )                                       \n",
    "\n",
    "def resize():\n",
    "    for item in dirs:\n",
    "        if os.path.isfile(path+item):\n",
    "            im = Image.open(path+item)\n",
    "            #f, e = os.path.splitext(path+item)\n",
    "            imResize = im.resize((1024,1024), Image.ANTIALIAS)\n",
    "            imResize.save(f\"SignatureObjectDetection/Data/Train/images/{item}\")\n",
    "\n",
    "resize()"
   ]
  },
  {
   "attachments": {},
   "cell_type": "markdown",
   "metadata": {},
   "source": [
    "# Split Data into Train Validation sets"
   ]
  },
  {
   "cell_type": "code",
   "execution_count": 58,
   "metadata": {},
   "outputs": [],
   "source": [
    "path = \"SignatureObjectDetection\\Data\\Train\\labels\\\\\"\n",
    "all_names = []\n",
    "for filename in filter(lambda p: p.endswith(\"txt\"), os.listdir(path)):\n",
    "    all_names.append(filename.split('.')[0])"
   ]
  },
  {
   "cell_type": "code",
   "execution_count": 59,
   "metadata": {},
   "outputs": [
    {
     "data": {
      "text/plain": [
       "132"
      ]
     },
     "execution_count": 59,
     "metadata": {},
     "output_type": "execute_result"
    }
   ],
   "source": [
    "req = len(all_names)//5\n",
    "req"
   ]
  },
  {
   "cell_type": "code",
   "execution_count": 60,
   "metadata": {},
   "outputs": [],
   "source": [
    "import random"
   ]
  },
  {
   "cell_type": "code",
   "execution_count": 61,
   "metadata": {},
   "outputs": [
    {
     "data": {
      "text/plain": [
       "['197', '21', '373', '171', '97', '581', '158', '184', '129', '586']"
      ]
     },
     "execution_count": 61,
     "metadata": {},
     "output_type": "execute_result"
    }
   ],
   "source": [
    "selected_names = random.sample(all_names,req )\n",
    "selected_names[:10]"
   ]
  },
  {
   "cell_type": "code",
   "execution_count": 62,
   "metadata": {},
   "outputs": [],
   "source": [
    "import shutil"
   ]
  },
  {
   "cell_type": "code",
   "execution_count": 63,
   "metadata": {},
   "outputs": [],
   "source": [
    "def train_validate_split_groundTruth(path):\n",
    "    for filename in filter(lambda p: p.endswith(\"txt\"), os.listdir(path)):\n",
    "        if selected_names.__contains__(filename.split('.')[0]):\n",
    "            filepath = os.path.join(path, filename) \n",
    "            shutil.move(filepath, f\"SignatureObjectDetection/Data/Validation/labels/{filename}\")\n",
    "        \n",
    "        \n",
    "def train_validate_split_images(path):\n",
    "    for filename in filter(lambda p: p.endswith(\"tif\"), os.listdir(path)):\n",
    "        if selected_names.__contains__(filename.split('.')[0]):\n",
    "            filepath = os.path.join(path, filename) \n",
    "            shutil.move(filepath, f\"SignatureObjectDetection/Data/Validation/images/{filename}\")\n",
    "        \n",
    "        \n",
    "train_validate_split_groundTruth(\"SignatureObjectDetection\\\\Data\\\\Train\\\\labels\")     \n",
    "train_validate_split_images(\"SignatureObjectDetection\\\\Data\\\\Train\\\\images\")"
   ]
  },
  {
   "cell_type": "code",
   "execution_count": null,
   "metadata": {},
   "outputs": [],
   "source": []
  },
  {
   "cell_type": "code",
   "execution_count": null,
   "metadata": {},
   "outputs": [],
   "source": []
  }
 ],
 "metadata": {
  "kernelspec": {
   "display_name": "Python 3",
   "language": "python",
   "name": "python3"
  },
  "language_info": {
   "codemirror_mode": {
    "name": "ipython",
    "version": 3
   },
   "file_extension": ".py",
   "mimetype": "text/x-python",
   "name": "python",
   "nbconvert_exporter": "python",
   "pygments_lexer": "ipython3",
   "version": "3.9.15 | packaged by conda-forge | (main, Nov 22 2022, 08:41:22) [MSC v.1929 64 bit (AMD64)]"
  },
  "orig_nbformat": 4,
  "vscode": {
   "interpreter": {
    "hash": "ab6f883ecb77f928ca77f90f0ca33870fc672b36a073ea12ce8fa314a36c0006"
   }
  }
 },
 "nbformat": 4,
 "nbformat_minor": 2
}
