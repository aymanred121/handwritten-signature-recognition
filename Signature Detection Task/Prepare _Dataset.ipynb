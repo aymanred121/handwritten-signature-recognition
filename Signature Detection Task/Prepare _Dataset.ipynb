{
 "cells": [
  {
   "attachments": {},
   "cell_type": "markdown",
   "metadata": {},
   "source": [
    "# Prepare Dataset For YOLOv7 "
   ]
  },
  {
   "attachments": {},
   "cell_type": "markdown",
   "metadata": {},
   "source": [
    "* `X1`,`Y1`,`X2`,`Y2` -> **Data format**\n",
    "\n",
    "* `class_label`,`x_center`,`y_center`,`width`,`height` -> **target format**"
   ]
  },
  {
   "cell_type": "code",
   "execution_count": 8,
   "metadata": {},
   "outputs": [],
   "source": [
    "import os\n",
    "from math import sqrt"
   ]
  },
  {
   "cell_type": "code",
   "execution_count": 9,
   "metadata": {},
   "outputs": [],
   "source": [
    "def clear_file_Content(fileContent):\n",
    "    content_list = []\n",
    "    # Clear the file content\n",
    "    for file in fileContent:\n",
    "        content_list.append(file.strip('\\n'))\n",
    "        \n",
    "    return content_list"
   ]
  },
  {
   "cell_type": "code",
   "execution_count": 15,
   "metadata": {},
   "outputs": [],
   "source": [
    "def modify_folder_data(path, folder_path):\n",
    "    for filename in filter(lambda p: p.endswith(\"txt\"), os.listdir(path)):\n",
    "        filepath = os.path.join(path, filename)\n",
    "        with open(filepath, mode='r+') as f:\n",
    "            fileContent = f.readlines()\n",
    "            cleaned_file_content = clear_file_Content(fileContent)\n",
    "            new_lines = []\n",
    "            for line in cleaned_file_content:\n",
    "                xs = line.split(',')\n",
    "                xs = [float(i) for i in xs]\n",
    "                # xs[0]= x1 xs[1]= y1 xs[2]= x2 xs[3]= y2\n",
    "                length1 = sqrt(xs[0]**2 + xs[1]**2)\n",
    "                length2 = sqrt(xs[2]**2 + xs[3]**2)\n",
    "                xs[0] = xs[0] / length1\n",
    "                xs[1] = xs[1] / length1\n",
    "                xs[2] = xs[2] / length2\n",
    "                xs[3] = xs[3] / length2\n",
    "                width = abs(xs[2] - xs[0])\n",
    "                height = abs(xs[3] - xs[1])\n",
    "                x_center = (xs[2]- xs[0]) / 2\n",
    "                y_center = (xs[3] - xs[1]) / 2\n",
    "                new_format = [0,x_center,y_center,width,height]\n",
    "                new_format_string = ' '.join(str(item) for item in new_format)\n",
    "                new_lines.append(new_format_string)\n",
    "            with open(f\"{folder_path}/{filename}\", \"w\") as created_file:\n",
    "                for line in new_lines:\n",
    "                    created_file.write(\"%s\\n\" % line)\n",
    "                "
   ]
  },
  {
   "cell_type": "code",
   "execution_count": 16,
   "metadata": {},
   "outputs": [],
   "source": [
    "path_TrainGroundTruth = \"SignatureObjectDetection\\TrainGroundTruth\"\n",
    "path_TestGroundTruth = \"SignatureObjectDetection\\TestGroundTruth\""
   ]
  },
  {
   "cell_type": "code",
   "execution_count": 17,
   "metadata": {},
   "outputs": [],
   "source": [
    "modify_folder_data(path_TrainGroundTruth, \"SignatureObjectDetection/Data/Train/labels/\")\n",
    "modify_folder_data(path_TestGroundTruth, \"SignatureObjectDetection/Data/Test/labels/\")"
   ]
  },
  {
   "attachments": {},
   "cell_type": "markdown",
   "metadata": {},
   "source": [
    "# Resize All Images"
   ]
  },
  {
   "cell_type": "code",
   "execution_count": 18,
   "metadata": {},
   "outputs": [
    {
     "name": "stderr",
     "output_type": "stream",
     "text": [
      "C:\\Users\\Ahmed\\AppData\\Local\\Temp\\ipykernel_1356\\3124663361.py:12: DeprecationWarning: ANTIALIAS is deprecated and will be removed in Pillow 10 (2023-07-01). Use Resampling.LANCZOS instead.\n",
      "  imResize = im.resize((640,640), Image.ANTIALIAS)\n"
     ]
    }
   ],
   "source": [
    "from PIL import Image                                              \n",
    "import os, sys                       \n",
    "\n",
    "path = \"SignatureObjectDetection\\\\TestImages\\\\\"\n",
    "dirs = os.listdir( path )                                       \n",
    "\n",
    "def resize():\n",
    "    for item in dirs:\n",
    "        if os.path.isfile(path+item):\n",
    "            im = Image.open(path+item)\n",
    "            #f, e = os.path.splitext(path+item)\n",
    "            imResize = im.resize((640,640), Image.ANTIALIAS)\n",
    "            imResize.save(f\"SignatureObjectDetection/Data/Test/images/{item}\")\n",
    "\n",
    "resize()"
   ]
  },
  {
   "cell_type": "code",
   "execution_count": 19,
   "metadata": {},
   "outputs": [
    {
     "name": "stderr",
     "output_type": "stream",
     "text": [
      "C:\\Users\\Ahmed\\AppData\\Local\\Temp\\ipykernel_1356\\1231572356.py:12: DeprecationWarning: ANTIALIAS is deprecated and will be removed in Pillow 10 (2023-07-01). Use Resampling.LANCZOS instead.\n",
      "  imResize = im.resize((640,640), Image.ANTIALIAS)\n"
     ]
    }
   ],
   "source": [
    "from PIL import Image                                              \n",
    "import os, sys                       \n",
    "\n",
    "path = \"SignatureObjectDetection\\\\TrainImages\\\\\"\n",
    "dirs = os.listdir( path )                                       \n",
    "\n",
    "def resize():\n",
    "    for item in dirs:\n",
    "        if os.path.isfile(path+item):\n",
    "            im = Image.open(path+item)\n",
    "            #f, e = os.path.splitext(path+item)\n",
    "            imResize = im.resize((640,640), Image.ANTIALIAS)\n",
    "            imResize.save(f\"SignatureObjectDetection/Data/Train/images/{item}\")\n",
    "\n",
    "resize()"
   ]
  },
  {
   "attachments": {},
   "cell_type": "markdown",
   "metadata": {},
   "source": [
    "# Split Data into Train Validation sets"
   ]
  },
  {
   "cell_type": "code",
   "execution_count": 20,
   "metadata": {},
   "outputs": [],
   "source": [
    "path = \"SignatureObjectDetection\\Data\\Train\\labels\\\\\"\n",
    "all_names = []\n",
    "for filename in filter(lambda p: p.endswith(\"txt\"), os.listdir(path)):\n",
    "    all_names.append(filename.split('.')[0])"
   ]
  },
  {
   "cell_type": "code",
   "execution_count": 21,
   "metadata": {},
   "outputs": [
    {
     "data": {
      "text/plain": [
       "132"
      ]
     },
     "execution_count": 21,
     "metadata": {},
     "output_type": "execute_result"
    }
   ],
   "source": [
    "req = len(all_names)//5\n",
    "req"
   ]
  },
  {
   "cell_type": "code",
   "execution_count": 22,
   "metadata": {},
   "outputs": [],
   "source": [
    "import random"
   ]
  },
  {
   "cell_type": "code",
   "execution_count": 23,
   "metadata": {},
   "outputs": [
    {
     "data": {
      "text/plain": [
       "['463', '377', '34', '132', '192', '233', '608', '6', '597', '303']"
      ]
     },
     "execution_count": 23,
     "metadata": {},
     "output_type": "execute_result"
    }
   ],
   "source": [
    "selected_names = random.sample(all_names,req )\n",
    "selected_names[:10]"
   ]
  },
  {
   "cell_type": "code",
   "execution_count": 24,
   "metadata": {},
   "outputs": [],
   "source": [
    "import shutil"
   ]
  },
  {
   "cell_type": "code",
   "execution_count": 25,
   "metadata": {},
   "outputs": [],
   "source": [
    "def train_validate_split_groundTruth(path):\n",
    "    for filename in filter(lambda p: p.endswith(\"txt\"), os.listdir(path)):\n",
    "        if selected_names.__contains__(filename.split('.')[0]):\n",
    "            filepath = os.path.join(path, filename) \n",
    "            shutil.move(filepath, f\"SignatureObjectDetection/Data/Validation/labels/{filename}\")\n",
    "        \n",
    "        \n",
    "def train_validate_split_images(path):\n",
    "    for filename in filter(lambda p: p.endswith(\"tif\"), os.listdir(path)):\n",
    "        if selected_names.__contains__(filename.split('.')[0]):\n",
    "            filepath = os.path.join(path, filename) \n",
    "            shutil.move(filepath, f\"SignatureObjectDetection/Data/Validation/images/{filename}\")\n",
    "        \n",
    "        \n",
    "train_validate_split_groundTruth(\"SignatureObjectDetection\\\\Data\\\\Train\\\\labels\")     \n",
    "train_validate_split_images(\"SignatureObjectDetection\\\\Data\\\\Train\\\\images\")"
   ]
  },
  {
   "cell_type": "code",
   "execution_count": null,
   "metadata": {},
   "outputs": [],
   "source": []
  }
 ],
 "metadata": {
  "kernelspec": {
   "display_name": "Python 3",
   "language": "python",
   "name": "python3"
  },
  "language_info": {
   "codemirror_mode": {
    "name": "ipython",
    "version": 3
   },
   "file_extension": ".py",
   "mimetype": "text/x-python",
   "name": "python",
   "nbconvert_exporter": "python",
   "pygments_lexer": "ipython3",
   "version": "3.8.0"
  },
  "orig_nbformat": 4,
  "vscode": {
   "interpreter": {
    "hash": "ccec89b7e0666a9cec2e13a7e8e1ed9e86faa836657450a203beb7cbd43e27c3"
   }
  }
 },
 "nbformat": 4,
 "nbformat_minor": 2
}
